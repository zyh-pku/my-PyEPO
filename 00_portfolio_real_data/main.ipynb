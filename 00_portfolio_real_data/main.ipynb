{
 "cells": [
  {
   "cell_type": "code",
   "execution_count": 1,
   "metadata": {},
   "outputs": [
    {
     "name": "stdout",
     "output_type": "stream",
     "text": [
      "Using device: cuda\n",
      "GPU: NVIDIA A100 80GB PCIe MIG 1g.10gb\n",
      "Set parameter LicenseID to value 197246\n",
      "Set parameter GURO_PAR_SPECIAL\n",
      "Set parameter TokenServer to value \"license.rc.princeton.edu\"\n"
     ]
    }
   ],
   "source": [
    "%load_ext autoreload\n",
    "%autoreload 2\n",
    "from config import MARKET_MODEL_DIR,MARKET_MODEL_DIR_TESTING\n",
    "from model_factory import build_market_neutral_model, build_market_neutral_model_testing\n",
    "import pickle\n",
    "with open(MARKET_MODEL_DIR, \"rb\") as f:\n",
    "    params = pickle.load(f)\n",
    "\n",
    "with open(MARKET_MODEL_DIR_TESTING, \"rb\") as f:\n",
    "    params_testing = pickle.load(f)\n",
    "    \n",
    "import os\n",
    "#个人许可证\n",
    "#os.environ['GRB_LICENSE_FILE'] = os.path.expanduser(\"~/gurobi/gurobi.lic\")\n",
    "\n",
    "\n",
    "# ## 系统Gurobi\n",
    "os.environ['GUROBI_HOME'] = '/usr/licensed/gurobi/12.0.0/linux64'\n",
    "os.environ['GRB_LICENSE_FILE'] = '/usr/licensed/gurobi/license/gurobi.lic'\n",
    "\n",
    "# 清除个人WLS许可证\n",
    "for var in ['WLSACCESSID', 'WLSSECRET']:\n",
    "    if var in os.environ:\n",
    "        del os.environ[var]\n",
    "\n",
    "model = build_market_neutral_model(**params)\n",
    "model_testing= build_market_neutral_model_testing(**params_testing)"
   ]
  },
  {
   "cell_type": "code",
   "execution_count": 2,
   "metadata": {},
   "outputs": [
    {
     "name": "stdout",
     "output_type": "stream",
     "text": [
      "{'N': 7, 'A': array([[1., 1., 1., 1., 1., 1., 1.]]), 'b': array([0.]), 'l': array([0., 0., 0., 0., 0., 0., 0.]), 'u': array([1000000., 1000000., 1000000., 1000000., 1000000., 1000000.,\n",
      "       1000000.]), 'risk_f': array([0.35320865, 0.42288222, 0.37707359, 0.35261655, 0.41933761,\n",
      "       0.32860565, 0.38218537]), 'risk_abs': 1.5, 'single_abs': 0.1, 'l1_abs': 1.0, 'cov_matrix': array([[4.67496276e-05, 4.15905709e-05, 3.60928100e-05, 3.48342604e-05,\n",
      "        4.16919822e-05, 3.34891585e-05, 3.66772287e-05],\n",
      "       [4.15905709e-05, 5.97804688e-05, 4.37975936e-05, 4.19857337e-05,\n",
      "        5.10524222e-05, 3.90648444e-05, 4.49568886e-05],\n",
      "       [3.60928100e-05, 4.37975936e-05, 5.26604548e-05, 3.92702956e-05,\n",
      "        4.44118365e-05, 3.45134604e-05, 3.79007596e-05],\n",
      "       [3.48342604e-05, 4.19857337e-05, 3.92702956e-05, 4.25771017e-05,\n",
      "        4.21567423e-05, 3.38763419e-05, 3.56807453e-05],\n",
      "       [4.16919822e-05, 5.10524222e-05, 4.44118365e-05, 4.21567423e-05,\n",
      "        5.69786874e-05, 3.93194085e-05, 4.43441724e-05],\n",
      "       [3.34891585e-05, 3.90648444e-05, 3.45134604e-05, 3.38763419e-05,\n",
      "        3.93194085e-05, 3.83241775e-05, 3.39340812e-05],\n",
      "       [3.66772287e-05, 4.49568886e-05, 3.79007596e-05, 3.56807453e-05,\n",
      "        4.43441724e-05, 3.39340812e-05, 5.84057733e-05]]), 'sigma_abs': 2.5, 'turnover': 0.5}\n"
     ]
    }
   ],
   "source": [
    "print( params_testing)"
   ]
  },
  {
   "cell_type": "code",
   "execution_count": 3,
   "metadata": {},
   "outputs": [
    {
     "name": "stdout",
     "output_type": "stream",
     "text": [
      ">>> Precomputed mode enabled. Skipping time series processing and solution computation.\n",
      ">>> Precomputed mode enabled. Skipping time series processing and solution computation.\n"
     ]
    }
   ],
   "source": [
    "from io_utils import load_dataset_dict, create_dataset_from_dict\n",
    "from config import DATASET_DICT_PATH, TEST_DATASET_DICT_PATH\n",
    "dataset_dict = load_dataset_dict(DATASET_DICT_PATH)\n",
    "dataset_train = create_dataset_from_dict(dataset_dict, model)\n",
    "test_dataset_dict = load_dataset_dict(TEST_DATASET_DICT_PATH)\n",
    "dataset_test = create_dataset_from_dict(test_dataset_dict, model)"
   ]
  },
  {
   "cell_type": "code",
   "execution_count": 4,
   "metadata": {},
   "outputs": [
    {
     "name": "stdout",
     "output_type": "stream",
     "text": [
      "The autoreload extension is already loaded. To reload it, use:\n",
      "  %reload_ext autoreload\n",
      "Seed set to 42\n",
      "Model architecture:\n",
      "lstm.weight_ih_l0              | Shape: torch.Size([256, 21]) | Parameters: 5376 | require_grad: True\n",
      "Mean Value: -0.00018090897356159985 | Grad: None\n",
      "--------------------------------------------------------------------------------\n",
      "lstm.weight_hh_l0              | Shape: torch.Size([256, 64]) | Parameters: 16384 | require_grad: True\n",
      "Mean Value: -0.0004572543257381767 | Grad: None\n",
      "--------------------------------------------------------------------------------\n",
      "lstm.bias_ih_l0                | Shape: torch.Size([256]) | Parameters: 256 | require_grad: True\n",
      "Mean Value: 0.006879021879285574 | Grad: None\n",
      "--------------------------------------------------------------------------------\n",
      "lstm.bias_hh_l0                | Shape: torch.Size([256]) | Parameters: 256 | require_grad: True\n",
      "Mean Value: 0.006068169604986906 | Grad: None\n",
      "--------------------------------------------------------------------------------\n",
      "fc_layers.0.weight             | Shape: torch.Size([64]) | Parameters: 64 | require_grad: True\n",
      "Mean Value: 1.0 | Grad: None\n",
      "--------------------------------------------------------------------------------\n",
      "fc_layers.0.bias               | Shape: torch.Size([64]) | Parameters: 64 | require_grad: True\n",
      "Mean Value: 0.0 | Grad: None\n",
      "--------------------------------------------------------------------------------\n",
      "fc_layers.1.weight             | Shape: torch.Size([32, 64]) | Parameters: 2048 | require_grad: True\n",
      "Mean Value: -0.00021209358237683773 | Grad: None\n",
      "--------------------------------------------------------------------------------\n",
      "fc_layers.1.bias               | Shape: torch.Size([32]) | Parameters: 32 | require_grad: True\n",
      "Mean Value: -0.010356508195400238 | Grad: None\n",
      "--------------------------------------------------------------------------------\n",
      "fc_layers.4.weight             | Shape: torch.Size([1, 32]) | Parameters: 32 | require_grad: True\n",
      "Mean Value: 0.01477556861937046 | Grad: None\n",
      "--------------------------------------------------------------------------------\n",
      "fc_layers.4.bias               | Shape: torch.Size([1]) | Parameters: 1 | require_grad: True\n",
      "Mean Value: 0.16345524787902832 | Grad: None\n",
      "--------------------------------------------------------------------------------\n"
     ]
    }
   ],
   "source": [
    "%load_ext autoreload\n",
    "%autoreload 2\n",
    "from config import K, HIDDEN_DIM, LSTM_HIDDEN_DIM, DROPOUT_RATE, DEVICE\n",
    "from architecture import TwoLayerLSTM\n",
    "from seed import set_seed\n",
    "\n",
    "set_seed(42)\n",
    "lstm = TwoLayerLSTM(k=K, hidden_dim=HIDDEN_DIM, lstm_hidden_dim=LSTM_HIDDEN_DIM, dropout_rate=DROPOUT_RATE).to(DEVICE)\n",
    "print(\"Model architecture:\")\n",
    "for name, param in lstm.named_parameters():\n",
    "    print(f\"{name:30s} | Shape: {param.data.shape} | Parameters: {param.numel()} | require_grad: {param.requires_grad}\")\n",
    "    print(f\"Mean Value: {param.data.mean()} | Grad: {param.grad}\")\n",
    "    print(\"-\" * 80)"
   ]
  },
  {
   "cell_type": "code",
   "execution_count": 5,
   "metadata": {},
   "outputs": [],
   "source": [
    "from data_loader import get_data_loaders\n",
    "# 创建 Subset 类\n",
    "from torch.utils.data import DataLoader\n",
    "from config import BATCH_SIZE\n",
    "# 假设 dataset_train, dataset_test 都是 optDataset 的实例\n",
    "loader_train = DataLoader(dataset_train, batch_size=BATCH_SIZE, shuffle=True, num_workers=0)\n",
    "loader_test  = DataLoader(dataset_test,  batch_size=BATCH_SIZE, shuffle=False, num_workers=0)\n",
    "\n",
    "loader_train, loader_test = get_data_loaders(dataset_train, dataset_test)\n",
    "\n",
    "loss_log=[]\n",
    "loss_log_regret=[]"
   ]
  },
  {
   "cell_type": "raw",
   "metadata": {},
   "source": [
    "from train import trainModel_with_log\n",
    "from config import NUM_EPOCHS, BATCH_SIZE, LR, LSTM_SAVE_DIR\n",
    "import os\n",
    "os.makedirs(LSTM_SAVE_DIR, exist_ok=True)   \n",
    "import pyepo\n",
    "import torch \n",
    "# 创建带时间戳的实验目录\n",
    "timestamp = datetime.now().strftime(\"%Y%m%d_%H%M%S\")\n",
    "experiment_name = f\"spo_plus_experiment_{timestamp}\"\n",
    "log_dir = f\"./logs/{experiment_name}\"\n",
    "print(f\"实验名称: {experiment_name}\")\n",
    "print(f\"TensorBoard日志目录: {log_dir}\")\n",
    "\n",
    "set_seed(42)\n",
    "\n",
    "spop = pyepo.func.SPOPlus(model)\n",
    "loss_log, loss_log_regret = trainModel_with_log(\n",
    "    lstm, \n",
    "    loss_func=spop, \n",
    "    method_name=\"spo+\",\n",
    "    loader_train=loader_train,\n",
    "    loader_test=loader_test,\n",
    "    market_neutral_model=model,\n",
    "    params_testing=params_testing,\n",
    "    loss_log=loss_log, \n",
    "    loss_log_regret=loss_log_regret,\n",
    "    num_epochs=NUM_EPOCHS,  # Increased for better convergence\n",
    "    lr=LR,\n",
    "    initial=True,# Adjusted learning rate\n",
    "    scaler=True,\n",
    "    tensorboard_log_dir=log_dir  # 使用我们创建的目录\n",
    ")\n",
    "\n",
    "# =============================================================================\n",
    "# 启动TensorBoard查看结果\n",
    "# =============================================================================\n",
    "\n",
    "# 方法1: 使用魔法命令（推荐）\n",
    "%tensorboard --logdir $log_dir\n",
    "\n",
    "# 或者方法2: 使用notebook.start()\n",
    "# notebook.start(\"--logdir \" + log_dir)\n",
    "\n",
    "print(\"\\n训练完成！TensorBoard已启动，您可以在上方查看训练曲线。\")\n",
    "print(f\"如果TensorBoard没有显示，请运行: %tensorboard --logdir {log_dir}\")\n",
    "\n",
    "lstm_save_path = os.path.join(LSTM_SAVE_DIR, \"trial_7_assets.pt\")\n",
    "torch.save({\n",
    "    'model_state_dict': lstm.state_dict(),\n",
    "    'loss_log': loss_log,\n",
    "    'loss_log_regret': loss_log_regret\n",
    "}, lstm_save_path)\n",
    "\n",
    "print(f\"模型参数已保存到 {lstm_save_path}\")"
   ]
  },
  {
   "cell_type": "code",
   "execution_count": 6,
   "metadata": {},
   "outputs": [
    {
     "name": "stdout",
     "output_type": "stream",
     "text": [
      "Seed set to 42\n",
      "Num of cores: 1\n"
     ]
    },
    {
     "name": "stderr",
     "output_type": "stream",
     "text": [
      "Testing Regret: 3276batch [00:26, 124.91batch/s]\n"
     ]
    },
    {
     "name": "stdout",
     "output_type": "stream",
     "text": [
      "Initial regret: 93.5553%\n"
     ]
    },
    {
     "name": "stderr",
     "output_type": "stream",
     "text": [
      "Epoch 1/3: 100%|██████████| 13101/13101 [01:56<00:00, 112.16it/s, loss=0.0000, batch time=0.0065s] \n",
      "Testing Regret: 3276batch [00:26, 123.11batch/s]\n"
     ]
    },
    {
     "name": "stdout",
     "output_type": "stream",
     "text": [
      "Epoch 1: Loss=-0.000000, Regret=90.8967%, Time=143.43s\n"
     ]
    },
    {
     "name": "stderr",
     "output_type": "stream",
     "text": [
      "Epoch 2/3: 100%|██████████| 13101/13101 [01:57<00:00, 111.17it/s, loss=0.0000, batch time=0.0064s] \n",
      "Testing Regret: 3276batch [00:26, 122.29batch/s]\n"
     ]
    },
    {
     "name": "stdout",
     "output_type": "stream",
     "text": [
      "Epoch 2: Loss=-0.000000, Regret=89.4562%, Time=144.64s\n"
     ]
    },
    {
     "name": "stderr",
     "output_type": "stream",
     "text": [
      "Epoch 3/3: 100%|██████████| 13101/13101 [01:56<00:00, 112.32it/s, loss=0.0000, batch time=0.0065s] \n",
      "Testing Regret: 3276batch [00:25, 127.36batch/s]"
     ]
    },
    {
     "name": "stdout",
     "output_type": "stream",
     "text": [
      "Epoch 3: Loss=0.000000, Regret=91.4303%, Time=142.37s\n",
      "Total training time: 430.45s, Effective computation time: 260.76s\n",
      "模型参数已保存到 ./lstm/trial_7_assets.pt\n"
     ]
    },
    {
     "name": "stderr",
     "output_type": "stream",
     "text": [
      "\n"
     ]
    }
   ],
   "source": [
    "from train import trainModel\n",
    "from config import NUM_EPOCHS, BATCH_SIZE, LR, LSTM_SAVE_DIR\n",
    "import os\n",
    "os.makedirs(LSTM_SAVE_DIR, exist_ok=True)   \n",
    "import pyepo\n",
    "import torch \n",
    "\n",
    "set_seed(42)\n",
    "\n",
    "spop = pyepo.func.SPOPlus(model)\n",
    "loss_log, loss_log_regret = trainModel(\n",
    "    lstm, \n",
    "    loss_func=spop, \n",
    "    method_name=\"spo+\",\n",
    "    loader_train=loader_train,\n",
    "    loader_test=loader_test,\n",
    "    market_neutral_model=model,\n",
    "    params_testing=params_testing,\n",
    "    loss_log=loss_log, \n",
    "    loss_log_regret=loss_log_regret,\n",
    "    num_epochs=NUM_EPOCHS,  # Increased for better convergence\n",
    "    lr=LR,\n",
    "    initial=True,# Adjusted learning rate,\n",
    "    scaler= False\n",
    ")\n",
    "\n",
    "lstm_save_path = os.path.join(LSTM_SAVE_DIR, \"trial_7_assets.pt\")\n",
    "torch.save({\n",
    "    'model_state_dict': lstm.state_dict(),\n",
    "    'loss_log': loss_log,\n",
    "    'loss_log_regret': loss_log_regret\n",
    "}, lstm_save_path)\n",
    "\n",
    "print(f\"模型参数已保存到 {lstm_save_path}\")"
   ]
  },
  {
   "cell_type": "code",
   "execution_count": null,
   "metadata": {},
   "outputs": [],
   "source": []
  },
  {
   "cell_type": "code",
   "execution_count": 7,
   "metadata": {},
   "outputs": [
    {
     "name": "stdout",
     "output_type": "stream",
     "text": [
      "第1次训练\n",
      "Seed set to 42\n",
      "Num of cores: 1\n"
     ]
    },
    {
     "name": "stderr",
     "output_type": "stream",
     "text": [
      "Epoch 1/3: 100%|██████████| 13101/13101 [01:52<00:00, 116.16it/s, loss=0.0000, batch time=0.0062s] \n",
      "Testing Regret: 3276batch [00:25, 127.08batch/s]\n"
     ]
    },
    {
     "name": "stdout",
     "output_type": "stream",
     "text": [
      "Epoch 1: Loss=0.000000, Regret=91.2996%, Time=138.57s\n"
     ]
    },
    {
     "name": "stderr",
     "output_type": "stream",
     "text": [
      "Epoch 2/3: 100%|██████████| 13101/13101 [01:53<00:00, 115.82it/s, loss=0.0000, batch time=0.0066s] \n",
      "Testing Regret: 3276batch [00:25, 126.83batch/s]\n"
     ]
    },
    {
     "name": "stdout",
     "output_type": "stream",
     "text": [
      "Epoch 2: Loss=0.000000, Regret=91.2996%, Time=138.96s\n"
     ]
    },
    {
     "name": "stderr",
     "output_type": "stream",
     "text": [
      "Epoch 3/3: 100%|██████████| 13101/13101 [01:53<00:00, 115.92it/s, loss=0.0000, batch time=0.0064s] \n",
      "Testing Regret: 3276batch [00:25, 126.24batch/s]\n"
     ]
    },
    {
     "name": "stdout",
     "output_type": "stream",
     "text": [
      "Epoch 3: Loss=0.000000, Regret=91.2996%, Time=138.98s\n",
      "Total training time: 416.51s, Effective computation time: 248.75s\n",
      "模型参数已保存到 ./lstm/trial_7_assets.pt\n",
      "第2次训练\n",
      "Seed set to 42\n",
      "Num of cores: 1\n"
     ]
    },
    {
     "name": "stderr",
     "output_type": "stream",
     "text": [
      "Epoch 1/3: 100%|██████████| 13101/13101 [01:53<00:00, 115.91it/s, loss=0.0000, batch time=0.0062s] \n",
      "Testing Regret: 3276batch [00:25, 126.06batch/s]\n"
     ]
    },
    {
     "name": "stdout",
     "output_type": "stream",
     "text": [
      "Epoch 1: Loss=0.000000, Regret=91.2996%, Time=139.03s\n"
     ]
    },
    {
     "name": "stderr",
     "output_type": "stream",
     "text": [
      "Epoch 2/3: 100%|██████████| 13101/13101 [01:53<00:00, 115.67it/s, loss=0.0000, batch time=0.0064s] \n",
      "Testing Regret: 3276batch [00:26, 124.72batch/s]\n"
     ]
    },
    {
     "name": "stdout",
     "output_type": "stream",
     "text": [
      "Epoch 2: Loss=0.000000, Regret=91.2996%, Time=139.54s\n"
     ]
    },
    {
     "name": "stderr",
     "output_type": "stream",
     "text": [
      "Epoch 3/3: 100%|██████████| 13101/13101 [01:53<00:00, 115.73it/s, loss=0.0000, batch time=0.0070s] \n",
      "Testing Regret: 3276batch [00:26, 124.95batch/s]\n"
     ]
    },
    {
     "name": "stdout",
     "output_type": "stream",
     "text": [
      "Epoch 3: Loss=0.000000, Regret=91.2996%, Time=139.43s\n",
      "Total training time: 418.00s, Effective computation time: 249.24s\n",
      "模型参数已保存到 ./lstm/trial_7_assets.pt\n",
      "第3次训练\n",
      "Seed set to 42\n",
      "Num of cores: 1\n"
     ]
    },
    {
     "name": "stderr",
     "output_type": "stream",
     "text": [
      "Epoch 1/3: 100%|██████████| 13101/13101 [01:53<00:00, 115.52it/s, loss=0.0000, batch time=0.0064s] \n",
      "Testing Regret: 3276batch [00:26, 125.01batch/s]\n"
     ]
    },
    {
     "name": "stdout",
     "output_type": "stream",
     "text": [
      "Epoch 1: Loss=0.000000, Regret=91.2996%, Time=139.63s\n"
     ]
    },
    {
     "name": "stderr",
     "output_type": "stream",
     "text": [
      "Epoch 2/3: 100%|██████████| 13101/13101 [01:53<00:00, 115.39it/s, loss=0.0000, batch time=0.0063s] \n",
      "Testing Regret: 3276batch [00:26, 123.49batch/s]\n"
     ]
    },
    {
     "name": "stdout",
     "output_type": "stream",
     "text": [
      "Epoch 2: Loss=0.000000, Regret=91.2996%, Time=140.07s\n"
     ]
    },
    {
     "name": "stderr",
     "output_type": "stream",
     "text": [
      "Epoch 3/3: 100%|██████████| 13101/13101 [01:53<00:00, 115.41it/s, loss=0.0000, batch time=0.0069s] \n",
      "Testing Regret: 3276batch [00:26, 124.17batch/s]\n"
     ]
    },
    {
     "name": "stdout",
     "output_type": "stream",
     "text": [
      "Epoch 3: Loss=0.000000, Regret=91.2996%, Time=139.92s\n",
      "Total training time: 419.62s, Effective computation time: 250.19s\n",
      "模型参数已保存到 ./lstm/trial_7_assets.pt\n",
      "第4次训练\n",
      "Seed set to 42\n",
      "Num of cores: 1\n"
     ]
    },
    {
     "name": "stderr",
     "output_type": "stream",
     "text": [
      "Epoch 1/3:   5%|▍         | 646/13101 [00:05<01:44, 119.58it/s, loss=0.0000, batch time=0.0061s] \n"
     ]
    },
    {
     "ename": "KeyboardInterrupt",
     "evalue": "",
     "output_type": "error",
     "traceback": [
      "\u001b[31m---------------------------------------------------------------------------\u001b[39m",
      "\u001b[31mKeyboardInterrupt\u001b[39m                         Traceback (most recent call last)",
      "\u001b[36mCell\u001b[39m\u001b[36m \u001b[39m\u001b[32mIn[7]\u001b[39m\u001b[32m, line 15\u001b[39m\n\u001b[32m     12\u001b[39m set_seed(\u001b[32m42\u001b[39m)\n\u001b[32m     14\u001b[39m spop = pyepo.func.SPOPlus(model)\n\u001b[32m---> \u001b[39m\u001b[32m15\u001b[39m loss_log, loss_log_regret = \u001b[43mtrainModel\u001b[49m\u001b[43m(\u001b[49m\n\u001b[32m     16\u001b[39m \u001b[43m    \u001b[49m\u001b[43mlstm\u001b[49m\u001b[43m,\u001b[49m\u001b[43m \u001b[49m\n\u001b[32m     17\u001b[39m \u001b[43m    \u001b[49m\u001b[43mloss_func\u001b[49m\u001b[43m=\u001b[49m\u001b[43mspop\u001b[49m\u001b[43m,\u001b[49m\u001b[43m \u001b[49m\n\u001b[32m     18\u001b[39m \u001b[43m    \u001b[49m\u001b[43mmethod_name\u001b[49m\u001b[43m=\u001b[49m\u001b[33;43m\"\u001b[39;49m\u001b[33;43mspo+\u001b[39;49m\u001b[33;43m\"\u001b[39;49m\u001b[43m,\u001b[49m\n\u001b[32m     19\u001b[39m \u001b[43m    \u001b[49m\u001b[43mloader_train\u001b[49m\u001b[43m=\u001b[49m\u001b[43mloader_train\u001b[49m\u001b[43m,\u001b[49m\n\u001b[32m     20\u001b[39m \u001b[43m    \u001b[49m\u001b[43mloader_test\u001b[49m\u001b[43m=\u001b[49m\u001b[43mloader_test\u001b[49m\u001b[43m,\u001b[49m\n\u001b[32m     21\u001b[39m \u001b[43m    \u001b[49m\u001b[43mmarket_neutral_model\u001b[49m\u001b[43m=\u001b[49m\u001b[43mmodel\u001b[49m\u001b[43m,\u001b[49m\n\u001b[32m     22\u001b[39m \u001b[43m    \u001b[49m\u001b[43mparams_testing\u001b[49m\u001b[43m=\u001b[49m\u001b[43mparams_testing\u001b[49m\u001b[43m,\u001b[49m\n\u001b[32m     23\u001b[39m \u001b[43m    \u001b[49m\u001b[43mloss_log\u001b[49m\u001b[43m=\u001b[49m\u001b[43mloss_log\u001b[49m\u001b[43m,\u001b[49m\u001b[43m \u001b[49m\n\u001b[32m     24\u001b[39m \u001b[43m    \u001b[49m\u001b[43mloss_log_regret\u001b[49m\u001b[43m=\u001b[49m\u001b[43mloss_log_regret\u001b[49m\u001b[43m,\u001b[49m\n\u001b[32m     25\u001b[39m \u001b[43m    \u001b[49m\u001b[43mnum_epochs\u001b[49m\u001b[43m=\u001b[49m\u001b[43mNUM_EPOCHS\u001b[49m\u001b[43m,\u001b[49m\u001b[43m  \u001b[49m\u001b[38;5;66;43;03m# Increased for better convergence\u001b[39;49;00m\n\u001b[32m     26\u001b[39m \u001b[43m    \u001b[49m\u001b[43mlr\u001b[49m\u001b[43m=\u001b[49m\u001b[43mLR\u001b[49m\u001b[43m,\u001b[49m\n\u001b[32m     27\u001b[39m \u001b[43m    \u001b[49m\u001b[43minitial\u001b[49m\u001b[43m=\u001b[49m\u001b[38;5;28;43;01mFalse\u001b[39;49;00m\u001b[38;5;66;43;03m# Adjusted learning rate\u001b[39;49;00m\n\u001b[32m     28\u001b[39m \u001b[43m\u001b[49m\u001b[43m)\u001b[49m\n\u001b[32m     30\u001b[39m lstm_save_path = os.path.join(LSTM_SAVE_DIR, \u001b[33m\"\u001b[39m\u001b[33mtrial_7_assets.pt\u001b[39m\u001b[33m\"\u001b[39m)\n\u001b[32m     31\u001b[39m torch.save({\n\u001b[32m     32\u001b[39m     \u001b[33m'\u001b[39m\u001b[33mmodel_state_dict\u001b[39m\u001b[33m'\u001b[39m: lstm.state_dict(),\n\u001b[32m     33\u001b[39m     \u001b[33m'\u001b[39m\u001b[33mloss_log\u001b[39m\u001b[33m'\u001b[39m: loss_log,\n\u001b[32m     34\u001b[39m     \u001b[33m'\u001b[39m\u001b[33mloss_log_regret\u001b[39m\u001b[33m'\u001b[39m: loss_log_regret\n\u001b[32m     35\u001b[39m }, lstm_save_path)\n",
      "\u001b[36mFile \u001b[39m\u001b[32m~/zyh/my-pyepo/my-PyEPO/00_portfolio_real_data/train.py:134\u001b[39m, in \u001b[36mtrainModel\u001b[39m\u001b[34m(model, loss_func, method_name, loader_train, loader_test, market_neutral_model, params_testing, loss_log, loss_log_regret, num_epochs, lr, initial, scaler)\u001b[39m\n\u001b[32m    131\u001b[39m loss_log.append(current_loss)\n\u001b[32m    133\u001b[39m \u001b[38;5;66;03m# Update progress bar\u001b[39;00m\n\u001b[32m--> \u001b[39m\u001b[32m134\u001b[39m \u001b[43mprogress_bar\u001b[49m\u001b[43m.\u001b[49m\u001b[43mset_postfix\u001b[49m\u001b[43m(\u001b[49m\u001b[43m{\u001b[49m\n\u001b[32m    135\u001b[39m \u001b[43m    \u001b[49m\u001b[33;43m'\u001b[39;49m\u001b[33;43mloss\u001b[39;49m\u001b[33;43m'\u001b[39;49m\u001b[43m:\u001b[49m\u001b[43m \u001b[49m\u001b[33;43mf\u001b[39;49m\u001b[33;43m\"\u001b[39;49m\u001b[38;5;132;43;01m{\u001b[39;49;00m\u001b[43mcurrent_loss\u001b[49m\u001b[38;5;132;43;01m:\u001b[39;49;00m\u001b[33;43m.4f\u001b[39;49m\u001b[38;5;132;43;01m}\u001b[39;49;00m\u001b[33;43m\"\u001b[39;49m\u001b[43m,\u001b[49m\u001b[43m \u001b[49m\n\u001b[32m    136\u001b[39m \u001b[43m    \u001b[49m\u001b[33;43m'\u001b[39;49m\u001b[33;43mbatch time\u001b[39;49m\u001b[33;43m'\u001b[39;49m\u001b[43m:\u001b[49m\u001b[43m \u001b[49m\u001b[33;43mf\u001b[39;49m\u001b[33;43m\"\u001b[39;49m\u001b[38;5;132;43;01m{\u001b[39;49;00m\u001b[43mbatch_elapsed\u001b[49m\u001b[38;5;132;43;01m:\u001b[39;49;00m\u001b[33;43m.4f\u001b[39;49m\u001b[38;5;132;43;01m}\u001b[39;49;00m\u001b[33;43ms\u001b[39;49m\u001b[33;43m\"\u001b[39;49m\n\u001b[32m    137\u001b[39m \u001b[43m\u001b[49m\u001b[43m}\u001b[49m\u001b[43m)\u001b[49m\n\u001b[32m    139\u001b[39m \u001b[38;5;66;03m# Debug logging (limited to avoid overwhelming output)\u001b[39;00m\n\u001b[32m    140\u001b[39m \u001b[38;5;28;01mif\u001b[39;00m debug_mode \u001b[38;5;129;01mand\u001b[39;00m i % log_interval == \u001b[32m0\u001b[39m:\n",
      "\u001b[36mFile \u001b[39m\u001b[32m~/.conda/envs/myenv/lib/python3.11/site-packages/tqdm/std.py:1431\u001b[39m, in \u001b[36mtqdm.set_postfix\u001b[39m\u001b[34m(self, ordered_dict, refresh, **kwargs)\u001b[39m\n\u001b[32m   1428\u001b[39m \u001b[38;5;28mself\u001b[39m.postfix = \u001b[33m'\u001b[39m\u001b[33m, \u001b[39m\u001b[33m'\u001b[39m.join(key + \u001b[33m'\u001b[39m\u001b[33m=\u001b[39m\u001b[33m'\u001b[39m + postfix[key].strip()\n\u001b[32m   1429\u001b[39m                          \u001b[38;5;28;01mfor\u001b[39;00m key \u001b[38;5;129;01min\u001b[39;00m postfix.keys())\n\u001b[32m   1430\u001b[39m \u001b[38;5;28;01mif\u001b[39;00m refresh:\n\u001b[32m-> \u001b[39m\u001b[32m1431\u001b[39m     \u001b[38;5;28;43mself\u001b[39;49m\u001b[43m.\u001b[49m\u001b[43mrefresh\u001b[49m\u001b[43m(\u001b[49m\u001b[43m)\u001b[49m\n",
      "\u001b[36mFile \u001b[39m\u001b[32m~/.conda/envs/myenv/lib/python3.11/site-packages/tqdm/std.py:1347\u001b[39m, in \u001b[36mtqdm.refresh\u001b[39m\u001b[34m(self, nolock, lock_args)\u001b[39m\n\u001b[32m   1345\u001b[39m     \u001b[38;5;28;01melse\u001b[39;00m:\n\u001b[32m   1346\u001b[39m         \u001b[38;5;28mself\u001b[39m._lock.acquire()\n\u001b[32m-> \u001b[39m\u001b[32m1347\u001b[39m \u001b[38;5;28;43mself\u001b[39;49m\u001b[43m.\u001b[49m\u001b[43mdisplay\u001b[49m\u001b[43m(\u001b[49m\u001b[43m)\u001b[49m\n\u001b[32m   1348\u001b[39m \u001b[38;5;28;01mif\u001b[39;00m \u001b[38;5;129;01mnot\u001b[39;00m nolock:\n\u001b[32m   1349\u001b[39m     \u001b[38;5;28mself\u001b[39m._lock.release()\n",
      "\u001b[36mFile \u001b[39m\u001b[32m~/.conda/envs/myenv/lib/python3.11/site-packages/tqdm/std.py:1495\u001b[39m, in \u001b[36mtqdm.display\u001b[39m\u001b[34m(self, msg, pos)\u001b[39m\n\u001b[32m   1493\u001b[39m \u001b[38;5;28;01mif\u001b[39;00m pos:\n\u001b[32m   1494\u001b[39m     \u001b[38;5;28mself\u001b[39m.moveto(pos)\n\u001b[32m-> \u001b[39m\u001b[32m1495\u001b[39m \u001b[38;5;28;43mself\u001b[39;49m\u001b[43m.\u001b[49m\u001b[43msp\u001b[49m\u001b[43m(\u001b[49m\u001b[38;5;28;43mself\u001b[39;49m\u001b[43m.\u001b[49m\u001b[34;43m__str__\u001b[39;49m\u001b[43m(\u001b[49m\u001b[43m)\u001b[49m\u001b[43m \u001b[49m\u001b[38;5;28;43;01mif\u001b[39;49;00m\u001b[43m \u001b[49m\u001b[43mmsg\u001b[49m\u001b[43m \u001b[49m\u001b[38;5;129;43;01mis\u001b[39;49;00m\u001b[43m \u001b[49m\u001b[38;5;28;43;01mNone\u001b[39;49;00m\u001b[43m \u001b[49m\u001b[38;5;28;43;01melse\u001b[39;49;00m\u001b[43m \u001b[49m\u001b[43mmsg\u001b[49m\u001b[43m)\u001b[49m\n\u001b[32m   1496\u001b[39m \u001b[38;5;28;01mif\u001b[39;00m pos:\n\u001b[32m   1497\u001b[39m     \u001b[38;5;28mself\u001b[39m.moveto(-pos)\n",
      "\u001b[36mFile \u001b[39m\u001b[32m~/.conda/envs/myenv/lib/python3.11/site-packages/tqdm/std.py:459\u001b[39m, in \u001b[36mtqdm.status_printer.<locals>.print_status\u001b[39m\u001b[34m(s)\u001b[39m\n\u001b[32m    457\u001b[39m \u001b[38;5;28;01mdef\u001b[39;00m\u001b[38;5;250m \u001b[39m\u001b[34mprint_status\u001b[39m(s):\n\u001b[32m    458\u001b[39m     len_s = disp_len(s)\n\u001b[32m--> \u001b[39m\u001b[32m459\u001b[39m     \u001b[43mfp_write\u001b[49m\u001b[43m(\u001b[49m\u001b[33;43m'\u001b[39;49m\u001b[38;5;130;43;01m\\r\u001b[39;49;00m\u001b[33;43m'\u001b[39;49m\u001b[43m \u001b[49m\u001b[43m+\u001b[49m\u001b[43m \u001b[49m\u001b[43ms\u001b[49m\u001b[43m \u001b[49m\u001b[43m+\u001b[49m\u001b[43m \u001b[49m\u001b[43m(\u001b[49m\u001b[33;43m'\u001b[39;49m\u001b[33;43m \u001b[39;49m\u001b[33;43m'\u001b[39;49m\u001b[43m \u001b[49m\u001b[43m*\u001b[49m\u001b[43m \u001b[49m\u001b[38;5;28;43mmax\u001b[39;49m\u001b[43m(\u001b[49m\u001b[43mlast_len\u001b[49m\u001b[43m[\u001b[49m\u001b[32;43m0\u001b[39;49m\u001b[43m]\u001b[49m\u001b[43m \u001b[49m\u001b[43m-\u001b[49m\u001b[43m \u001b[49m\u001b[43mlen_s\u001b[49m\u001b[43m,\u001b[49m\u001b[43m \u001b[49m\u001b[32;43m0\u001b[39;49m\u001b[43m)\u001b[49m\u001b[43m)\u001b[49m\u001b[43m)\u001b[49m\n\u001b[32m    460\u001b[39m     last_len[\u001b[32m0\u001b[39m] = len_s\n",
      "\u001b[36mFile \u001b[39m\u001b[32m~/.conda/envs/myenv/lib/python3.11/site-packages/tqdm/std.py:453\u001b[39m, in \u001b[36mtqdm.status_printer.<locals>.fp_write\u001b[39m\u001b[34m(s)\u001b[39m\n\u001b[32m    451\u001b[39m \u001b[38;5;28;01mdef\u001b[39;00m\u001b[38;5;250m \u001b[39m\u001b[34mfp_write\u001b[39m(s):\n\u001b[32m    452\u001b[39m     fp.write(\u001b[38;5;28mstr\u001b[39m(s))\n\u001b[32m--> \u001b[39m\u001b[32m453\u001b[39m     \u001b[43mfp_flush\u001b[49m\u001b[43m(\u001b[49m\u001b[43m)\u001b[49m\n",
      "\u001b[36mFile \u001b[39m\u001b[32m~/.conda/envs/myenv/lib/python3.11/site-packages/tqdm/utils.py:196\u001b[39m, in \u001b[36mDisableOnWriteError.disable_on_exception.<locals>.inner\u001b[39m\u001b[34m(*args, **kwargs)\u001b[39m\n\u001b[32m    194\u001b[39m \u001b[38;5;28;01mdef\u001b[39;00m\u001b[38;5;250m \u001b[39m\u001b[34minner\u001b[39m(*args, **kwargs):\n\u001b[32m    195\u001b[39m     \u001b[38;5;28;01mtry\u001b[39;00m:\n\u001b[32m--> \u001b[39m\u001b[32m196\u001b[39m         \u001b[38;5;28;01mreturn\u001b[39;00m \u001b[43mfunc\u001b[49m\u001b[43m(\u001b[49m\u001b[43m*\u001b[49m\u001b[43margs\u001b[49m\u001b[43m,\u001b[49m\u001b[43m \u001b[49m\u001b[43m*\u001b[49m\u001b[43m*\u001b[49m\u001b[43mkwargs\u001b[49m\u001b[43m)\u001b[49m\n\u001b[32m    197\u001b[39m     \u001b[38;5;28;01mexcept\u001b[39;00m \u001b[38;5;167;01mOSError\u001b[39;00m \u001b[38;5;28;01mas\u001b[39;00m e:\n\u001b[32m    198\u001b[39m         \u001b[38;5;28;01mif\u001b[39;00m e.errno != \u001b[32m5\u001b[39m:\n",
      "\u001b[36mFile \u001b[39m\u001b[32m~/.conda/envs/myenv/lib/python3.11/site-packages/ipykernel/iostream.py:604\u001b[39m, in \u001b[36mOutStream.flush\u001b[39m\u001b[34m(self)\u001b[39m\n\u001b[32m    593\u001b[39m \u001b[38;5;250m\u001b[39m\u001b[33;03m\"\"\"trigger actual zmq send\u001b[39;00m\n\u001b[32m    594\u001b[39m \n\u001b[32m    595\u001b[39m \u001b[33;03msend will happen in the background thread\u001b[39;00m\n\u001b[32m    596\u001b[39m \u001b[33;03m\"\"\"\u001b[39;00m\n\u001b[32m    597\u001b[39m \u001b[38;5;28;01mif\u001b[39;00m (\n\u001b[32m    598\u001b[39m     \u001b[38;5;28mself\u001b[39m.pub_thread\n\u001b[32m    599\u001b[39m     \u001b[38;5;129;01mand\u001b[39;00m \u001b[38;5;28mself\u001b[39m.pub_thread.thread \u001b[38;5;129;01mis\u001b[39;00m \u001b[38;5;129;01mnot\u001b[39;00m \u001b[38;5;28;01mNone\u001b[39;00m\n\u001b[32m   (...)\u001b[39m\u001b[32m    602\u001b[39m ):\n\u001b[32m    603\u001b[39m     \u001b[38;5;66;03m# request flush on the background thread\u001b[39;00m\n\u001b[32m--> \u001b[39m\u001b[32m604\u001b[39m     \u001b[38;5;28;43mself\u001b[39;49m\u001b[43m.\u001b[49m\u001b[43mpub_thread\u001b[49m\u001b[43m.\u001b[49m\u001b[43mschedule\u001b[49m\u001b[43m(\u001b[49m\u001b[38;5;28;43mself\u001b[39;49m\u001b[43m.\u001b[49m\u001b[43m_flush\u001b[49m\u001b[43m)\u001b[49m\n\u001b[32m    605\u001b[39m     \u001b[38;5;66;03m# wait for flush to actually get through, if we can.\u001b[39;00m\n\u001b[32m    606\u001b[39m     evt = threading.Event()\n",
      "\u001b[36mFile \u001b[39m\u001b[32m~/.conda/envs/myenv/lib/python3.11/site-packages/ipykernel/iostream.py:267\u001b[39m, in \u001b[36mIOPubThread.schedule\u001b[39m\u001b[34m(self, f)\u001b[39m\n\u001b[32m    265\u001b[39m     \u001b[38;5;28mself\u001b[39m._events.append(f)\n\u001b[32m    266\u001b[39m     \u001b[38;5;66;03m# wake event thread (message content is ignored)\u001b[39;00m\n\u001b[32m--> \u001b[39m\u001b[32m267\u001b[39m     \u001b[38;5;28;43mself\u001b[39;49m\u001b[43m.\u001b[49m\u001b[43m_event_pipe\u001b[49m\u001b[43m.\u001b[49m\u001b[43msend\u001b[49m\u001b[43m(\u001b[49m\u001b[33;43mb\u001b[39;49m\u001b[33;43m\"\u001b[39;49m\u001b[33;43m\"\u001b[39;49m\u001b[43m)\u001b[49m\n\u001b[32m    268\u001b[39m \u001b[38;5;28;01melse\u001b[39;00m:\n\u001b[32m    269\u001b[39m     f()\n",
      "\u001b[36mFile \u001b[39m\u001b[32m~/.conda/envs/myenv/lib/python3.11/site-packages/zmq/sugar/socket.py:698\u001b[39m, in \u001b[36mSocket.send\u001b[39m\u001b[34m(self, data, flags, copy, track, routing_id, group)\u001b[39m\n\u001b[32m    691\u001b[39m         data = zmq.Frame(\n\u001b[32m    692\u001b[39m             data,\n\u001b[32m    693\u001b[39m             track=track,\n\u001b[32m    694\u001b[39m             copy=copy \u001b[38;5;129;01mor\u001b[39;00m \u001b[38;5;28;01mNone\u001b[39;00m,\n\u001b[32m    695\u001b[39m             copy_threshold=\u001b[38;5;28mself\u001b[39m.copy_threshold,\n\u001b[32m    696\u001b[39m         )\n\u001b[32m    697\u001b[39m     data.group = group\n\u001b[32m--> \u001b[39m\u001b[32m698\u001b[39m \u001b[38;5;28;01mreturn\u001b[39;00m \u001b[38;5;28;43msuper\u001b[39;49m\u001b[43m(\u001b[49m\u001b[43m)\u001b[49m\u001b[43m.\u001b[49m\u001b[43msend\u001b[49m\u001b[43m(\u001b[49m\u001b[43mdata\u001b[49m\u001b[43m,\u001b[49m\u001b[43m \u001b[49m\u001b[43mflags\u001b[49m\u001b[43m=\u001b[49m\u001b[43mflags\u001b[49m\u001b[43m,\u001b[49m\u001b[43m \u001b[49m\u001b[43mcopy\u001b[49m\u001b[43m=\u001b[49m\u001b[43mcopy\u001b[49m\u001b[43m,\u001b[49m\u001b[43m \u001b[49m\u001b[43mtrack\u001b[49m\u001b[43m=\u001b[49m\u001b[43mtrack\u001b[49m\u001b[43m)\u001b[49m\n",
      "\u001b[36mFile \u001b[39m\u001b[32m_zmq.py:1081\u001b[39m, in \u001b[36mzmq.backend.cython._zmq.Socket.send\u001b[39m\u001b[34m()\u001b[39m\n",
      "\u001b[36mFile \u001b[39m\u001b[32m_zmq.py:1129\u001b[39m, in \u001b[36mzmq.backend.cython._zmq.Socket.send\u001b[39m\u001b[34m()\u001b[39m\n",
      "\u001b[36mFile \u001b[39m\u001b[32m_zmq.py:1397\u001b[39m, in \u001b[36mzmq.backend.cython._zmq._send_copy\u001b[39m\u001b[34m()\u001b[39m\n",
      "\u001b[36mFile \u001b[39m\u001b[32m_zmq.py:169\u001b[39m, in \u001b[36mzmq.backend.cython._zmq._check_rc\u001b[39m\u001b[34m()\u001b[39m\n",
      "\u001b[31mKeyboardInterrupt\u001b[39m: "
     ]
    }
   ],
   "source": [
    "from train import trainModel\n",
    "from config import NUM_EPOCHS, BATCH_SIZE, LR, LSTM_SAVE_DIR\n",
    "import os\n",
    "os.makedirs(LSTM_SAVE_DIR, exist_ok=True)   \n",
    "import pyepo\n",
    "import torch \n",
    "\n",
    "for i in range(100):\n",
    "\n",
    "    print( f\"第{i+1}次训练\") \n",
    "\n",
    "    set_seed(42)\n",
    "    \n",
    "    spop = pyepo.func.SPOPlus(model)\n",
    "    loss_log, loss_log_regret = trainModel(\n",
    "        lstm, \n",
    "        loss_func=spop, \n",
    "        method_name=\"spo+\",\n",
    "        loader_train=loader_train,\n",
    "        loader_test=loader_test,\n",
    "        market_neutral_model=model,\n",
    "        params_testing=params_testing,\n",
    "        loss_log=loss_log, \n",
    "        loss_log_regret=loss_log_regret,\n",
    "        num_epochs=NUM_EPOCHS,  # Increased for better convergence\n",
    "        lr=LR,\n",
    "        initial=False,# Adjusted learning rate,\n",
    "        scaler= False\n",
    "    )\n",
    "    \n",
    "    lstm_save_path = os.path.join(LSTM_SAVE_DIR, \"trial_7_assets.pt\")\n",
    "    torch.save({\n",
    "        'model_state_dict': lstm.state_dict(),\n",
    "        'loss_log': loss_log,\n",
    "        'loss_log_regret': loss_log_regret\n",
    "    }, lstm_save_path)\n",
    "    \n",
    "    print(f\"模型参数已保存到 {lstm_save_path}\")"
   ]
  },
  {
   "cell_type": "code",
   "execution_count": null,
   "metadata": {},
   "outputs": [],
   "source": []
  },
  {
   "cell_type": "code",
   "execution_count": null,
   "metadata": {},
   "outputs": [],
   "source": []
  },
  {
   "cell_type": "code",
   "execution_count": 8,
   "metadata": {},
   "outputs": [
    {
     "name": "stdout",
     "output_type": "stream",
     "text": [
      "\n",
      "Visualizing learning curves...\n"
     ]
    },
    {
     "data": {
      "image/png": "[encoded data removed]",
      "text/plain": [
       "<Figure size 1600x400 with 2 Axes>"
      ]
     },
     "metadata": {},
     "output_type": "display_data"
    }
   ],
   "source": [
    "#############################################################################\n",
    "# VISUALIZATION\n",
    "#############################################################################\n",
    "from matplotlib import pyplot as plt\n",
    "import numpy as np\n",
    "\n",
    "\n",
    "def visLearningCurve(loss_log, loss_log_regret):\n",
    "    \"\"\"Enhanced visualization with smoother curves and more information\"\"\"\n",
    "    # Create figure and subplots\n",
    "    fig, (ax1, ax2) = plt.subplots(1, 2, figsize=(16,4))\n",
    "    \n",
    "    # Plot training loss with smoothing for readability\n",
    "    n_points = len(loss_log)\n",
    "    \n",
    "    # Apply smoothing for large datasets\n",
    "    if n_points > 100:\n",
    "        window_size = max(10, n_points // 50)\n",
    "        smoothed_loss = np.convolve(loss_log, np.ones(window_size)/window_size, mode='valid')\n",
    "        x_axis = np.arange(len(smoothed_loss))\n",
    "        ax1.plot(x_axis, smoothed_loss, color=\"c\", lw=2, label=f\"Smoothed (window={window_size})\")\n",
    "        # Also plot the raw data with transparency\n",
    "        ax1.plot(loss_log, color=\"c\", lw=0.5, alpha=0.3, label=\"Raw\")\n",
    "        ax1.legend()\n",
    "    else:\n",
    "        # For smaller datasets, just plot the raw data\n",
    "        ax1.plot(loss_log, color=\"c\", lw=2)\n",
    "    \n",
    "    ax1.tick_params(axis=\"both\", which=\"major\", labelsize=12)\n",
    "    ax1.set_xlabel(\"Iterations\", fontsize=16)\n",
    "    ax1.set_ylabel(\"Loss\", fontsize=16)\n",
    "    ax1.set_title(\"Learning Curve on Training Set\", fontsize=16)\n",
    "    ax1.grid(True, linestyle='--', alpha=0.7)\n",
    "    \n",
    "    # Draw plot for regret on test set\n",
    "    epochs = np.arange(len(loss_log_regret))\n",
    "    ax2.plot(epochs, [r*100 for r in loss_log_regret], \n",
    "             color=\"royalblue\", marker='o', ls=\"-\", alpha=0.8, lw=2)\n",
    "    \n",
    "    ax2.tick_params(axis=\"both\", which=\"major\", labelsize=12)\n",
    "    ax2.set_ylim(0, max(50, max([r*100 for r in loss_log_regret])*1.1))  # Dynamic y-limit\n",
    "    ax2.set_xlabel(\"Epochs\", fontsize=16)\n",
    "    ax2.set_ylabel(\"Regret (%)\", fontsize=16)\n",
    "    ax2.set_title(\"Learning Curve on Test Set\", fontsize=16)\n",
    "    ax2.grid(True, linestyle='--', alpha=0.7)\n",
    "    \n",
    "    # Add values to points\n",
    "    for i, r in enumerate(loss_log_regret):\n",
    "        ax2.annotate(f\"{r*100:.2f}%\", \n",
    "                     (i, r*100),\n",
    "                     textcoords=\"offset points\", \n",
    "                     xytext=(0,10), \n",
    "                     ha='center')\n",
    "    \n",
    "    plt.tight_layout()\n",
    "    # plt.savefig('learning_curves.png', dpi=300, bbox_inches='tight')\n",
    "    # print(\"Saved learning curves to 'learning_curves.png'\")\n",
    "    plt.show()\n",
    "\n",
    "print(\"\\nVisualizing learning curves...\")\n",
    "visLearningCurve(loss_log, loss_log_regret)"
   ]
  },
  {
   "cell_type": "markdown",
   "metadata": {},
   "source": [
    "### 回测"
   ]
  },
  {
   "cell_type": "code",
   "execution_count": 12,
   "metadata": {},
   "outputs": [
    {
     "name": "stdout",
     "output_type": "stream",
     "text": [
      "Model architecture after training:\n",
      "lstm.weight_ih_l0              | Shape: torch.Size([256, 21]) | Parameters: 5376 | require_grad: True\n",
      "Mean Value: -0.0001790947571862489 | Grad: None\n",
      "--------------------------------------------------------------------------------\n",
      "lstm.weight_hh_l0              | Shape: torch.Size([256, 64]) | Parameters: 16384 | require_grad: True\n",
      "Mean Value: -0.00044822879135608673 | Grad: None\n",
      "--------------------------------------------------------------------------------\n",
      "lstm.bias_ih_l0                | Shape: torch.Size([256]) | Parameters: 256 | require_grad: True\n",
      "Mean Value: 0.006747560575604439 | Grad: None\n",
      "--------------------------------------------------------------------------------\n",
      "lstm.bias_hh_l0                | Shape: torch.Size([256]) | Parameters: 256 | require_grad: True\n",
      "Mean Value: 0.005963595118373632 | Grad: None\n",
      "--------------------------------------------------------------------------------\n",
      "fc_layers.0.weight             | Shape: torch.Size([64]) | Parameters: 64 | require_grad: True\n",
      "Mean Value: 0.9812588691711426 | Grad: None\n",
      "--------------------------------------------------------------------------------\n",
      "fc_layers.0.bias               | Shape: torch.Size([64]) | Parameters: 64 | require_grad: True\n",
      "Mean Value: 0.0 | Grad: None\n",
      "--------------------------------------------------------------------------------\n",
      "fc_layers.1.weight             | Shape: torch.Size([32, 64]) | Parameters: 2048 | require_grad: True\n",
      "Mean Value: -0.00020974734798073769 | Grad: None\n",
      "--------------------------------------------------------------------------------\n",
      "fc_layers.1.bias               | Shape: torch.Size([32]) | Parameters: 32 | require_grad: True\n",
      "Mean Value: -0.010138646699488163 | Grad: None\n",
      "--------------------------------------------------------------------------------\n",
      "fc_layers.4.weight             | Shape: torch.Size([1, 32]) | Parameters: 32 | require_grad: True\n",
      "Mean Value: -0.024584660306572914 | Grad: None\n",
      "--------------------------------------------------------------------------------\n",
      "fc_layers.4.bias               | Shape: torch.Size([1]) | Parameters: 1 | require_grad: True\n",
      "Mean Value: -0.17192406952381134 | Grad: None\n",
      "--------------------------------------------------------------------------------\n"
     ]
    }
   ],
   "source": [
    "from train import trainModel\n",
    "from config import NUM_EPOCHS, BATCH_SIZE, LR, LSTM_SAVE_DIR\n",
    "import pyepo\n",
    "import torch \n",
    "import os\n",
    "\n",
    "lstm_save_path = os.path.join(LSTM_SAVE_DIR, \"trial_7_assets.pt\")\n",
    "lstm_eval = TwoLayerLSTM(k=K, hidden_dim=HIDDEN_DIM, lstm_hidden_dim=LSTM_HIDDEN_DIM, dropout_rate=DROPOUT_RATE).to(DEVICE)\n",
    "checkpoint = torch.load(lstm_save_path, map_location=DEVICE, weights_only=False)\n",
    "lstm_eval.load_state_dict(checkpoint['model_state_dict'])\n",
    "print(\"Model architecture after training:\")\n",
    "for name, param in lstm_eval.named_parameters():\n",
    "    print(f\"{name:30s} | Shape: {param.data.shape} | Parameters: {param.numel()} | require_grad: {param.requires_grad}\")\n",
    "    print(f\"Mean Value: {param.data.mean()} | Grad: {param.grad}\")\n",
    "    print(\"-\" * 80)"
   ]
  },
  {
   "cell_type": "code",
   "execution_count": 13,
   "metadata": {},
   "outputs": [
    {
     "name": "stdout",
     "output_type": "stream",
     "text": [
      "预测的收益率矩阵形状是: (26202, 7)\n"
     ]
    }
   ],
   "source": [
    "import numpy as np\n",
    "# set lstm to evaluation mode\n",
    "lstm_eval.eval()\n",
    "\n",
    "pred_returns = [] # predicted returns\n",
    "with torch.no_grad():\n",
    "    for x, _, _, _ in loader_test:\n",
    "        # 1. 预测 returns\n",
    "        x = x.to(DEVICE)                      # (batch_size, N, lookback, k)\n",
    "        pred_return = lstm_eval(x)                   # (batch_size, N)\n",
    "        pred_return = pred_return.cpu().numpy()             # 转成ndarray\n",
    "        pred_returns.append(pred_return)\n",
    "\n",
    "pred_returns = np.vstack(pred_returns) # (T, N)\n",
    "print(f\"预测的收益率矩阵形状是: {pred_returns.shape}\")"
   ]
  },
  {
   "cell_type": "code",
   "execution_count": 14,
   "metadata": {},
   "outputs": [
    {
     "name": "stdout",
     "output_type": "stream",
     "text": [
      "测试集feature的形状是: (26202, 7, 21)\n"
     ]
    }
   ],
   "source": [
    "feats_test = np.load(\"test_data/features_crypto_data.npy\")\n",
    "print(f\"测试集feature的形状是: {feats_test.shape}\")"
   ]
  },
  {
   "cell_type": "code",
   "execution_count": 15,
   "metadata": {},
   "outputs": [
    {
     "name": "stderr",
     "output_type": "stream",
     "text": [
      "Testing Solutions: 100%|██████████| 3276/3276 [00:16<00:00, 192.95batch/s]\n"
     ]
    }
   ],
   "source": [
    "### 优化器\n",
    "from config import PRECOMPUTE_BATCH_SIZE, LOOKBACK, PADDING_METHOD\n",
    "from batch_runner import process_and_combine_shared\n",
    "\n",
    "\n",
    "#dataset_dict_test = process_and_combine_shared(feats_test, pred_returns, batch_size=PRECOMPUTE_BATCH_SIZE, **params)\n",
    "from test_regret import sequential_solutions\n",
    "\n",
    "positions=sequential_solutions(predmodel=lstm_eval,params_testing=params_testing, dataloader=loader_test)"
   ]
  },
  {
   "cell_type": "code",
   "execution_count": 16,
   "metadata": {},
   "outputs": [
    {
     "name": "stdout",
     "output_type": "stream",
     "text": [
      "测试集仓位的形状是: (26202, 7)\n"
     ]
    }
   ],
   "source": [
    "# 测试集仓位\n",
    "#positions = dataset_dict_test[\"sols\"]\n",
    "positions=np.array(positions)\n",
    "print(f\"测试集仓位的形状是: {positions.shape}\")"
   ]
  },
  {
   "cell_type": "code",
   "execution_count": 17,
   "metadata": {},
   "outputs": [
    {
     "name": "stdout",
     "output_type": "stream",
     "text": [
      "pnl series的长度是: 26202\n"
     ]
    }
   ],
   "source": [
    "pnl_series = []\n",
    "for i in range(len(positions)):\n",
    "    pnl = np.nansum(positions[i] * test_dataset_dict[\"costs\"][i])\n",
    "    pnl_series.append(pnl)\n",
    "print(f\"pnl series的长度是: {len(pnl_series)}\")"
   ]
  },
  {
   "cell_type": "markdown",
   "metadata": {},
   "source": [
    "### Visualize Cumulative Pnl"
   ]
  },
  {
   "cell_type": "code",
   "execution_count": 18,
   "metadata": {},
   "outputs": [
    {
     "data": {
      "image/png": "[encoded data removed]",
      "text/plain": [
       "<Figure size 1000x600 with 1 Axes>"
      ]
     },
     "metadata": {},
     "output_type": "display_data"
    }
   ],
   "source": [
    "import matplotlib.pyplot as plt\n",
    "import pandas as pd\n",
    "\n",
    "def plot_cum_pnl_series(pnl_series, title='Cumulative PnL', figsize=(10, 6)):\n",
    "    \"\"\"\n",
    "    绘制累计 PnL 曲线。\n",
    "\n",
    "    参数\n",
    "    -----\n",
    "    pnl_series : pandas.Series\n",
    "        每期的 PnL 序列，索引为日期或时间点。\n",
    "    title : str, optional\n",
    "        图表标题，默认 'Cumulative PnL'。\n",
    "    figsize : tuple, optional\n",
    "        图表大小，默认为 (10, 6)。\n",
    "    \"\"\"\n",
    "    # 计算累计 PnL\n",
    "    cum_pnl = pd.Series(pnl_series).cumsum()\n",
    "\n",
    "    # 绘图\n",
    "    plt.figure(figsize=figsize)\n",
    "    plt.plot(np.arange(len(cum_pnl)), cum_pnl.values, linewidth=2)\n",
    "    plt.title(title)\n",
    "    plt.xlabel('Date')\n",
    "    plt.ylabel('Cumulative PnL')\n",
    "    plt.grid(True)\n",
    "    plt.tight_layout()\n",
    "    plt.show()\n",
    "\n",
    "plot_cum_pnl_series(pnl_series)\n"
   ]
  },
  {
   "cell_type": "code",
   "execution_count": 19,
   "metadata": {},
   "outputs": [
    {
     "data": {
      "text/plain": [
       "array([0., 0., 0., 0., 0., 0., 0.])"
      ]
     },
     "execution_count": 19,
     "metadata": {},
     "output_type": "execute_result"
    }
   ],
   "source": [
    "positions[0]"
   ]
  },
  {
   "cell_type": "code",
   "execution_count": null,
   "metadata": {},
   "outputs": [],
   "source": []
  }
 ],
 "metadata": {
  "kernelspec": {
   "display_name": "Python (myenv)",
   "language": "python",
   "name": "myenv"
  },
  "language_info": {
   "codemirror_mode": {
    "name": "ipython",
    "version": 3
   },
   "file_extension": ".py",
   "mimetype": "text/x-python",
   "name": "python",
   "nbconvert_exporter": "python",
   "pygments_lexer": "ipython3",
   "version": "3.11.11"
  }
 },
 "nbformat": 4,
 "nbformat_minor": 4
}
