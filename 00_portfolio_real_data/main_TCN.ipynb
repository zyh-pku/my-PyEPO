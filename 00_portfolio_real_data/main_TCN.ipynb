{
 "cells": [
  {
   "cell_type": "code",
   "execution_count": 2,
   "id": "e0507157-3945-4caa-a2b0-825b1639001a",
   "metadata": {},
   "outputs": [
    {
     "name": "stdout",
     "output_type": "stream",
     "text": [
      "The autoreload extension is already loaded. To reload it, use:\n",
      "  %reload_ext autoreload\n"
     ]
    }
   ],
   "source": [
    "%load_ext autoreload\n",
    "%autoreload 2\n",
    "from config import MARKET_MODEL_DIR,MARKET_MODEL_DIR_TESTING\n",
    "from model_factory import build_market_neutral_model, build_market_neutral_model_testing\n",
    "import pickle\n",
    "with open(MARKET_MODEL_DIR, \"rb\") as f:\n",
    "    params = pickle.load(f)\n",
    "\n",
    "with open(MARKET_MODEL_DIR_TESTING, \"rb\") as f:\n",
    "    params_testing = pickle.load(f)\n",
    "    \n",
    "import os\n",
    "#个人许可证\n",
    "#os.environ['GRB_LICENSE_FILE'] = os.path.expanduser(\"~/gurobi/gurobi.lic\")\n",
    "\n",
    "\n",
    "# ## 系统Gurobi\n",
    "os.environ['GUROBI_HOME'] = '/usr/licensed/gurobi/12.0.0/linux64'\n",
    "os.environ['GRB_LICENSE_FILE'] = '/usr/licensed/gurobi/license/gurobi.lic'\n",
    "\n",
    "# 清除个人WLS许可证\n",
    "for var in ['WLSACCESSID', 'WLSSECRET']:\n",
    "    if var in os.environ:\n",
    "        del os.environ[var]\n",
    "\n",
    "model = build_market_neutral_model(**params)\n",
    "model_testing= build_market_neutral_model_testing(**params_testing)"
   ]
  },
  {
   "cell_type": "code",
   "execution_count": 3,
   "id": "5dad493c-7744-4f07-ae8d-25e43275cd32",
   "metadata": {},
   "outputs": [
    {
     "name": "stdout",
     "output_type": "stream",
     "text": [
      ">>> Precomputed mode enabled. Skipping time series processing and solution computation.\n",
      ">>> Precomputed mode enabled. Skipping time series processing and solution computation.\n"
     ]
    }
   ],
   "source": [
    "from io_utils import load_dataset_dict, create_dataset_from_dict\n",
    "from config import DATASET_DICT_PATH, TEST_DATASET_DICT_PATH\n",
    "dataset_dict = load_dataset_dict(DATASET_DICT_PATH)\n",
    "dataset_train = create_dataset_from_dict(dataset_dict, model)\n",
    "test_dataset_dict = load_dataset_dict(TEST_DATASET_DICT_PATH)\n",
    "dataset_test = create_dataset_from_dict(test_dataset_dict, model)"
   ]
  },
  {
   "cell_type": "markdown",
   "id": "219995be-600c-4083-ac02-b04b1007f978",
   "metadata": {},
   "source": [
    "# 可选模型的信息\n",
    "#  model_info = {\n",
    "        'TCN': {\n",
    "            # 训练配置\n",
    "            'use_mixed_precision': True,\n",
    "            'gradient_clip_norm': None,\n",
    "            'training_reason': 'TCN架构稳定，无需梯度裁剪。混合精度加速训练。',\n",
    "            \n",
    "            # 推荐条件\n",
    "            'recommend_when': [\n",
    "                ('sequence_length > 200', '长序列，TCN处理效率最高'),\n",
    "                ('50 <= sequence_length <= 200', '中等长度序列的最佳选择'),\n",
    "                ('computational_budget == \"medium\"', '平衡性能和资源消耗'),\n",
    "                ('prefer_speed == True', '训练速度快，并行化好'),\n",
    "            ],\n",
    "            \n",
    "            # 适用场景\n",
    "            'best_for': [\n",
    "                '长时间序列预测',\n",
    "                '实时推理场景',\n",
    "                '需要快速训练的项目',\n",
    "                'GPU资源充足的环境'\n",
    "            ],\n",
    "            \n",
    "            # 优势\n",
    "            'advantages': [\n",
    "                '✅ 梯度稳定，几乎不会爆炸/消失',\n",
    "                '✅ 并行训练，速度快',\n",
    "                '✅ 感受野可控，能捕获长期依赖',\n",
    "                '✅ 架构成熟，调参简单'\n",
    "            ],\n",
    "            \n",
    "            # 劣势\n",
    "            'disadvantages': [\n",
    "                '⚠️ 参数量相对较多',\n",
    "                '⚠️ 对短序列可能过拟合'\n",
    "            ]\n",
    "        },\n",
    "        \n",
    "        'DLinear': {\n",
    "            # 训练配置\n",
    "            'use_mixed_precision': gpu_memory_gb < 8 or prefer_speed,\n",
    "            'gradient_clip_norm': None,\n",
    "            'training_reason': 'DLinear极简稳定。小GPU推荐混合精度节省内存。',\n",
    "            \n",
    "            # 推荐条件\n",
    "            'recommend_when': [\n",
    "                ('has_trend and has_seasonality', '数据有明显的趋势和季节性模式'),\n",
    "                ('sequence_length < 50', '短序列，简单模型可能更有效'),\n",
    "                ('computational_budget == \"low\"', '计算资源有限'),\n",
    "                ('prefer_speed == True', '极快的训练和推理速度'),\n",
    "            ],\n",
    "            \n",
    "            # 适用场景\n",
    "            'best_for': [\n",
    "                '有明显趋势的时间序列',\n",
    "                '计算资源受限的环境',\n",
    "                '需要可解释性的场景',\n",
    "                '作为强基线模型'\n",
    "            ],\n",
    "            \n",
    "            # 优势\n",
    "            'advantages': [\n",
    "                '✅ 极简架构，几乎不会过拟合',\n",
    "                '✅ 训练超快，参数量少',\n",
    "                '✅ 对趋势和季节性敏感',\n",
    "                '✅ 可解释性强',\n",
    "                '✅ 内存占用极少'\n",
    "            ],\n",
    "            \n",
    "            # 劣势\n",
    "            'disadvantages': [\n",
    "                '⚠️ 对复杂非线性模式建模能力有限',\n",
    "                '⚠️ 可能在复杂数据上表现不佳'\n",
    "            ]\n",
    "        },\n",
    "        \n",
    "        'Transformer': {\n",
    "            # 训练配置\n",
    "            'use_mixed_precision': True,\n",
    "            'gradient_clip_norm': 1.0,\n",
    "            'training_reason': 'Transformer计算密集，强烈推荐混合精度。轻微梯度裁剪保险。',\n",
    "            \n",
    "            # 推荐条件\n",
    "            'recommend_when': [\n",
    "                ('computational_budget == \"high\" and sequence_length < 200', '充足资源且序列不太长'),\n",
    "                ('need_attention == True', '需要注意力机制和解释性'),\n",
    "                ('complex_patterns == True', '数据有复杂的长期依赖关系'),\n",
    "            ],\n",
    "            \n",
    "            # 适用场景\n",
    "            'best_for': [\n",
    "                '需要注意力可视化的场景',\n",
    "                '复杂的多变量时间序列',\n",
    "                '研究和实验项目',\n",
    "                '对精度要求极高的场景'\n",
    "            ],\n",
    "            \n",
    "            # 优势\n",
    "            'advantages': [\n",
    "                '✅ 强大的序列建模能力',\n",
    "                '✅ 注意力机制提供解释性',\n",
    "                '✅ 能捕获复杂的长期依赖',\n",
    "                '✅ 在复杂数据上表现优秀'\n",
    "            ],\n",
    "            \n",
    "            # 劣势\n",
    "            'disadvantages': [\n",
    "                '⚠️ 计算复杂度O(n²)',\n",
    "                '⚠️ 参数量大，容易过拟合',\n",
    "                '⚠️ 对长序列内存消耗大',\n",
    "                '⚠️ 需要更多调参'\n",
    "            ]\n",
    "        },\n",
    "        \n",
    "        'CNN-Attention': {\n",
    "            # 训练配置\n",
    "            'use_mixed_precision': True,\n",
    "            'gradient_clip_norm': 0.5,\n",
    "            'training_reason': '混合架构，推荐保守的梯度裁剪配置。',\n",
    "            \n",
    "            # 推荐条件\n",
    "            'recommend_when': [\n",
    "                ('need_local_and_global == True', '需要同时捕获局部和全局特征'),\n",
    "                ('computational_budget == \"medium\"', '中等计算资源'),\n",
    "                ('experimental == True', '实验性尝试'),\n",
    "            ],\n",
    "            \n",
    "            # 适用场景\n",
    "            'best_for': [\n",
    "                '局部和全局特征都重要的数据',\n",
    "                '实验和研究项目',\n",
    "                '需要平衡性能的场景'\n",
    "            ],\n",
    "            \n",
    "            # 优势\n",
    "            'advantages': [\n",
    "                '✅ 结合CNN和Attention优势',\n",
    "                '✅ 对局部模式敏感',\n",
    "                '✅ 有一定的全局建模能力'\n",
    "            ],\n",
    "            \n",
    "            # 劣势\n",
    "            'disadvantages': [\n",
    "                '⚠️ 架构复杂，调参困难',\n",
    "                '⚠️ 可能不如专门的模型',\n",
    "                '⚠️ 训练稳定性一般'\n",
    "            ]\n",
    "        }\n",
    "    }"
   ]
  },
  {
   "cell_type": "code",
   "execution_count": 4,
   "id": "b7e06c5d-4c5d-4391-a046-876b4f0cc1d2",
   "metadata": {},
   "outputs": [
    {
     "name": "stdout",
     "output_type": "stream",
     "text": [
      "The autoreload extension is already loaded. To reload it, use:\n",
      "  %reload_ext autoreload\n",
      "Seed set to 42\n",
      "Model architecture:\n",
      "tcn_layers.0.conv1.weight      | Shape: torch.Size([32, 21, 3]) | Parameters: 2016 | require_grad: True\n",
      "Mean Value: -0.0015308154979720712 | Grad: None\n",
      "--------------------------------------------------------------------------------\n",
      "tcn_layers.0.conv1.bias        | Shape: torch.Size([32]) | Parameters: 32 | require_grad: True\n",
      "Mean Value: -0.0037392256781458855 | Grad: None\n",
      "--------------------------------------------------------------------------------\n",
      "tcn_layers.0.conv2.weight      | Shape: torch.Size([32, 32, 3]) | Parameters: 3072 | require_grad: True\n",
      "Mean Value: 0.0002577386039774865 | Grad: None\n",
      "--------------------------------------------------------------------------------\n",
      "tcn_layers.0.conv2.bias        | Shape: torch.Size([32]) | Parameters: 32 | require_grad: True\n",
      "Mean Value: 0.010295314714312553 | Grad: None\n",
      "--------------------------------------------------------------------------------\n",
      "tcn_layers.0.norm1.weight      | Shape: torch.Size([32]) | Parameters: 32 | require_grad: True\n",
      "Mean Value: 1.0 | Grad: None\n",
      "--------------------------------------------------------------------------------\n",
      "tcn_layers.0.norm1.bias        | Shape: torch.Size([32]) | Parameters: 32 | require_grad: True\n",
      "Mean Value: 0.0 | Grad: None\n",
      "--------------------------------------------------------------------------------\n",
      "tcn_layers.0.norm2.weight      | Shape: torch.Size([32]) | Parameters: 32 | require_grad: True\n",
      "Mean Value: 1.0 | Grad: None\n",
      "--------------------------------------------------------------------------------\n",
      "tcn_layers.0.norm2.bias        | Shape: torch.Size([32]) | Parameters: 32 | require_grad: True\n",
      "Mean Value: 0.0 | Grad: None\n",
      "--------------------------------------------------------------------------------\n",
      "tcn_layers.0.residual.weight   | Shape: torch.Size([32, 21, 1]) | Parameters: 672 | require_grad: True\n",
      "Mean Value: 0.006376264616847038 | Grad: None\n",
      "--------------------------------------------------------------------------------\n",
      "tcn_layers.0.residual.bias     | Shape: torch.Size([32]) | Parameters: 32 | require_grad: True\n",
      "Mean Value: -0.01219774130731821 | Grad: None\n",
      "--------------------------------------------------------------------------------\n",
      "tcn_layers.1.conv1.weight      | Shape: torch.Size([32, 32, 3]) | Parameters: 3072 | require_grad: True\n",
      "Mean Value: -0.00024367892183363438 | Grad: None\n",
      "--------------------------------------------------------------------------------\n",
      "tcn_layers.1.conv1.bias        | Shape: torch.Size([32]) | Parameters: 32 | require_grad: True\n",
      "Mean Value: -0.002956913784146309 | Grad: None\n",
      "--------------------------------------------------------------------------------\n",
      "tcn_layers.1.conv2.weight      | Shape: torch.Size([32, 32, 3]) | Parameters: 3072 | require_grad: True\n",
      "Mean Value: -0.0005427039577625692 | Grad: None\n",
      "--------------------------------------------------------------------------------\n",
      "tcn_layers.1.conv2.bias        | Shape: torch.Size([32]) | Parameters: 32 | require_grad: True\n",
      "Mean Value: -0.00505626667290926 | Grad: None\n",
      "--------------------------------------------------------------------------------\n",
      "tcn_layers.1.norm1.weight      | Shape: torch.Size([32]) | Parameters: 32 | require_grad: True\n",
      "Mean Value: 1.0 | Grad: None\n",
      "--------------------------------------------------------------------------------\n",
      "tcn_layers.1.norm1.bias        | Shape: torch.Size([32]) | Parameters: 32 | require_grad: True\n",
      "Mean Value: 0.0 | Grad: None\n",
      "--------------------------------------------------------------------------------\n",
      "tcn_layers.1.norm2.weight      | Shape: torch.Size([32]) | Parameters: 32 | require_grad: True\n",
      "Mean Value: 1.0 | Grad: None\n",
      "--------------------------------------------------------------------------------\n",
      "tcn_layers.1.norm2.bias        | Shape: torch.Size([32]) | Parameters: 32 | require_grad: True\n",
      "Mean Value: 0.0 | Grad: None\n",
      "--------------------------------------------------------------------------------\n",
      "tcn_layers.2.conv1.weight      | Shape: torch.Size([32, 32, 3]) | Parameters: 3072 | require_grad: True\n",
      "Mean Value: -0.000587925489526242 | Grad: None\n",
      "--------------------------------------------------------------------------------\n",
      "tcn_layers.2.conv1.bias        | Shape: torch.Size([32]) | Parameters: 32 | require_grad: True\n",
      "Mean Value: 0.009084152989089489 | Grad: None\n",
      "--------------------------------------------------------------------------------\n",
      "tcn_layers.2.conv2.weight      | Shape: torch.Size([32, 32, 3]) | Parameters: 3072 | require_grad: True\n",
      "Mean Value: 0.00035044093965552747 | Grad: None\n",
      "--------------------------------------------------------------------------------\n",
      "tcn_layers.2.conv2.bias        | Shape: torch.Size([32]) | Parameters: 32 | require_grad: True\n",
      "Mean Value: 0.012468465603888035 | Grad: None\n",
      "--------------------------------------------------------------------------------\n",
      "tcn_layers.2.norm1.weight      | Shape: torch.Size([32]) | Parameters: 32 | require_grad: True\n",
      "Mean Value: 1.0 | Grad: None\n",
      "--------------------------------------------------------------------------------\n",
      "tcn_layers.2.norm1.bias        | Shape: torch.Size([32]) | Parameters: 32 | require_grad: True\n",
      "Mean Value: 0.0 | Grad: None\n",
      "--------------------------------------------------------------------------------\n",
      "tcn_layers.2.norm2.weight      | Shape: torch.Size([32]) | Parameters: 32 | require_grad: True\n",
      "Mean Value: 1.0 | Grad: None\n",
      "--------------------------------------------------------------------------------\n",
      "tcn_layers.2.norm2.bias        | Shape: torch.Size([32]) | Parameters: 32 | require_grad: True\n",
      "Mean Value: 0.0 | Grad: None\n",
      "--------------------------------------------------------------------------------\n",
      "tcn_layers.3.conv1.weight      | Shape: torch.Size([32, 32, 3]) | Parameters: 3072 | require_grad: True\n",
      "Mean Value: -0.001800665631890297 | Grad: None\n",
      "--------------------------------------------------------------------------------\n",
      "tcn_layers.3.conv1.bias        | Shape: torch.Size([32]) | Parameters: 32 | require_grad: True\n",
      "Mean Value: -0.009289308451116085 | Grad: None\n",
      "--------------------------------------------------------------------------------\n",
      "tcn_layers.3.conv2.weight      | Shape: torch.Size([32, 32, 3]) | Parameters: 3072 | require_grad: True\n",
      "Mean Value: 0.001372437458485365 | Grad: None\n",
      "--------------------------------------------------------------------------------\n",
      "tcn_layers.3.conv2.bias        | Shape: torch.Size([32]) | Parameters: 32 | require_grad: True\n",
      "Mean Value: -0.004491603001952171 | Grad: None\n",
      "--------------------------------------------------------------------------------\n",
      "tcn_layers.3.norm1.weight      | Shape: torch.Size([32]) | Parameters: 32 | require_grad: True\n",
      "Mean Value: 1.0 | Grad: None\n",
      "--------------------------------------------------------------------------------\n",
      "tcn_layers.3.norm1.bias        | Shape: torch.Size([32]) | Parameters: 32 | require_grad: True\n",
      "Mean Value: 0.0 | Grad: None\n",
      "--------------------------------------------------------------------------------\n",
      "tcn_layers.3.norm2.weight      | Shape: torch.Size([32]) | Parameters: 32 | require_grad: True\n",
      "Mean Value: 1.0 | Grad: None\n",
      "--------------------------------------------------------------------------------\n",
      "tcn_layers.3.norm2.bias        | Shape: torch.Size([32]) | Parameters: 32 | require_grad: True\n",
      "Mean Value: 0.0 | Grad: None\n",
      "--------------------------------------------------------------------------------\n",
      "output_layer.2.weight          | Shape: torch.Size([1, 32]) | Parameters: 32 | require_grad: True\n",
      "Mean Value: 0.0005520284175872803 | Grad: None\n",
      "--------------------------------------------------------------------------------\n",
      "output_layer.2.bias            | Shape: torch.Size([1]) | Parameters: 1 | require_grad: True\n",
      "Mean Value: 0.008415144868195057 | Grad: None\n",
      "--------------------------------------------------------------------------------\n"
     ]
    }
   ],
   "source": [
    "%load_ext autoreload\n",
    "%autoreload 2\n",
    "from config import K, HIDDEN_DIM, LSTM_HIDDEN_DIM, DROPOUT_RATE, DEVICE\n",
    "from architecture import TwoLayerLSTM, TCNModel, DLinear, LightTransformer,CNNAttentionModel\n",
    "from seed import set_seed\n",
    "\n",
    "set_seed(42)\n",
    "\n",
    "\"\"\"\n",
    "lstm = TwoLayerLSTM(k=K, hidden_dim=HIDDEN_DIM, lstm_hidden_dim=LSTM_HIDDEN_DIM, dropout_rate=DROPOUT_RATE).to(DEVICE)\n",
    "print(\"Model architecture:\")\n",
    "for name, param in lstm.named_parameters():\n",
    "    print(f\"{name:30s} | Shape: {param.data.shape} | Parameters: {param.numel()} | require_grad: {param.requires_grad}\")\n",
    "    print(f\"Mean Value: {param.data.mean()} | Grad: {param.grad}\")\n",
    "    print(\"-\" * 80)\n",
    "    \n",
    "\"\"\"\n",
    "    \n",
    "\n",
    "#长序列，TCN处理效率最高\n",
    "lstm = TCNModel(k=K, hidden_dim=HIDDEN_DIM, num_layers=4, dropout_rate=DROPOUT_RATE).to(DEVICE)\n",
    "\n",
    "\"\"\"\n",
    "# 选项2：DLinear (数据有规律模式时)\n",
    "set_seed(42)\n",
    "lstm = DLinear(k=K, lookback=LOOKBACK, individual=True).to(DEVICE)\n",
    "\n",
    "# 选项3：Transformer (中等长度序列)\n",
    "set_seed(42)\n",
    "lstm = LightTransformer(k=K, d_model=HIDDEN_DIM, nhead=4, num_layers=2, dropout_rate=DROPOUT_RATE).to(DEVICE)\n",
    "\n",
    "\n",
    "# 选项4:CNN-Attention\n",
    "lstm = CNNAttentionModel(\n",
    "        k=K, \n",
    "        hidden_dim=HIDDEN_DIM, \n",
    "        num_heads=4,            # 注意力头数\n",
    "        dropout_rate=DROPOUT_RATE\n",
    "    ).to(DEVICE)\n",
    "\"\"\"\n",
    "print(\"Model architecture:\")\n",
    "for name, param in lstm.named_parameters():\n",
    "    print(f\"{name:30s} | Shape: {param.data.shape} | Parameters: {param.numel()} | require_grad: {param.requires_grad}\")\n",
    "    print(f\"Mean Value: {param.data.mean()} | Grad: {param.grad}\")\n",
    "    print(\"-\" * 80)"
   ]
  },
  {
   "cell_type": "code",
   "execution_count": 5,
   "id": "436a64d2-3fe7-4e6f-bd97-57d010591d1e",
   "metadata": {},
   "outputs": [],
   "source": [
    "from data_loader import get_data_loaders\n",
    "# 创建 Subset 类\n",
    "from torch.utils.data import DataLoader\n",
    "from config import BATCH_SIZE\n",
    "# 假设 dataset_train, dataset_test 都是 optDataset 的实例\n",
    "loader_train = DataLoader(dataset_train, batch_size=BATCH_SIZE, shuffle=True, num_workers=0)\n",
    "loader_test  = DataLoader(dataset_test,  batch_size=BATCH_SIZE, shuffle=False, num_workers=0)\n",
    "\n",
    "loader_train, loader_test = get_data_loaders(dataset_train, dataset_test)\n",
    "\n",
    "loss_log=[]\n",
    "loss_log_regret=[]"
   ]
  },
  {
   "cell_type": "code",
   "execution_count": 5,
   "id": "09a23b4e-2bfb-4269-bbae-a5e280e5b8a7",
   "metadata": {},
   "outputs": [
    {
     "name": "stdout",
     "output_type": "stream",
     "text": [
      "Seed set to 42\n",
      "Num of cores: 1\n"
     ]
    },
    {
     "name": "stderr",
     "output_type": "stream",
     "text": [
      "Epoch 1/3: 100%|██████████| 13101/13101 [04:12<00:00, 51.91it/s, loss=0.0000, batch time=0.0248s] \n",
      "Testing Regret: 3276batch [00:57, 57.16batch/s]\n"
     ]
    },
    {
     "name": "stdout",
     "output_type": "stream",
     "text": [
      "Epoch 1: Loss=0.000000, Regret=91.4531%, Time=309.78s\n"
     ]
    },
    {
     "name": "stderr",
     "output_type": "stream",
     "text": [
      "Epoch 2/3: 100%|██████████| 13101/13101 [03:50<00:00, 56.79it/s, loss=0.0000, batch time=0.0358s] \n",
      "Testing Regret: 3276batch [00:50, 64.50batch/s]\n"
     ]
    },
    {
     "name": "stdout",
     "output_type": "stream",
     "text": [
      "Epoch 2: Loss=0.000000, Regret=91.4653%, Time=281.56s\n"
     ]
    },
    {
     "name": "stderr",
     "output_type": "stream",
     "text": [
      "Epoch 3/3: 100%|██████████| 13101/13101 [03:46<00:00, 57.92it/s, loss=0.0000, batch time=0.0085s] \n",
      "Testing Regret: 3276batch [00:54, 59.81batch/s]\n"
     ]
    },
    {
     "name": "stdout",
     "output_type": "stream",
     "text": [
      "Epoch 3: Loss=0.000000, Regret=91.4831%, Time=280.98s\n",
      "Total training time: 872.32s, Effective computation time: 516.43s\n",
      "模型参数已保存到 ./lstm/trial_7_assets_TCN.pt\n"
     ]
    }
   ],
   "source": [
    "from train import trainModel\n",
    "from config import NUM_EPOCHS, BATCH_SIZE, LR, LSTM_SAVE_DIR\n",
    "import os\n",
    "os.makedirs(LSTM_SAVE_DIR, exist_ok=True)   \n",
    "import pyepo\n",
    "import torch \n",
    "\n",
    "set_seed(42)\n",
    "\n",
    "spop = pyepo.func.SPOPlus(model)\n",
    "loss_log, loss_log_regret = trainModel(\n",
    "    lstm, \n",
    "    loss_func=spop, \n",
    "    method_name=\"spo+\",\n",
    "    loader_train=loader_train,\n",
    "    loader_test=loader_test,\n",
    "    market_neutral_model=model,\n",
    "    params_testing=params_testing,\n",
    "    loss_log=loss_log, \n",
    "    loss_log_regret=loss_log_regret,\n",
    "    num_epochs=NUM_EPOCHS,  # Increased for better convergence\n",
    "    lr=LR,\n",
    "    initial=False,# Adjusted learning rate,\n",
    "    scaler= False\n",
    ")\n",
    "\n",
    "lstm_save_path = os.path.join(LSTM_SAVE_DIR, \"trial_7_assets_TCN.pt\")\n",
    "torch.save({\n",
    "    'model_state_dict': lstm.state_dict(),\n",
    "    'loss_log': loss_log,\n",
    "    'loss_log_regret': loss_log_regret\n",
    "}, lstm_save_path)\n",
    "\n",
    "print(f\"模型参数已保存到 {lstm_save_path}\")"
   ]
  },
  {
   "cell_type": "code",
   "execution_count": null,
   "id": "90078062-0f2f-4002-932c-631892f4acd5",
   "metadata": {},
   "outputs": [
    {
     "name": "stdout",
     "output_type": "stream",
     "text": [
      "第1次训练\n",
      "Seed set to 42\n",
      "Num of cores: 1\n"
     ]
    },
    {
     "name": "stderr",
     "output_type": "stream",
     "text": [
      "Epoch 1/3: 100%|██████████| 13101/13101 [03:47<00:00, 57.57it/s, loss=0.0000, batch time=0.0194s] \n",
      "Testing Regret: 3276batch [00:51, 63.51batch/s]\n"
     ]
    },
    {
     "name": "stdout",
     "output_type": "stream",
     "text": [
      "Epoch 1: Loss=0.000000, Regret=91.4856%, Time=279.22s\n"
     ]
    },
    {
     "name": "stderr",
     "output_type": "stream",
     "text": [
      "Epoch 2/3: 100%|██████████| 13101/13101 [03:50<00:00, 56.74it/s, loss=0.0000, batch time=0.0195s] \n",
      "Testing Regret: 3276batch [00:51, 63.07batch/s]\n"
     ]
    },
    {
     "name": "stdout",
     "output_type": "stream",
     "text": [
      "Epoch 2: Loss=0.000000, Regret=91.4617%, Time=282.95s\n"
     ]
    },
    {
     "name": "stderr",
     "output_type": "stream",
     "text": [
      "Epoch 3/3: 100%|██████████| 13101/13101 [03:49<00:00, 57.20it/s, loss=0.0000, batch time=0.0092s] \n",
      "Testing Regret: 3276batch [00:51, 63.49batch/s]\n"
     ]
    },
    {
     "name": "stdout",
     "output_type": "stream",
     "text": [
      "Epoch 3: Loss=0.000000, Regret=91.4800%, Time=280.66s\n",
      "Total training time: 842.83s, Effective computation time: 488.16s\n",
      "模型参数已保存到 ./lstm/trial_7_assets_TCN.pt\n",
      "第2次训练\n",
      "Seed set to 42\n",
      "Num of cores: 1\n"
     ]
    },
    {
     "name": "stderr",
     "output_type": "stream",
     "text": [
      "Epoch 1/3: 100%|██████████| 13101/13101 [03:47<00:00, 57.60it/s, loss=0.0000, batch time=0.0246s] \n",
      "Testing Regret: 3276batch [00:54, 60.37batch/s]\n"
     ]
    },
    {
     "name": "stdout",
     "output_type": "stream",
     "text": [
      "Epoch 1: Loss=0.000000, Regret=91.4880%, Time=281.74s\n"
     ]
    },
    {
     "name": "stderr",
     "output_type": "stream",
     "text": [
      "Epoch 2/3: 100%|██████████| 13101/13101 [03:48<00:00, 57.25it/s, loss=0.0000, batch time=0.0332s] \n",
      "Testing Regret: 3276batch [00:58, 55.61batch/s]\n"
     ]
    },
    {
     "name": "stdout",
     "output_type": "stream",
     "text": [
      "Epoch 2: Loss=0.000000, Regret=91.4792%, Time=287.74s\n"
     ]
    },
    {
     "name": "stderr",
     "output_type": "stream",
     "text": [
      "Epoch 3/3: 100%|██████████| 13101/13101 [03:53<00:00, 56.10it/s, loss=0.0000, batch time=0.0085s] \n",
      "Testing Regret: 3276batch [00:56, 57.95batch/s]\n"
     ]
    },
    {
     "name": "stdout",
     "output_type": "stream",
     "text": [
      "Epoch 3: Loss=0.000000, Regret=91.4733%, Time=290.13s\n",
      "Total training time: 859.61s, Effective computation time: 491.90s\n",
      "模型参数已保存到 ./lstm/trial_7_assets_TCN.pt\n",
      "第3次训练\n",
      "Seed set to 42\n",
      "Num of cores: 1\n"
     ]
    },
    {
     "name": "stderr",
     "output_type": "stream",
     "text": [
      "Epoch 1/3: 100%|██████████| 13101/13101 [03:49<00:00, 57.11it/s, loss=0.0000, batch time=0.0090s] \n",
      "Testing Regret: 3276batch [00:53, 61.73batch/s]\n"
     ]
    },
    {
     "name": "stdout",
     "output_type": "stream",
     "text": [
      "Epoch 1: Loss=0.000000, Regret=91.4980%, Time=282.48s\n"
     ]
    },
    {
     "name": "stderr",
     "output_type": "stream",
     "text": [
      "Epoch 2/3: 100%|██████████| 13101/13101 [03:51<00:00, 56.64it/s, loss=0.0000, batch time=0.0154s] \n",
      "Testing Regret: 3276batch [00:52, 62.29batch/s]\n"
     ]
    },
    {
     "name": "stdout",
     "output_type": "stream",
     "text": [
      "Epoch 2: Loss=0.000000, Regret=91.4042%, Time=283.92s\n"
     ]
    },
    {
     "name": "stderr",
     "output_type": "stream",
     "text": [
      "Epoch 3/3: 100%|██████████| 13101/13101 [03:50<00:00, 56.91it/s, loss=0.0000, batch time=0.0089s] \n",
      "Testing Regret: 3276batch [00:54, 60.39batch/s]\n"
     ]
    },
    {
     "name": "stdout",
     "output_type": "stream",
     "text": [
      "Epoch 3: Loss=0.000000, Regret=91.5309%, Time=284.44s\n",
      "Total training time: 850.84s, Effective computation time: 488.17s\n",
      "模型参数已保存到 ./lstm/trial_7_assets_TCN.pt\n",
      "第4次训练\n",
      "Seed set to 42\n",
      "Num of cores: 1\n"
     ]
    },
    {
     "name": "stderr",
     "output_type": "stream",
     "text": [
      "Epoch 1/3: 100%|██████████| 13101/13101 [03:54<00:00, 55.82it/s, loss=0.0000, batch time=0.0085s] \n",
      "Testing Regret: 3276batch [00:56, 57.67batch/s]\n"
     ]
    },
    {
     "name": "stdout",
     "output_type": "stream",
     "text": [
      "Epoch 1: Loss=0.000000, Regret=91.5233%, Time=291.52s\n"
     ]
    },
    {
     "name": "stderr",
     "output_type": "stream",
     "text": [
      "Epoch 2/3: 100%|██████████| 13101/13101 [03:52<00:00, 56.28it/s, loss=0.0000, batch time=0.0086s] \n",
      "Testing Regret: 3276batch [00:57, 56.54batch/s]\n"
     ]
    },
    {
     "name": "stdout",
     "output_type": "stream",
     "text": [
      "Epoch 2: Loss=0.000000, Regret=91.4470%, Time=290.74s\n"
     ]
    },
    {
     "name": "stderr",
     "output_type": "stream",
     "text": [
      "Epoch 3/3: 100%|██████████| 13101/13101 [03:58<00:00, 54.85it/s, loss=0.0000, batch time=0.0094s] \n",
      "Testing Regret: 3276batch [00:51, 63.47batch/s]\n"
     ]
    },
    {
     "name": "stdout",
     "output_type": "stream",
     "text": [
      "Epoch 3: Loss=0.000000, Regret=91.5131%, Time=290.49s\n",
      "Total training time: 872.75s, Effective computation time: 486.96s\n",
      "模型参数已保存到 ./lstm/trial_7_assets_TCN.pt\n",
      "第5次训练\n",
      "Seed set to 42\n",
      "Num of cores: 1\n"
     ]
    },
    {
     "name": "stderr",
     "output_type": "stream",
     "text": [
      "Epoch 1/3: 100%|██████████| 13101/13101 [03:52<00:00, 56.42it/s, loss=0.0000, batch time=0.0087s] \n",
      "Testing Regret: 3276batch [00:51, 63.92batch/s]\n"
     ]
    },
    {
     "name": "stdout",
     "output_type": "stream",
     "text": [
      "Epoch 1: Loss=0.000000, Regret=91.5533%, Time=283.46s\n"
     ]
    },
    {
     "name": "stderr",
     "output_type": "stream",
     "text": [
      "Epoch 2/3: 100%|██████████| 13101/13101 [03:49<00:00, 57.12it/s, loss=0.0000, batch time=0.0247s] \n",
      "Testing Regret: 3276batch [00:51, 63.84batch/s]\n"
     ]
    },
    {
     "name": "stdout",
     "output_type": "stream",
     "text": [
      "Epoch 2: Loss=0.000000, Regret=91.4045%, Time=280.67s\n"
     ]
    },
    {
     "name": "stderr",
     "output_type": "stream",
     "text": [
      "Epoch 3/3: 100%|██████████| 13101/13101 [03:50<00:00, 56.72it/s, loss=0.0000, batch time=0.0086s] \n",
      "Testing Regret: 3276batch [00:53, 61.16batch/s]\n"
     ]
    },
    {
     "name": "stdout",
     "output_type": "stream",
     "text": [
      "Epoch 3: Loss=0.000000, Regret=91.5154%, Time=284.55s\n",
      "Total training time: 848.67s, Effective computation time: 488.94s\n",
      "模型参数已保存到 ./lstm/trial_7_assets_TCN.pt\n",
      "第6次训练\n",
      "Seed set to 42\n",
      "Num of cores: 1\n"
     ]
    },
    {
     "name": "stderr",
     "output_type": "stream",
     "text": [
      "Epoch 1/3: 100%|██████████| 13101/13101 [03:47<00:00, 57.49it/s, loss=0.0000, batch time=0.0277s] \n",
      "Testing Regret: 3276batch [00:54, 59.69batch/s]\n"
     ]
    },
    {
     "name": "stdout",
     "output_type": "stream",
     "text": [
      "Epoch 1: Loss=0.000000, Regret=91.4817%, Time=282.82s\n"
     ]
    },
    {
     "name": "stderr",
     "output_type": "stream",
     "text": [
      "Epoch 2/3: 100%|██████████| 13101/13101 [03:52<00:00, 56.40it/s, loss=0.0000, batch time=0.0086s] \n",
      "Testing Regret: 3276batch [00:55, 59.55batch/s]\n"
     ]
    },
    {
     "name": "stdout",
     "output_type": "stream",
     "text": [
      "Epoch 2: Loss=0.000000, Regret=91.3666%, Time=287.34s\n"
     ]
    },
    {
     "name": "stderr",
     "output_type": "stream",
     "text": [
      "Epoch 3/3: 100%|██████████| 13101/13101 [03:53<00:00, 56.16it/s, loss=0.0000, batch time=0.0087s] \n",
      "Testing Regret: 3276batch [00:51, 64.07batch/s]\n"
     ]
    },
    {
     "name": "stdout",
     "output_type": "stream",
     "text": [
      "Epoch 3: Loss=0.000000, Regret=91.4632%, Time=284.41s\n",
      "Total training time: 854.57s, Effective computation time: 488.25s\n",
      "模型参数已保存到 ./lstm/trial_7_assets_TCN.pt\n",
      "第7次训练\n",
      "Seed set to 42\n",
      "Num of cores: 1\n"
     ]
    },
    {
     "name": "stderr",
     "output_type": "stream",
     "text": [
      "Epoch 1/3: 100%|██████████| 13101/13101 [03:53<00:00, 56.14it/s, loss=0.0000, batch time=0.0153s] \n",
      "Testing Regret: 3276batch [00:51, 63.73batch/s]\n"
     ]
    },
    {
     "name": "stdout",
     "output_type": "stream",
     "text": [
      "Epoch 1: Loss=0.000000, Regret=91.4946%, Time=284.77s\n"
     ]
    },
    {
     "name": "stderr",
     "output_type": "stream",
     "text": [
      "Epoch 2/3: 100%|██████████| 13101/13101 [03:48<00:00, 57.41it/s, loss=0.0000, batch time=0.0087s] \n",
      "Testing Regret: 3276batch [00:51, 63.04batch/s]\n"
     ]
    },
    {
     "name": "stdout",
     "output_type": "stream",
     "text": [
      "Epoch 2: Loss=0.000000, Regret=91.3893%, Time=280.26s\n"
     ]
    },
    {
     "name": "stderr",
     "output_type": "stream",
     "text": [
      "Epoch 3/3: 100%|██████████| 13101/13101 [04:01<00:00, 54.31it/s, loss=0.0000, batch time=0.0088s] \n",
      "Testing Regret: 3276batch [00:55, 59.53batch/s]\n"
     ]
    },
    {
     "name": "stdout",
     "output_type": "stream",
     "text": [
      "Epoch 3: Loss=0.000000, Regret=91.5291%, Time=296.26s\n",
      "Total training time: 861.29s, Effective computation time: 490.26s\n",
      "模型参数已保存到 ./lstm/trial_7_assets_TCN.pt\n",
      "第8次训练\n",
      "Seed set to 42\n",
      "Num of cores: 1\n"
     ]
    },
    {
     "name": "stderr",
     "output_type": "stream",
     "text": [
      "Epoch 1/3: 100%|██████████| 13101/13101 [03:54<00:00, 55.91it/s, loss=0.0000, batch time=0.0086s] \n",
      "Testing Regret: 3276batch [00:52, 62.11batch/s]\n"
     ]
    },
    {
     "name": "stdout",
     "output_type": "stream",
     "text": [
      "Epoch 1: Loss=0.000000, Regret=91.4379%, Time=287.11s\n"
     ]
    },
    {
     "name": "stderr",
     "output_type": "stream",
     "text": [
      "Epoch 2/3: 100%|██████████| 13101/13101 [03:50<00:00, 56.82it/s, loss=0.0000, batch time=0.0243s] \n",
      "Testing Regret: 3276batch [00:56, 57.97batch/s]\n"
     ]
    },
    {
     "name": "stdout",
     "output_type": "stream",
     "text": [
      "Epoch 2: Loss=0.000000, Regret=91.4484%, Time=287.07s\n"
     ]
    },
    {
     "name": "stderr",
     "output_type": "stream",
     "text": [
      "Epoch 3/3: 100%|██████████| 13101/13101 [03:50<00:00, 56.79it/s, loss=0.0000, batch time=0.0089s] \n",
      "Testing Regret: 3276batch [00:51, 63.07batch/s]\n"
     ]
    },
    {
     "name": "stdout",
     "output_type": "stream",
     "text": [
      "Epoch 3: Loss=0.000000, Regret=91.5113%, Time=282.63s\n",
      "Total training time: 856.81s, Effective computation time: 487.08s\n",
      "模型参数已保存到 ./lstm/trial_7_assets_TCN.pt\n",
      "第9次训练\n",
      "Seed set to 42\n",
      "Num of cores: 1\n"
     ]
    },
    {
     "name": "stderr",
     "output_type": "stream",
     "text": [
      "Epoch 1/3: 100%|██████████| 13101/13101 [03:51<00:00, 56.53it/s, loss=0.0000, batch time=0.0087s] \n",
      "Testing Regret: 3276batch [00:58, 55.67batch/s]\n"
     ]
    },
    {
     "name": "stdout",
     "output_type": "stream",
     "text": [
      "Epoch 1: Loss=0.000000, Regret=91.4051%, Time=290.60s\n"
     ]
    },
    {
     "name": "stderr",
     "output_type": "stream",
     "text": [
      "Epoch 2/3: 100%|██████████| 13101/13101 [03:53<00:00, 56.14it/s, loss=0.0000, batch time=0.0086s] \n",
      "Testing Regret: 3276batch [00:52, 62.77batch/s]\n"
     ]
    },
    {
     "name": "stdout",
     "output_type": "stream",
     "text": [
      "Epoch 2: Loss=0.000000, Regret=91.3471%, Time=285.64s\n"
     ]
    },
    {
     "name": "stderr",
     "output_type": "stream",
     "text": [
      "Epoch 3/3: 100%|██████████| 13101/13101 [03:48<00:00, 57.43it/s, loss=0.0000, batch time=0.0106s] \n",
      "Testing Regret: 3276batch [00:52, 62.98batch/s]\n"
     ]
    },
    {
     "name": "stdout",
     "output_type": "stream",
     "text": [
      "Epoch 3: Loss=0.000000, Regret=91.5058%, Time=280.12s\n",
      "Total training time: 856.36s, Effective computation time: 485.29s\n",
      "模型参数已保存到 ./lstm/trial_7_assets_TCN.pt\n",
      "第10次训练\n",
      "Seed set to 42\n",
      "Num of cores: 1\n"
     ]
    },
    {
     "name": "stderr",
     "output_type": "stream",
     "text": [
      "Epoch 1/3: 100%|██████████| 13101/13101 [03:52<00:00, 56.28it/s, loss=0.0000, batch time=0.0085s] \n",
      "Testing Regret: 3276batch [00:54, 60.51batch/s]\n"
     ]
    },
    {
     "name": "stdout",
     "output_type": "stream",
     "text": [
      "Epoch 1: Loss=0.000000, Regret=91.3913%, Time=286.92s\n"
     ]
    },
    {
     "name": "stderr",
     "output_type": "stream",
     "text": [
      "Epoch 2/3: 100%|██████████| 13101/13101 [03:53<00:00, 56.16it/s, loss=0.0000, batch time=0.0088s] \n",
      "Testing Regret: 3276batch [00:56, 58.38batch/s]\n"
     ]
    },
    {
     "name": "stdout",
     "output_type": "stream",
     "text": [
      "Epoch 2: Loss=0.000000, Regret=91.2896%, Time=289.46s\n"
     ]
    },
    {
     "name": "stderr",
     "output_type": "stream",
     "text": [
      "Epoch 3/3: 100%|██████████| 13101/13101 [03:54<00:00, 55.84it/s, loss=0.0000, batch time=0.0086s] \n",
      "Testing Regret: 3276batch [00:56, 58.25batch/s]\n"
     ]
    },
    {
     "name": "stdout",
     "output_type": "stream",
     "text": [
      "Epoch 3: Loss=0.000000, Regret=91.6502%, Time=290.92s\n",
      "Total training time: 867.30s, Effective computation time: 487.99s\n",
      "模型参数已保存到 ./lstm/trial_7_assets_TCN.pt\n",
      "第11次训练\n",
      "Seed set to 42\n",
      "Num of cores: 1\n"
     ]
    },
    {
     "name": "stderr",
     "output_type": "stream",
     "text": [
      "Epoch 1/3: 100%|██████████| 13101/13101 [03:53<00:00, 56.03it/s, loss=0.0000, batch time=0.0087s] \n",
      "Testing Regret: 3276batch [00:52, 62.48batch/s]\n"
     ]
    },
    {
     "name": "stdout",
     "output_type": "stream",
     "text": [
      "Epoch 1: Loss=0.000000, Regret=91.3727%, Time=286.27s\n"
     ]
    },
    {
     "name": "stderr",
     "output_type": "stream",
     "text": [
      "Epoch 2/3: 100%|██████████| 13101/13101 [03:50<00:00, 56.93it/s, loss=0.0000, batch time=0.0118s] \n",
      "Testing Regret: 3276batch [00:52, 62.00batch/s]\n"
     ]
    },
    {
     "name": "stdout",
     "output_type": "stream",
     "text": [
      "Epoch 2: Loss=0.000000, Regret=91.3109%, Time=283.00s\n"
     ]
    },
    {
     "name": "stderr",
     "output_type": "stream",
     "text": [
      "Epoch 3/3: 100%|██████████| 13101/13101 [03:53<00:00, 56.16it/s, loss=0.0000, batch time=0.0085s] \n",
      "Testing Regret: 3276batch [00:51, 63.14batch/s]\n"
     ]
    },
    {
     "name": "stdout",
     "output_type": "stream",
     "text": [
      "Epoch 3: Loss=0.000000, Regret=91.6665%, Time=285.24s\n",
      "Total training time: 854.51s, Effective computation time: 484.03s\n",
      "模型参数已保存到 ./lstm/trial_7_assets_TCN.pt\n",
      "第12次训练\n",
      "Seed set to 42\n",
      "Num of cores: 1\n"
     ]
    },
    {
     "name": "stderr",
     "output_type": "stream",
     "text": [
      "Epoch 1/3: 100%|██████████| 13101/13101 [03:53<00:00, 56.12it/s, loss=0.0000, batch time=0.0085s] \n",
      "Testing Regret: 3276batch [00:56, 57.47batch/s]\n"
     ]
    },
    {
     "name": "stdout",
     "output_type": "stream",
     "text": [
      "Epoch 1: Loss=0.000000, Regret=91.3334%, Time=290.48s\n"
     ]
    },
    {
     "name": "stderr",
     "output_type": "stream",
     "text": [
      "Epoch 2/3: 100%|██████████| 13101/13101 [03:52<00:00, 56.46it/s, loss=0.0000, batch time=0.0088s] \n",
      "Testing Regret: 3276batch [00:51, 63.05batch/s]\n"
     ]
    },
    {
     "name": "stdout",
     "output_type": "stream",
     "text": [
      "Epoch 2: Loss=0.000000, Regret=91.3318%, Time=284.06s\n"
     ]
    },
    {
     "name": "stderr",
     "output_type": "stream",
     "text": [
      "Epoch 3/3: 100%|██████████| 13101/13101 [03:52<00:00, 56.37it/s, loss=0.0000, batch time=0.0086s] \n",
      "Testing Regret: 3276batch [00:52, 62.55batch/s]\n"
     ]
    },
    {
     "name": "stdout",
     "output_type": "stream",
     "text": [
      "Epoch 3: Loss=0.000000, Regret=91.5950%, Time=284.82s\n",
      "Total training time: 859.35s, Effective computation time: 485.41s\n",
      "模型参数已保存到 ./lstm/trial_7_assets_TCN.pt\n",
      "第13次训练\n",
      "Seed set to 42\n",
      "Num of cores: 1\n"
     ]
    },
    {
     "name": "stderr",
     "output_type": "stream",
     "text": [
      "Epoch 1/3: 100%|██████████| 13101/13101 [03:57<00:00, 55.27it/s, loss=0.0000, batch time=0.0086s] \n",
      "Testing Regret: 3276batch [00:55, 59.55batch/s]\n"
     ]
    },
    {
     "name": "stdout",
     "output_type": "stream",
     "text": [
      "Epoch 1: Loss=0.000000, Regret=91.2961%, Time=292.08s\n"
     ]
    },
    {
     "name": "stderr",
     "output_type": "stream",
     "text": [
      "Epoch 2/3: 100%|██████████| 13101/13101 [03:53<00:00, 56.04it/s, loss=0.0000, batch time=0.0086s] \n",
      "Testing Regret: 3276batch [00:53, 60.97batch/s]\n"
     ]
    },
    {
     "name": "stdout",
     "output_type": "stream",
     "text": [
      "Epoch 2: Loss=0.000000, Regret=91.2498%, Time=287.63s\n"
     ]
    },
    {
     "name": "stderr",
     "output_type": "stream",
     "text": [
      "Epoch 3/3: 100%|██████████| 13101/13101 [03:52<00:00, 56.35it/s, loss=0.0000, batch time=0.0195s] \n",
      "Testing Regret: 3276batch [00:51, 64.20batch/s]\n"
     ]
    },
    {
     "name": "stdout",
     "output_type": "stream",
     "text": [
      "Epoch 3: Loss=0.000000, Regret=91.5767%, Time=283.60s\n",
      "Total training time: 863.30s, Effective computation time: 487.13s\n",
      "模型参数已保存到 ./lstm/trial_7_assets_TCN.pt\n",
      "第14次训练\n",
      "Seed set to 42\n",
      "Num of cores: 1\n"
     ]
    },
    {
     "name": "stderr",
     "output_type": "stream",
     "text": [
      "Epoch 1/3: 100%|██████████| 13101/13101 [03:48<00:00, 57.25it/s, loss=0.0000, batch time=0.0086s] \n",
      "Testing Regret: 3276batch [00:51, 64.12batch/s]\n"
     ]
    },
    {
     "name": "stdout",
     "output_type": "stream",
     "text": [
      "Epoch 1: Loss=0.000000, Regret=91.3574%, Time=279.99s\n"
     ]
    },
    {
     "name": "stderr",
     "output_type": "stream",
     "text": [
      "Epoch 2/3: 100%|██████████| 13101/13101 [03:42<00:00, 58.89it/s, loss=0.0000, batch time=0.0087s] \n",
      "Testing Regret: 3276batch [00:50, 64.77batch/s]\n"
     ]
    },
    {
     "name": "stdout",
     "output_type": "stream",
     "text": [
      "Epoch 2: Loss=0.000000, Regret=91.2647%, Time=273.09s\n"
     ]
    },
    {
     "name": "stderr",
     "output_type": "stream",
     "text": [
      "Epoch 3/3: 100%|██████████| 13101/13101 [03:48<00:00, 57.32it/s, loss=0.0000, batch time=0.0325s] \n",
      "Testing Regret: 3276batch [00:52, 62.03batch/s]\n"
     ]
    },
    {
     "name": "stdout",
     "output_type": "stream",
     "text": [
      "Epoch 3: Loss=0.000000, Regret=91.6065%, Time=281.43s\n",
      "Total training time: 834.51s, Effective computation time: 482.68s\n",
      "模型参数已保存到 ./lstm/trial_7_assets_TCN.pt\n",
      "第15次训练\n",
      "Seed set to 42\n",
      "Num of cores: 1\n"
     ]
    },
    {
     "name": "stderr",
     "output_type": "stream",
     "text": [
      "Epoch 1/3: 100%|██████████| 13101/13101 [03:51<00:00, 56.63it/s, loss=0.0000, batch time=0.0085s] \n",
      "Testing Regret: 3276batch [00:58, 56.03batch/s]\n"
     ]
    },
    {
     "name": "stdout",
     "output_type": "stream",
     "text": [
      "Epoch 1: Loss=0.000000, Regret=91.3617%, Time=289.90s\n"
     ]
    },
    {
     "name": "stderr",
     "output_type": "stream",
     "text": [
      "Epoch 2/3: 100%|██████████| 13101/13101 [03:49<00:00, 57.09it/s, loss=0.0000, batch time=0.0084s] \n",
      "Testing Regret: 3276batch [00:59, 55.40batch/s]\n"
     ]
    },
    {
     "name": "stdout",
     "output_type": "stream",
     "text": [
      "Epoch 2: Loss=0.000000, Regret=91.2568%, Time=288.61s\n"
     ]
    },
    {
     "name": "stderr",
     "output_type": "stream",
     "text": [
      "Epoch 3/3: 100%|██████████| 13101/13101 [03:47<00:00, 57.69it/s, loss=0.0000, batch time=0.0084s] \n",
      "Testing Regret: 3276batch [00:57, 56.74batch/s]\n"
     ]
    },
    {
     "name": "stdout",
     "output_type": "stream",
     "text": [
      "Epoch 3: Loss=0.000000, Regret=91.7050%, Time=284.85s\n",
      "Total training time: 863.36s, Effective computation time: 462.85s\n",
      "模型参数已保存到 ./lstm/trial_7_assets_TCN.pt\n",
      "第16次训练\n",
      "Seed set to 42\n",
      "Num of cores: 1\n"
     ]
    },
    {
     "name": "stderr",
     "output_type": "stream",
     "text": [
      "Epoch 1/3: 100%|██████████| 13101/13101 [03:48<00:00, 57.25it/s, loss=0.0000, batch time=0.0085s] \n",
      "Testing Regret: 3276batch [00:50, 64.76batch/s]\n"
     ]
    },
    {
     "name": "stdout",
     "output_type": "stream",
     "text": [
      "Epoch 1: Loss=0.000000, Regret=91.3940%, Time=279.46s\n"
     ]
    },
    {
     "name": "stderr",
     "output_type": "stream",
     "text": [
      "Epoch 2/3: 100%|██████████| 13101/13101 [03:40<00:00, 59.44it/s, loss=0.0000, batch time=0.0089s] \n",
      "Testing Regret: 3276batch [00:50, 64.82batch/s]\n"
     ]
    },
    {
     "name": "stdout",
     "output_type": "stream",
     "text": [
      "Epoch 2: Loss=0.000000, Regret=91.2625%, Time=270.95s\n"
     ]
    },
    {
     "name": "stderr",
     "output_type": "stream",
     "text": [
      "Epoch 3/3: 100%|██████████| 13101/13101 [03:49<00:00, 57.17it/s, loss=0.0000, batch time=0.0084s] \n",
      "Testing Regret: 3276batch [00:57, 56.79batch/s]\n"
     ]
    },
    {
     "name": "stdout",
     "output_type": "stream",
     "text": [
      "Epoch 3: Loss=0.000000, Regret=91.6621%, Time=286.85s\n",
      "Total training time: 837.26s, Effective computation time: 475.60s\n",
      "模型参数已保存到 ./lstm/trial_7_assets_TCN.pt\n",
      "第17次训练\n",
      "Seed set to 42\n",
      "Num of cores: 1\n"
     ]
    },
    {
     "name": "stderr",
     "output_type": "stream",
     "text": [
      "Epoch 1/3:  37%|███▋      | 4903/13101 [01:20<02:11, 62.27it/s, loss=-0.0000, batch time=0.0112s]IOPub message rate exceeded.\n",
      "The Jupyter server will temporarily stop sending output\n",
      "to the client in order to avoid crashing it.\n",
      "To change this limit, set the config variable\n",
      "`--ServerApp.iopub_msg_rate_limit`.\n",
      "\n",
      "Current values:\n",
      "ServerApp.iopub_msg_rate_limit=1000.0 (msgs/sec)\n",
      "ServerApp.rate_limit_window=3.0 (secs)\n",
      "\n",
      "Testing Regret: 3276batch [00:58, 56.40batch/s]\n"
     ]
    },
    {
     "name": "stdout",
     "output_type": "stream",
     "text": [
      "Epoch 1: Loss=0.000000, Regret=91.3111%, Time=276.59s\n"
     ]
    },
    {
     "name": "stderr",
     "output_type": "stream",
     "text": [
      "Epoch 2/3:  59%|█████▉    | 7702/13101 [02:12<01:28, 60.86it/s, loss=0.0000, batch time=0.0084s] IOPub message rate exceeded.\n",
      "The Jupyter server will temporarily stop sending output\n",
      "to the client in order to avoid crashing it.\n",
      "To change this limit, set the config variable\n",
      "`--ServerApp.iopub_msg_rate_limit`.\n",
      "\n",
      "Current values:\n",
      "ServerApp.iopub_msg_rate_limit=1000.0 (msgs/sec)\n",
      "ServerApp.rate_limit_window=3.0 (secs)\n",
      "\n",
      "Epoch 3/3:  83%|████████▎ | 10891/13101 [03:10<00:40, 54.14it/s, loss=0.0000, batch time=0.0085s] IOPub message rate exceeded.\n",
      "The Jupyter server will temporarily stop sending output\n",
      "to the client in order to avoid crashing it.\n",
      "To change this limit, set the config variable\n",
      "`--ServerApp.iopub_msg_rate_limit`.\n",
      "\n",
      "Current values:\n",
      "ServerApp.iopub_msg_rate_limit=1000.0 (msgs/sec)\n",
      "ServerApp.rate_limit_window=3.0 (secs)\n",
      "\n",
      "Testing Regret: 3276batch [00:58, 55.75batch/s]00:22, 59.50it/s, loss=0.0000, batch time=0.0238s] \n"
     ]
    },
    {
     "name": "stdout",
     "output_type": "stream",
     "text": [
      "Epoch 1: Loss=0.000000, Regret=91.3346%, Time=292.30s\n"
     ]
    },
    {
     "name": "stderr",
     "output_type": "stream",
     "text": [
      "Epoch 2/3:  17%|█▋        | 2277/13101 [00:42<03:20, 53.88it/s, loss=0.0000, batch time=0.0083s] IOPub message rate exceeded.\n",
      "The Jupyter server will temporarily stop sending output\n",
      "to the client in order to avoid crashing it.\n",
      "To change this limit, set the config variable\n",
      "`--ServerApp.iopub_msg_rate_limit`.\n",
      "\n",
      "Current values:\n",
      "ServerApp.iopub_msg_rate_limit=1000.0 (msgs/sec)\n",
      "ServerApp.rate_limit_window=3.0 (secs)\n",
      "\n",
      "Testing Regret: 3276batch [00:54, 60.22batch/s]00:05, 54.26it/s, loss=-0.0000, batch time=0.0153s]\n"
     ]
    },
    {
     "name": "stdout",
     "output_type": "stream",
     "text": [
      "Epoch 2: Loss=0.000000, Regret=91.0598%, Time=290.74s\n"
     ]
    },
    {
     "name": "stderr",
     "output_type": "stream",
     "text": [
      "Epoch 3/3:  18%|█▊        | 2402/13101 [00:41<02:51, 62.35it/s, loss=0.0000, batch time=0.0084s] IOPub message rate exceeded.\n",
      "The Jupyter server will temporarily stop sending output\n",
      "to the client in order to avoid crashing it.\n",
      "To change this limit, set the config variable\n",
      "`--ServerApp.iopub_msg_rate_limit`.\n",
      "\n",
      "Current values:\n",
      "ServerApp.iopub_msg_rate_limit=1000.0 (msgs/sec)\n",
      "ServerApp.rate_limit_window=3.0 (secs)\n",
      "\n",
      "Epoch 3/3: 100%|██████████| 13101/13101 [03:46<00:00, 57.74it/s, loss=0.0000, batch time=0.0084s] \n",
      "Testing Regret: 3276batch [00:58, 55.75batch/s]\n"
     ]
    },
    {
     "name": "stdout",
     "output_type": "stream",
     "text": [
      "Epoch 3: Loss=0.000000, Regret=91.6484%, Time=285.66s\n",
      "Total training time: 868.70s, Effective computation time: 462.49s\n",
      "模型参数已保存到 ./lstm/trial_7_assets_TCN.pt\n",
      "第25次训练\n",
      "Seed set to 42\n",
      "Num of cores: 1\n"
     ]
    },
    {
     "name": "stderr",
     "output_type": "stream",
     "text": [
      "Epoch 1/3:  32%|███▏      | 4255/13101 [01:18<02:42, 54.46it/s, loss=0.0000, batch time=0.0084s] IOPub message rate exceeded.\n",
      "The Jupyter server will temporarily stop sending output\n",
      "to the client in order to avoid crashing it.\n",
      "To change this limit, set the config variable\n",
      "`--ServerApp.iopub_msg_rate_limit`.\n",
      "\n",
      "Current values:\n",
      "ServerApp.iopub_msg_rate_limit=1000.0 (msgs/sec)\n",
      "ServerApp.rate_limit_window=3.0 (secs)\n",
      "\n",
      "Epoch 1/3: 100%|██████████| 13101/13101 [03:54<00:00, 55.83it/s, loss=0.0000, batch time=0.0083s] \n",
      "Testing Regret: 3276batch [00:50, 64.40batch/s]\n"
     ]
    },
    {
     "name": "stdout",
     "output_type": "stream",
     "text": [
      "Epoch 1: Loss=0.000000, Regret=91.2890%, Time=285.52s\n"
     ]
    },
    {
     "name": "stderr",
     "output_type": "stream",
     "text": [
      "Epoch 2/3:  26%|██▌       | 3401/13101 [00:58<02:38, 61.12it/s, loss=0.0000, batch time=0.0083s] IOPub message rate exceeded.\n",
      "The Jupyter server will temporarily stop sending output\n",
      "to the client in order to avoid crashing it.\n",
      "To change this limit, set the config variable\n",
      "`--ServerApp.iopub_msg_rate_limit`.\n",
      "\n",
      "Current values:\n",
      "ServerApp.iopub_msg_rate_limit=1000.0 (msgs/sec)\n",
      "ServerApp.rate_limit_window=3.0 (secs)\n",
      "\n",
      "Epoch 2/3: 100%|██████████| 13101/13101 [03:48<00:00, 57.24it/s, loss=0.0000, batch time=0.0087s] \n",
      "Testing Regret: 3276batch [00:55, 59.45batch/s]\n"
     ]
    },
    {
     "name": "stdout",
     "output_type": "stream",
     "text": [
      "Epoch 2: Loss=0.000000, Regret=91.1529%, Time=284.05s\n"
     ]
    },
    {
     "name": "stderr",
     "output_type": "stream",
     "text": [
      "Epoch 3/3:  29%|██▉       | 3854/13101 [01:08<02:50, 54.08it/s, loss=0.0000, batch time=0.0152s] IOPub message rate exceeded.\n",
      "The Jupyter server will temporarily stop sending output\n",
      "to the client in order to avoid crashing it.\n",
      "To change this limit, set the config variable\n",
      "`--ServerApp.iopub_msg_rate_limit`.\n",
      "\n",
      "Current values:\n",
      "ServerApp.iopub_msg_rate_limit=1000.0 (msgs/sec)\n",
      "ServerApp.rate_limit_window=3.0 (secs)\n",
      "\n",
      "Epoch 3/3: 100%|██████████| 13101/13101 [03:55<00:00, 55.58it/s, loss=0.0000, batch time=0.0243s] \n",
      "Testing Regret: 3276batch [00:58, 55.79batch/s]\n"
     ]
    },
    {
     "name": "stdout",
     "output_type": "stream",
     "text": [
      "Epoch 3: Loss=0.000000, Regret=91.5866%, Time=294.52s\n",
      "Total training time: 864.09s, Effective computation time: 462.31s\n",
      "模型参数已保存到 ./lstm/trial_7_assets_TCN.pt\n",
      "第26次训练\n",
      "Seed set to 42\n",
      "Num of cores: 1\n"
     ]
    },
    {
     "name": "stderr",
     "output_type": "stream",
     "text": [
      "Epoch 1/3:  25%|██▍       | 3258/13101 [00:56<02:41, 60.96it/s, loss=0.0000, batch time=0.0083s] IOPub message rate exceeded.\n",
      "The Jupyter server will temporarily stop sending output\n",
      "to the client in order to avoid crashing it.\n",
      "To change this limit, set the config variable\n",
      "`--ServerApp.iopub_msg_rate_limit`.\n",
      "\n",
      "Current values:\n",
      "ServerApp.iopub_msg_rate_limit=1000.0 (msgs/sec)\n",
      "ServerApp.rate_limit_window=3.0 (secs)\n",
      "\n",
      "Epoch 1/3: 100%|██████████| 13101/13101 [03:46<00:00, 57.82it/s, loss=0.0000, batch time=0.0241s] \n",
      "Epoch 2/3:  20%|██        | 2682/13101 [00:49<03:11, 54.40it/s, loss=0.0000, batch time=0.0084s] IOPub message rate exceeded.\n",
      "The Jupyter server will temporarily stop sending output\n",
      "to the client in order to avoid crashing it.\n",
      "To change this limit, set the config variable\n",
      "`--ServerApp.iopub_msg_rate_limit`.\n",
      "\n",
      "Current values:\n",
      "ServerApp.iopub_msg_rate_limit=1000.0 (msgs/sec)\n",
      "ServerApp.rate_limit_window=3.0 (secs)\n",
      "\n",
      "Epoch 2/3: 100%|██████████| 13101/13101 [03:47<00:00, 57.51it/s, loss=0.0000, batch time=0.0084s] \n",
      "Epoch 3/3:  21%|██        | 2764/13101 [00:50<03:09, 54.66it/s, loss=0.0000, batch time=0.0084s] IOPub message rate exceeded.\n",
      "The Jupyter server will temporarily stop sending output\n",
      "to the client in order to avoid crashing it.\n",
      "To change this limit, set the config variable\n",
      "`--ServerApp.iopub_msg_rate_limit`.\n",
      "\n",
      "Current values:\n",
      "ServerApp.iopub_msg_rate_limit=1000.0 (msgs/sec)\n",
      "ServerApp.rate_limit_window=3.0 (secs)\n",
      "\n",
      "Epoch 3/3: 100%|██████████| 13101/13101 [03:56<00:00, 55.42it/s, loss=0.0000, batch time=0.0085s] \n",
      "Testing Regret: 3276batch [00:57, 57.44batch/s]\n"
     ]
    },
    {
     "name": "stdout",
     "output_type": "stream",
     "text": [
      "Epoch 3: Loss=0.000000, Regret=91.5789%, Time=293.48s\n",
      "Total training time: 865.22s, Effective computation time: 465.63s\n",
      "模型参数已保存到 ./lstm/trial_7_assets_TCN.pt\n",
      "第27次训练\n",
      "Seed set to 42\n",
      "Num of cores: 1\n"
     ]
    },
    {
     "name": "stderr",
     "output_type": "stream",
     "text": [
      "Epoch 1/3:  20%|█▉        | 2589/13101 [00:43<02:45, 63.34it/s, loss=0.0000, batch time=0.0084s] IOPub message rate exceeded.\n",
      "The Jupyter server will temporarily stop sending output\n",
      "to the client in order to avoid crashing it.\n",
      "To change this limit, set the config variable\n",
      "`--ServerApp.iopub_msg_rate_limit`.\n",
      "\n",
      "Current values:\n",
      "ServerApp.iopub_msg_rate_limit=1000.0 (msgs/sec)\n",
      "ServerApp.rate_limit_window=3.0 (secs)\n",
      "\n",
      "Testing Regret: 3276batch [00:54, 60.65batch/s]\n"
     ]
    },
    {
     "name": "stdout",
     "output_type": "stream",
     "text": [
      "Epoch 1: Loss=0.000000, Regret=91.1709%, Time=281.78s\n"
     ]
    },
    {
     "name": "stderr",
     "output_type": "stream",
     "text": [
      "Epoch 2/3:  36%|███▌      | 4708/13101 [01:26<02:21, 59.21it/s, loss=0.0000, batch time=0.0085s] IOPub message rate exceeded.\n",
      "The Jupyter server will temporarily stop sending output\n",
      "to the client in order to avoid crashing it.\n",
      "To change this limit, set the config variable\n",
      "`--ServerApp.iopub_msg_rate_limit`.\n",
      "\n",
      "Current values:\n",
      "ServerApp.iopub_msg_rate_limit=1000.0 (msgs/sec)\n",
      "ServerApp.rate_limit_window=3.0 (secs)\n",
      "\n",
      "Epoch 2/3: 100%|██████████| 13101/13101 [03:52<00:00, 56.34it/s, loss=0.0000, batch time=0.0086s] \n",
      "Testing Regret: 3276batch [00:53, 61.23batch/s]\n"
     ]
    },
    {
     "name": "stdout",
     "output_type": "stream",
     "text": [
      "Epoch 2: Loss=0.000000, Regret=91.2208%, Time=286.09s\n"
     ]
    },
    {
     "name": "stderr",
     "output_type": "stream",
     "text": [
      "Epoch 3/3:  32%|███▏      | 4209/13101 [01:08<02:25, 61.22it/s, loss=0.0000, batch time=0.0320s] IOPub message rate exceeded.\n",
      "The Jupyter server will temporarily stop sending output\n",
      "to the client in order to avoid crashing it.\n",
      "To change this limit, set the config variable\n",
      "`--ServerApp.iopub_msg_rate_limit`.\n",
      "\n",
      "Current values:\n",
      "ServerApp.iopub_msg_rate_limit=1000.0 (msgs/sec)\n",
      "ServerApp.rate_limit_window=3.0 (secs)\n",
      "\n",
      "Epoch 3/3: 100%|██████████| 13101/13101 [03:49<00:00, 57.01it/s, loss=0.0000, batch time=0.0085s] \n",
      "Epoch 1/3:  22%|██▏       | 2840/13101 [00:48<03:11, 53.63it/s, loss=0.0000, batch time=0.0085s] IOPub message rate exceeded.\n",
      "The Jupyter server will temporarily stop sending output\n",
      "to the client in order to avoid crashing it.\n",
      "To change this limit, set the config variable\n",
      "`--ServerApp.iopub_msg_rate_limit`.\n",
      "\n",
      "Current values:\n",
      "ServerApp.iopub_msg_rate_limit=1000.0 (msgs/sec)\n",
      "ServerApp.rate_limit_window=3.0 (secs)\n",
      "\n",
      "Epoch 1/3: 100%|██████████| 13101/13101 [03:51<00:00, 56.49it/s, loss=0.0000, batch time=0.0353s] \n",
      "Testing Regret: 3276batch [00:52, 62.85batch/s]\n"
     ]
    },
    {
     "name": "stdout",
     "output_type": "stream",
     "text": [
      "Epoch 1: Loss=0.000000, Regret=91.1941%, Time=284.11s\n"
     ]
    },
    {
     "name": "stderr",
     "output_type": "stream",
     "text": [
      "Epoch 2/3:  26%|██▋       | 3449/13101 [01:03<02:56, 54.66it/s, loss=0.0000, batch time=0.0084s] IOPub message rate exceeded.\n",
      "The Jupyter server will temporarily stop sending output\n",
      "to the client in order to avoid crashing it.\n",
      "To change this limit, set the config variable\n",
      "`--ServerApp.iopub_msg_rate_limit`.\n",
      "\n",
      "Current values:\n",
      "ServerApp.iopub_msg_rate_limit=1000.0 (msgs/sec)\n",
      "ServerApp.rate_limit_window=3.0 (secs)\n",
      "\n",
      "Epoch 2/3: 100%|██████████| 13101/13101 [03:56<00:00, 55.28it/s, loss=0.0000, batch time=0.0323s] \n",
      "Testing Regret: 3276batch [00:56, 58.05batch/s]\n"
     ]
    },
    {
     "name": "stdout",
     "output_type": "stream",
     "text": [
      "Epoch 2: Loss=0.000000, Regret=91.1993%, Time=293.42s\n"
     ]
    },
    {
     "name": "stderr",
     "output_type": "stream",
     "text": [
      "Epoch 3/3:  27%|██▋       | 3600/13101 [01:08<02:54, 54.31it/s, loss=0.0000, batch time=0.0085s] IOPub message rate exceeded.\n",
      "The Jupyter server will temporarily stop sending output\n",
      "to the client in order to avoid crashing it.\n",
      "To change this limit, set the config variable\n",
      "`--ServerApp.iopub_msg_rate_limit`.\n",
      "\n",
      "Current values:\n",
      "ServerApp.iopub_msg_rate_limit=1000.0 (msgs/sec)\n",
      "ServerApp.rate_limit_window=3.0 (secs)\n",
      "\n",
      "Epoch 3/3: 100%|██████████| 13101/13101 [03:57<00:00, 55.21it/s, loss=0.0000, batch time=0.0084s] \n",
      "Testing Regret: 3276batch [00:55, 58.84batch/s]\n"
     ]
    },
    {
     "name": "stdout",
     "output_type": "stream",
     "text": [
      "Epoch 3: Loss=0.000000, Regret=91.3973%, Time=293.03s\n",
      "Total training time: 870.55s, Effective computation time: 456.85s\n",
      "模型参数已保存到 ./lstm/trial_7_assets_TCN.pt\n",
      "第29次训练\n",
      "Seed set to 42\n",
      "Num of cores: 1\n"
     ]
    },
    {
     "name": "stderr",
     "output_type": "stream",
     "text": [
      "Epoch 1/3:  33%|███▎      | 4294/13101 [01:16<02:41, 54.67it/s, loss=0.0000, batch time=0.0083s] IOPub message rate exceeded.\n",
      "The Jupyter server will temporarily stop sending output\n",
      "to the client in order to avoid crashing it.\n",
      "To change this limit, set the config variable\n",
      "`--ServerApp.iopub_msg_rate_limit`.\n",
      "\n",
      "Current values:\n",
      "ServerApp.iopub_msg_rate_limit=1000.0 (msgs/sec)\n",
      "ServerApp.rate_limit_window=3.0 (secs)\n",
      "\n",
      "Epoch 1/3: 100%|██████████| 13101/13101 [03:59<00:00, 54.67it/s, loss=0.0000, batch time=0.0347s] \n",
      "Testing Regret: 3276batch [00:58, 55.88batch/s]\n"
     ]
    },
    {
     "name": "stdout",
     "output_type": "stream",
     "text": [
      "Epoch 1: Loss=0.000000, Regret=91.3799%, Time=298.34s\n"
     ]
    },
    {
     "name": "stderr",
     "output_type": "stream",
     "text": [
      "Epoch 2/3:  19%|█▉        | 2518/13101 [00:42<03:16, 53.84it/s, loss=0.0000, batch time=0.0083s] IOPub message rate exceeded.\n",
      "The Jupyter server will temporarily stop sending output\n",
      "to the client in order to avoid crashing it.\n",
      "To change this limit, set the config variable\n",
      "`--ServerApp.iopub_msg_rate_limit`.\n",
      "\n",
      "Current values:\n",
      "ServerApp.iopub_msg_rate_limit=1000.0 (msgs/sec)\n",
      "ServerApp.rate_limit_window=3.0 (secs)\n",
      "\n",
      "Testing Regret: 3276batch [00:50, 65.19batch/s]\n"
     ]
    },
    {
     "name": "stdout",
     "output_type": "stream",
     "text": [
      "Epoch 2: Loss=0.000000, Regret=91.2464%, Time=273.22s\n"
     ]
    },
    {
     "name": "stderr",
     "output_type": "stream",
     "text": [
      "Epoch 3/3:  52%|█████▏    | 6755/13101 [01:59<01:58, 53.70it/s, loss=0.0000, batch time=0.0084s] IOPub message rate exceeded.\n",
      "The Jupyter server will temporarily stop sending output\n",
      "to the client in order to avoid crashing it.\n",
      "To change this limit, set the config variable\n",
      "`--ServerApp.iopub_msg_rate_limit`.\n",
      "\n",
      "Current values:\n",
      "ServerApp.iopub_msg_rate_limit=1000.0 (msgs/sec)\n",
      "ServerApp.rate_limit_window=3.0 (secs)\n",
      "\n",
      "Epoch 1/3:  93%|█████████▎| 12143/13101 [03:24<00:17, 56.23it/s, loss=0.0000, batch time=0.0086s] IOPub message rate exceeded.\n",
      "The Jupyter server will temporarily stop sending output\n",
      "to the client in order to avoid crashing it.\n",
      "To change this limit, set the config variable\n",
      "`--ServerApp.iopub_msg_rate_limit`.\n",
      "\n",
      "Current values:\n",
      "ServerApp.iopub_msg_rate_limit=1000.0 (msgs/sec)\n",
      "ServerApp.rate_limit_window=3.0 (secs)\n",
      "\n",
      "Testing Regret: 3276batch [00:55, 59.34batch/s]\n"
     ]
    },
    {
     "name": "stdout",
     "output_type": "stream",
     "text": [
      "Epoch 2: Loss=0.000000, Regret=91.2448%, Time=289.69s\n"
     ]
    },
    {
     "name": "stderr",
     "output_type": "stream",
     "text": [
      "Epoch 3/3:  40%|████      | 5299/13101 [01:33<02:22, 54.61it/s, loss=0.0000, batch time=0.0322s] IOPub message rate exceeded.\n",
      "The Jupyter server will temporarily stop sending output\n",
      "to the client in order to avoid crashing it.\n",
      "To change this limit, set the config variable\n",
      "`--ServerApp.iopub_msg_rate_limit`.\n",
      "\n",
      "Current values:\n",
      "ServerApp.iopub_msg_rate_limit=1000.0 (msgs/sec)\n",
      "ServerApp.rate_limit_window=3.0 (secs)\n",
      "\n",
      "Epoch 3/3: 100%|██████████| 13101/13101 [03:53<00:00, 56.11it/s, loss=0.0000, batch time=0.0084s] \n",
      "Testing Regret: 3276batch [00:53, 61.27batch/s]\n"
     ]
    },
    {
     "name": "stdout",
     "output_type": "stream",
     "text": [
      "Epoch 3: Loss=0.000000, Regret=91.3757%, Time=286.97s\n",
      "Total training time: 857.48s, Effective computation time: 468.27s\n",
      "模型参数已保存到 ./lstm/trial_7_assets_TCN.pt\n",
      "第31次训练\n",
      "Seed set to 42\n",
      "Num of cores: 1\n"
     ]
    },
    {
     "name": "stderr",
     "output_type": "stream",
     "text": [
      "Epoch 1/3:  30%|██▉       | 3924/13101 [01:11<02:27, 62.17it/s, loss=0.0000, batch time=0.0083s] IOPub message rate exceeded.\n",
      "The Jupyter server will temporarily stop sending output\n",
      "to the client in order to avoid crashing it.\n",
      "To change this limit, set the config variable\n",
      "`--ServerApp.iopub_msg_rate_limit`.\n",
      "\n",
      "Current values:\n",
      "ServerApp.iopub_msg_rate_limit=1000.0 (msgs/sec)\n",
      "ServerApp.rate_limit_window=3.0 (secs)\n",
      "\n",
      "Testing Regret: 3276batch [00:50, 65.17batch/s]\n"
     ]
    },
    {
     "name": "stdout",
     "output_type": "stream",
     "text": [
      "Epoch 1: Loss=0.000000, Regret=91.2371%, Time=282.85s\n"
     ]
    },
    {
     "name": "stderr",
     "output_type": "stream",
     "text": [
      "Epoch 2/3:  52%|█████▏    | 6853/13101 [01:54<01:55, 54.15it/s, loss=0.0000, batch time=0.0153s] IOPub message rate exceeded.\n",
      "The Jupyter server will temporarily stop sending output\n",
      "to the client in order to avoid crashing it.\n",
      "To change this limit, set the config variable\n",
      "`--ServerApp.iopub_msg_rate_limit`.\n",
      "\n",
      "Current values:\n",
      "ServerApp.iopub_msg_rate_limit=1000.0 (msgs/sec)\n",
      "ServerApp.rate_limit_window=3.0 (secs)\n",
      "\n",
      "Epoch 3/3:  80%|███████▉  | 10457/13101 [03:09<00:49, 53.83it/s, loss=0.0000, batch time=0.0246s] IOPub message rate exceeded.\n",
      "The Jupyter server will temporarily stop sending output\n",
      "to the client in order to avoid crashing it.\n",
      "To change this limit, set the config variable\n",
      "`--ServerApp.iopub_msg_rate_limit`.\n",
      "\n",
      "Current values:\n",
      "ServerApp.iopub_msg_rate_limit=1000.0 (msgs/sec)\n",
      "ServerApp.rate_limit_window=3.0 (secs)\n",
      "\n",
      "Testing Regret: 3276batch [00:54, 60.16batch/s]\n"
     ]
    },
    {
     "name": "stdout",
     "output_type": "stream",
     "text": [
      "Epoch 1: Loss=0.000000, Regret=91.2621%, Time=294.49s\n"
     ]
    },
    {
     "name": "stderr",
     "output_type": "stream",
     "text": [
      "Epoch 2/3:  51%|█████     | 6707/13101 [01:58<01:43, 61.56it/s, loss=0.0000, batch time=0.0081s] IOPub message rate exceeded.\n",
      "The Jupyter server will temporarily stop sending output\n",
      "to the client in order to avoid crashing it.\n",
      "To change this limit, set the config variable\n",
      "`--ServerApp.iopub_msg_rate_limit`.\n",
      "\n",
      "Current values:\n",
      "ServerApp.iopub_msg_rate_limit=1000.0 (msgs/sec)\n",
      "ServerApp.rate_limit_window=3.0 (secs)\n",
      "\n",
      "Epoch 3/3:  92%|█████████▏| 12018/13101 [03:40<00:19, 54.61it/s, loss=0.0000, batch time=0.0084s] IOPub message rate exceeded.\n",
      "The Jupyter server will temporarily stop sending output\n",
      "to the client in order to avoid crashing it.\n",
      "To change this limit, set the config variable\n",
      "`--ServerApp.iopub_msg_rate_limit`.\n",
      "\n",
      "Current values:\n",
      "ServerApp.iopub_msg_rate_limit=1000.0 (msgs/sec)\n",
      "ServerApp.rate_limit_window=3.0 (secs)\n",
      "\n",
      "Epoch 2/3:  65%|██████▌   | 8549/13101 [02:28<01:24, 54.05it/s, loss=0.0000, batch time=0.0084s] IOPub message rate exceeded.\n",
      "The Jupyter server will temporarily stop sending output\n",
      "to the client in order to avoid crashing it.\n",
      "To change this limit, set the config variable\n",
      "`--ServerApp.iopub_msg_rate_limit`.\n",
      "\n",
      "Current values:\n",
      "ServerApp.iopub_msg_rate_limit=1000.0 (msgs/sec)\n",
      "ServerApp.rate_limit_window=3.0 (secs)\n",
      "\n",
      "Epoch 3/3: 100%|██████████| 13101/13101 [03:57<00:00, 55.25it/s, loss=0.0000, batch time=0.0089s] \n",
      "Testing Regret: 3276batch [00:50, 65.11batch/s]\n"
     ]
    },
    {
     "name": "stdout",
     "output_type": "stream",
     "text": [
      "Epoch 3: Loss=0.000000, Regret=91.4557%, Time=287.49s\n",
      "Total training time: 873.72s, Effective computation time: 462.17s\n",
      "模型参数已保存到 ./lstm/trial_7_assets_TCN.pt\n",
      "第34次训练\n",
      "Seed set to 42\n",
      "Num of cores: 1\n"
     ]
    },
    {
     "name": "stderr",
     "output_type": "stream",
     "text": [
      "Epoch 1/3:  16%|█▌        | 2076/13101 [00:33<02:57, 62.17it/s, loss=0.0000, batch time=0.0082s] IOPub message rate exceeded.\n",
      "The Jupyter server will temporarily stop sending output\n",
      "to the client in order to avoid crashing it.\n",
      "To change this limit, set the config variable\n",
      "`--ServerApp.iopub_msg_rate_limit`.\n",
      "\n",
      "Current values:\n",
      "ServerApp.iopub_msg_rate_limit=1000.0 (msgs/sec)\n",
      "ServerApp.rate_limit_window=3.0 (secs)\n",
      "\n",
      "Epoch 2/3:  90%|████████▉ | 11740/13101 [03:32<00:24, 54.59it/s, loss=-0.0000, batch time=0.0083s]IOPub message rate exceeded.\n",
      "The Jupyter server will temporarily stop sending output\n",
      "to the client in order to avoid crashing it.\n",
      "To change this limit, set the config variable\n",
      "`--ServerApp.iopub_msg_rate_limit`.\n",
      "\n",
      "Current values:\n",
      "ServerApp.iopub_msg_rate_limit=1000.0 (msgs/sec)\n",
      "ServerApp.rate_limit_window=3.0 (secs)\n",
      "\n",
      "Testing Regret: 3276batch [00:50, 65.10batch/s]\n"
     ]
    },
    {
     "name": "stdout",
     "output_type": "stream",
     "text": [
      "Epoch 3: Loss=0.000000, Regret=91.4451%, Time=281.37s\n",
      "Total training time: 856.36s, Effective computation time: 467.84s\n",
      "模型参数已保存到 ./lstm/trial_7_assets_TCN.pt\n",
      "第35次训练\n",
      "Seed set to 42\n",
      "Num of cores: 1\n"
     ]
    },
    {
     "name": "stderr",
     "output_type": "stream",
     "text": [
      "Epoch 1/3:  41%|████      | 5392/13101 [01:38<02:21, 54.60it/s, loss=0.0000, batch time=0.0083s] IOPub message rate exceeded.\n",
      "The Jupyter server will temporarily stop sending output\n",
      "to the client in order to avoid crashing it.\n",
      "To change this limit, set the config variable\n",
      "`--ServerApp.iopub_msg_rate_limit`.\n",
      "\n",
      "Current values:\n",
      "ServerApp.iopub_msg_rate_limit=1000.0 (msgs/sec)\n",
      "ServerApp.rate_limit_window=3.0 (secs)\n",
      "\n",
      "Epoch 2/3:  76%|███████▌  | 9971/13101 [03:02<00:50, 61.84it/s, loss=0.0000, batch time=0.0320s] IOPub message rate exceeded.\n",
      "The Jupyter server will temporarily stop sending output\n",
      "to the client in order to avoid crashing it.\n",
      "To change this limit, set the config variable\n",
      "`--ServerApp.iopub_msg_rate_limit`.\n",
      "\n",
      "Current values:\n",
      "ServerApp.iopub_msg_rate_limit=1000.0 (msgs/sec)\n",
      "ServerApp.rate_limit_window=3.0 (secs)\n",
      "\n",
      "Epoch 3/3: 100%|██████████| 13101/13101 [03:45<00:00, 58.20it/s, loss=0.0000, batch time=0.0242s] \n",
      "Testing Regret: 3276batch [00:58, 55.83batch/s]\n"
     ]
    },
    {
     "name": "stdout",
     "output_type": "stream",
     "text": [
      "Epoch 3: Loss=0.000000, Regret=91.4463%, Time=283.81s\n",
      "Total training time: 865.26s, Effective computation time: 464.59s\n",
      "模型参数已保存到 ./lstm/trial_7_assets_TCN.pt\n",
      "第36次训练\n",
      "Seed set to 42\n",
      "Num of cores: 1\n"
     ]
    },
    {
     "name": "stderr",
     "output_type": "stream",
     "text": [
      "Epoch 1/3:  19%|█▉        | 2466/13101 [00:45<03:16, 54.03it/s, loss=0.0000, batch time=0.0085s] IOPub message rate exceeded.\n",
      "The Jupyter server will temporarily stop sending output\n",
      "to the client in order to avoid crashing it.\n",
      "To change this limit, set the config variable\n",
      "`--ServerApp.iopub_msg_rate_limit`.\n",
      "\n",
      "Current values:\n",
      "ServerApp.iopub_msg_rate_limit=1000.0 (msgs/sec)\n",
      "ServerApp.rate_limit_window=3.0 (secs)\n",
      "\n",
      "Epoch 2/3:  63%|██████▎   | 8223/13101 [02:24<01:20, 60.47it/s, loss=0.0000, batch time=0.0083s] IOPub message rate exceeded.\n",
      "The Jupyter server will temporarily stop sending output\n",
      "to the client in order to avoid crashing it.\n",
      "To change this limit, set the config variable\n",
      "`--ServerApp.iopub_msg_rate_limit`.\n",
      "\n",
      "Current values:\n",
      "ServerApp.iopub_msg_rate_limit=1000.0 (msgs/sec)\n",
      "ServerApp.rate_limit_window=3.0 (secs)\n",
      "\n",
      "Epoch 3/3: 100%|██████████| 13101/13101 [03:43<00:00, 58.60it/s, loss=0.0000, batch time=0.0084s] \n",
      "Testing Regret: 3276batch [00:58, 55.85batch/s]\n"
     ]
    },
    {
     "name": "stdout",
     "output_type": "stream",
     "text": [
      "Epoch 3: Loss=0.000000, Regret=91.5687%, Time=282.29s\n",
      "Total training time: 864.20s, Effective computation time: 470.44s\n",
      "模型参数已保存到 ./lstm/trial_7_assets_TCN.pt\n",
      "第37次训练\n",
      "Seed set to 42\n",
      "Num of cores: 1\n"
     ]
    },
    {
     "name": "stderr",
     "output_type": "stream",
     "text": [
      "Epoch 1/3:  24%|██▍       | 3179/13101 [00:58<02:57, 55.75it/s, loss=-0.0000, batch time=0.0153s]IOPub message rate exceeded.\n",
      "The Jupyter server will temporarily stop sending output\n",
      "to the client in order to avoid crashing it.\n",
      "To change this limit, set the config variable\n",
      "`--ServerApp.iopub_msg_rate_limit`.\n",
      "\n",
      "Current values:\n",
      "ServerApp.iopub_msg_rate_limit=1000.0 (msgs/sec)\n",
      "ServerApp.rate_limit_window=3.0 (secs)\n",
      "\n",
      "Testing Regret: 3276batch [00:50, 65.30batch/s]\n"
     ]
    },
    {
     "name": "stdout",
     "output_type": "stream",
     "text": [
      "Epoch 1: Loss=0.000000, Regret=91.0797%, Time=289.57s\n"
     ]
    },
    {
     "name": "stderr",
     "output_type": "stream",
     "text": [
      "Epoch 2/3:  56%|█████▌    | 7312/13101 [02:00<01:36, 60.20it/s, loss=0.0000, batch time=0.0085s] IOPub message rate exceeded.\n",
      "The Jupyter server will temporarily stop sending output\n",
      "to the client in order to avoid crashing it.\n",
      "To change this limit, set the config variable\n",
      "`--ServerApp.iopub_msg_rate_limit`.\n",
      "\n",
      "Current values:\n",
      "ServerApp.iopub_msg_rate_limit=1000.0 (msgs/sec)\n",
      "ServerApp.rate_limit_window=3.0 (secs)\n",
      "\n",
      "Epoch 3/3:  77%|███████▋  | 10088/13101 [02:59<00:55, 54.43it/s, loss=0.0000, batch time=0.0245s] IOPub message rate exceeded.\n",
      "The Jupyter server will temporarily stop sending output\n",
      "to the client in order to avoid crashing it.\n",
      "To change this limit, set the config variable\n",
      "`--ServerApp.iopub_msg_rate_limit`.\n",
      "\n",
      "Current values:\n",
      "ServerApp.iopub_msg_rate_limit=1000.0 (msgs/sec)\n",
      "ServerApp.rate_limit_window=3.0 (secs)\n",
      "\n",
      "Epoch 1/3: 100%|██████████| 13101/13101 [03:54<00:00, 55.93it/s, loss=0.0000, batch time=0.0083s] \n",
      "Testing Regret: 3276batch [00:58, 55.70batch/s]\n"
     ]
    },
    {
     "name": "stdout",
     "output_type": "stream",
     "text": [
      "Epoch 1: Loss=0.000000, Regret=91.0931%, Time=293.08s\n"
     ]
    },
    {
     "name": "stderr",
     "output_type": "stream",
     "text": [
      "Epoch 2/3:  33%|███▎      | 4380/13101 [01:14<02:20, 61.92it/s, loss=0.0000, batch time=0.0084s] IOPub message rate exceeded.\n",
      "The Jupyter server will temporarily stop sending output\n",
      "to the client in order to avoid crashing it.\n",
      "To change this limit, set the config variable\n",
      "`--ServerApp.iopub_msg_rate_limit`.\n",
      "\n",
      "Current values:\n",
      "ServerApp.iopub_msg_rate_limit=1000.0 (msgs/sec)\n",
      "ServerApp.rate_limit_window=3.0 (secs)\n",
      "\n",
      "Epoch 3/3:  67%|██████▋   | 8756/13101 [02:38<01:20, 54.12it/s, loss=0.0000, batch time=0.0084s] IOPub message rate exceeded.\n",
      "The Jupyter server will temporarily stop sending output\n",
      "to the client in order to avoid crashing it.\n",
      "To change this limit, set the config variable\n",
      "`--ServerApp.iopub_msg_rate_limit`.\n",
      "\n",
      "Current values:\n",
      "ServerApp.iopub_msg_rate_limit=1000.0 (msgs/sec)\n",
      "ServerApp.rate_limit_window=3.0 (secs)\n",
      "\n",
      "Testing Regret: 3276batch [00:58, 55.81batch/s]\n"
     ]
    },
    {
     "name": "stdout",
     "output_type": "stream",
     "text": [
      "Epoch 1: Loss=0.000000, Regret=91.2018%, Time=294.18s\n"
     ]
    },
    {
     "name": "stderr",
     "output_type": "stream",
     "text": [
      "Epoch 2/3:  47%|████▋     | 6109/13101 [01:52<02:09, 53.84it/s, loss=-0.0000, batch time=0.0084s]IOPub message rate exceeded.\n",
      "The Jupyter server will temporarily stop sending output\n",
      "to the client in order to avoid crashing it.\n",
      "To change this limit, set the config variable\n",
      "`--ServerApp.iopub_msg_rate_limit`.\n",
      "\n",
      "Current values:\n",
      "ServerApp.iopub_msg_rate_limit=1000.0 (msgs/sec)\n",
      "ServerApp.rate_limit_window=3.0 (secs)\n",
      "\n",
      "Epoch 3/3:  89%|████████▉ | 11670/13101 [03:27<00:24, 57.95it/s, loss=0.0000, batch time=0.0085s] IOPub message rate exceeded.\n",
      "The Jupyter server will temporarily stop sending output\n",
      "to the client in order to avoid crashing it.\n",
      "To change this limit, set the config variable\n",
      "`--ServerApp.iopub_msg_rate_limit`.\n",
      "\n",
      "Current values:\n",
      "ServerApp.iopub_msg_rate_limit=1000.0 (msgs/sec)\n",
      "ServerApp.rate_limit_window=3.0 (secs)\n",
      "\n",
      "Epoch 2/3:  99%|█████████▉| 13028/13101 [03:49<00:01, 59.89it/s, loss=0.0000, batch time=0.0084s] IOPub message rate exceeded.\n",
      "The Jupyter server will temporarily stop sending output\n",
      "to the client in order to avoid crashing it.\n",
      "To change this limit, set the config variable\n",
      "`--ServerApp.iopub_msg_rate_limit`.\n",
      "\n",
      "Current values:\n",
      "ServerApp.iopub_msg_rate_limit=1000.0 (msgs/sec)\n",
      "ServerApp.rate_limit_window=3.0 (secs)\n",
      "\n",
      "Epoch 1/3:  80%|████████  | 10497/13101 [03:12<00:48, 53.97it/s, loss=0.0000, batch time=0.0247s] IOPub message rate exceeded.\n",
      "The Jupyter server will temporarily stop sending output\n",
      "to the client in order to avoid crashing it.\n",
      "To change this limit, set the config variable\n",
      "`--ServerApp.iopub_msg_rate_limit`.\n",
      "\n",
      "Current values:\n",
      "ServerApp.iopub_msg_rate_limit=1000.0 (msgs/sec)\n",
      "ServerApp.rate_limit_window=3.0 (secs)\n",
      "\n",
      "Epoch 3/3:  97%|█████████▋| 12667/13101 [03:40<00:07, 59.98it/s, loss=0.0000, batch time=0.0084s] IOPub message rate exceeded.\n",
      "The Jupyter server will temporarily stop sending output\n",
      "to the client in order to avoid crashing it.\n",
      "To change this limit, set the config variable\n",
      "`--ServerApp.iopub_msg_rate_limit`.\n",
      "\n",
      "Current values:\n",
      "ServerApp.iopub_msg_rate_limit=1000.0 (msgs/sec)\n",
      "ServerApp.rate_limit_window=3.0 (secs)\n",
      "\n",
      "Epoch 2/3: 100%|██████████| 13101/13101 [03:53<00:00, 56.20it/s, loss=0.0000, batch time=0.0086s] \n",
      "Testing Regret: 3276batch [00:50, 65.21batch/s]\n"
     ]
    },
    {
     "name": "stdout",
     "output_type": "stream",
     "text": [
      "Epoch 2: Loss=0.000000, Regret=91.0220%, Time=283.35s\n"
     ]
    },
    {
     "name": "stderr",
     "output_type": "stream",
     "text": [
      "Epoch 3/3:   8%|▊         | 1009/13101 [00:16<03:09, 63.65it/s, loss=0.0000, batch time=0.0083s]IOPub message rate exceeded.\n",
      "The Jupyter server will temporarily stop sending output\n",
      "to the client in order to avoid crashing it.\n",
      "To change this limit, set the config variable\n",
      "`--ServerApp.iopub_msg_rate_limit`.\n",
      "\n",
      "Current values:\n",
      "ServerApp.iopub_msg_rate_limit=1000.0 (msgs/sec)\n",
      "ServerApp.rate_limit_window=3.0 (secs)\n",
      "\n",
      "Epoch 1/3:  73%|███████▎  | 9523/13101 [02:49<00:59, 60.44it/s, loss=0.0000, batch time=0.0084s] IOPub message rate exceeded.\n",
      "The Jupyter server will temporarily stop sending output\n",
      "to the client in order to avoid crashing it.\n",
      "To change this limit, set the config variable\n",
      "`--ServerApp.iopub_msg_rate_limit`.\n",
      "\n",
      "Current values:\n",
      "ServerApp.iopub_msg_rate_limit=1000.0 (msgs/sec)\n",
      "ServerApp.rate_limit_window=3.0 (secs)\n",
      "\n",
      "Epoch 2/3: 100%|██████████| 13101/13101 [03:51<00:00, 56.57it/s, loss=0.0000, batch time=0.0083s] \n",
      "Testing Regret: 3276batch [00:50, 65.21batch/s]\n"
     ]
    },
    {
     "name": "stdout",
     "output_type": "stream",
     "text": [
      "Epoch 2: Loss=0.000000, Regret=91.0802%, Time=281.82s\n"
     ]
    },
    {
     "name": "stderr",
     "output_type": "stream",
     "text": [
      "Epoch 3/3:   7%|▋         | 893/13101 [00:14<03:15, 62.40it/s, loss=0.0000, batch time=0.0082s] IOPub message rate exceeded.\n",
      "The Jupyter server will temporarily stop sending output\n",
      "to the client in order to avoid crashing it.\n",
      "To change this limit, set the config variable\n",
      "`--ServerApp.iopub_msg_rate_limit`.\n",
      "\n",
      "Current values:\n",
      "ServerApp.iopub_msg_rate_limit=1000.0 (msgs/sec)\n",
      "ServerApp.rate_limit_window=3.0 (secs)\n",
      "\n",
      "Epoch 1/3: 100%|██████████| 13101/13101 [03:57<00:00, 55.10it/s, loss=0.0000, batch time=0.0083s] \n",
      "Testing Regret: 3276batch [00:58, 55.77batch/s]\n"
     ]
    },
    {
     "name": "stdout",
     "output_type": "stream",
     "text": [
      "Epoch 1: Loss=0.000000, Regret=90.8699%, Time=296.54s\n"
     ]
    },
    {
     "name": "stderr",
     "output_type": "stream",
     "text": [
      "Epoch 2/3:  19%|█▊        | 2453/13101 [00:45<03:16, 54.28it/s, loss=0.0000, batch time=0.0154s] IOPub message rate exceeded.\n",
      "The Jupyter server will temporarily stop sending output\n",
      "to the client in order to avoid crashing it.\n",
      "To change this limit, set the config variable\n",
      "`--ServerApp.iopub_msg_rate_limit`.\n",
      "\n",
      "Current values:\n",
      "ServerApp.iopub_msg_rate_limit=1000.0 (msgs/sec)\n",
      "ServerApp.rate_limit_window=3.0 (secs)\n",
      "\n",
      "Epoch 3/3:  97%|█████████▋| 12710/13101 [03:33<00:07, 54.25it/s, loss=0.0000, batch time=0.0084s] IOPub message rate exceeded.\n",
      "The Jupyter server will temporarily stop sending output\n",
      "to the client in order to avoid crashing it.\n",
      "To change this limit, set the config variable\n",
      "`--ServerApp.iopub_msg_rate_limit`.\n",
      "\n",
      "Current values:\n",
      "ServerApp.iopub_msg_rate_limit=1000.0 (msgs/sec)\n",
      "ServerApp.rate_limit_window=3.0 (secs)\n",
      "\n",
      "Epoch 2/3: 100%|██████████| 13101/13101 [03:47<00:00, 57.70it/s, loss=0.0000, batch time=0.0088s] \n",
      "Testing Regret: 3276batch [00:58, 55.90batch/s]\n"
     ]
    },
    {
     "name": "stdout",
     "output_type": "stream",
     "text": [
      "Epoch 2: Loss=0.000000, Regret=91.0814%, Time=285.74s\n"
     ]
    },
    {
     "name": "stderr",
     "output_type": "stream",
     "text": [
      "Epoch 3/3:  17%|█▋        | 2240/13101 [00:36<02:58, 60.95it/s, loss=0.0000, batch time=0.0085s] IOPub message rate exceeded.\n",
      "The Jupyter server will temporarily stop sending output\n",
      "to the client in order to avoid crashing it.\n",
      "To change this limit, set the config variable\n",
      "`--ServerApp.iopub_msg_rate_limit`.\n",
      "\n",
      "Current values:\n",
      "ServerApp.iopub_msg_rate_limit=1000.0 (msgs/sec)\n",
      "ServerApp.rate_limit_window=3.0 (secs)\n",
      "\n",
      "Epoch 1/3: 100%|██████████| 13101/13101 [03:40<00:00, 59.35it/s, loss=0.0000, batch time=0.0194s] \n",
      "Testing Regret: 3276batch [00:54, 60.00batch/s]\n"
     ]
    },
    {
     "name": "stdout",
     "output_type": "stream",
     "text": [
      "Epoch 1: Loss=0.000000, Regret=90.8038%, Time=275.37s\n"
     ]
    },
    {
     "name": "stderr",
     "output_type": "stream",
     "text": [
      "Epoch 2/3:  17%|█▋        | 2267/13101 [00:41<03:20, 54.08it/s, loss=0.0000, batch time=0.0084s] IOPub message rate exceeded.\n",
      "The Jupyter server will temporarily stop sending output\n",
      "to the client in order to avoid crashing it.\n",
      "To change this limit, set the config variable\n",
      "`--ServerApp.iopub_msg_rate_limit`.\n",
      "\n",
      "Current values:\n",
      "ServerApp.iopub_msg_rate_limit=1000.0 (msgs/sec)\n",
      "ServerApp.rate_limit_window=3.0 (secs)\n",
      "\n",
      "Epoch 3/3: 100%|██████████| 13101/13101 [04:01<00:00, 54.32it/s, loss=0.0000, batch time=0.0084s] \n",
      "Testing Regret: 3276batch [00:58, 55.93batch/s]\n"
     ]
    },
    {
     "name": "stdout",
     "output_type": "stream",
     "text": [
      "Epoch 3: Loss=0.000000, Regret=91.3419%, Time=299.75s\n",
      "Total training time: 859.74s, Effective computation time: 463.13s\n",
      "模型参数已保存到 ./lstm/trial_7_assets_TCN.pt\n",
      "第47次训练\n",
      "Seed set to 42\n",
      "Num of cores: 1\n"
     ]
    },
    {
     "name": "stderr",
     "output_type": "stream",
     "text": [
      "Epoch 1/3:  14%|█▍        | 1823/13101 [00:33<03:28, 54.22it/s, loss=0.0000, batch time=0.0084s] IOPub message rate exceeded.\n",
      "The Jupyter server will temporarily stop sending output\n",
      "to the client in order to avoid crashing it.\n",
      "To change this limit, set the config variable\n",
      "`--ServerApp.iopub_msg_rate_limit`.\n",
      "\n",
      "Current values:\n",
      "ServerApp.iopub_msg_rate_limit=1000.0 (msgs/sec)\n",
      "ServerApp.rate_limit_window=3.0 (secs)\n",
      "\n",
      "Epoch 2/3: 100%|██████████| 13101/13101 [03:42<00:00, 58.96it/s, loss=0.0000, batch time=0.0085s] \n",
      "Testing Regret: 2024batch [00:31, 65.37batch/s]IOPub message rate exceeded.\n",
      "The Jupyter server will temporarily stop sending output\n",
      "to the client in order to avoid crashing it.\n",
      "To change this limit, set the config variable\n",
      "`--ServerApp.iopub_msg_rate_limit`.\n",
      "\n",
      "Current values:\n",
      "ServerApp.iopub_msg_rate_limit=1000.0 (msgs/sec)\n",
      "ServerApp.rate_limit_window=3.0 (secs)\n",
      "\n",
      "Epoch 1/3:  87%|████████▋ | 11366/13101 [03:20<00:28, 60.69it/s, loss=0.0000, batch time=0.0325s] IOPub message rate exceeded.\n",
      "The Jupyter server will temporarily stop sending output\n",
      "to the client in order to avoid crashing it.\n",
      "To change this limit, set the config variable\n",
      "`--ServerApp.iopub_msg_rate_limit`.\n",
      "\n",
      "Current values:\n",
      "ServerApp.iopub_msg_rate_limit=1000.0 (msgs/sec)\n",
      "ServerApp.rate_limit_window=3.0 (secs)\n",
      "\n",
      "Epoch 2/3: 100%|██████████| 13101/13101 [03:54<00:00, 55.80it/s, loss=0.0000, batch time=0.0241s] \n",
      "Testing Regret: 3276batch [00:56, 58.06batch/s]\n"
     ]
    },
    {
     "name": "stdout",
     "output_type": "stream",
     "text": [
      "Epoch 2: Loss=0.000000, Regret=91.1234%, Time=291.22s\n"
     ]
    },
    {
     "name": "stderr",
     "output_type": "stream",
     "text": [
      "Epoch 3/3:  31%|███▏      | 4103/13101 [01:09<02:27, 60.90it/s, loss=0.0000, batch time=0.0084s] IOPub message rate exceeded.\n",
      "The Jupyter server will temporarily stop sending output\n",
      "to the client in order to avoid crashing it.\n",
      "To change this limit, set the config variable\n",
      "`--ServerApp.iopub_msg_rate_limit`.\n",
      "\n",
      "Current values:\n",
      "ServerApp.iopub_msg_rate_limit=1000.0 (msgs/sec)\n",
      "ServerApp.rate_limit_window=3.0 (secs)\n",
      "\n",
      "Epoch 1/3:  75%|███████▍  | 9806/13101 [02:57<01:00, 54.34it/s, loss=0.0000, batch time=0.0084s] IOPub message rate exceeded.\n",
      "The Jupyter server will temporarily stop sending output\n",
      "to the client in order to avoid crashing it.\n",
      "To change this limit, set the config variable\n",
      "`--ServerApp.iopub_msg_rate_limit`.\n",
      "\n",
      "Current values:\n",
      "ServerApp.iopub_msg_rate_limit=1000.0 (msgs/sec)\n",
      "ServerApp.rate_limit_window=3.0 (secs)\n",
      "\n",
      "Testing Regret: 3276batch [00:58, 56.34batch/s]\n"
     ]
    },
    {
     "name": "stdout",
     "output_type": "stream",
     "text": [
      "Epoch 2: Loss=0.000000, Regret=91.1797%, Time=292.57s\n"
     ]
    },
    {
     "name": "stderr",
     "output_type": "stream",
     "text": [
      "Epoch 3/3:  35%|███▍      | 4523/13101 [01:23<02:40, 53.32it/s, loss=0.0000, batch time=0.0151s] IOPub message rate exceeded.\n",
      "The Jupyter server will temporarily stop sending output\n",
      "to the client in order to avoid crashing it.\n",
      "To change this limit, set the config variable\n",
      "`--ServerApp.iopub_msg_rate_limit`.\n",
      "\n",
      "Current values:\n",
      "ServerApp.iopub_msg_rate_limit=1000.0 (msgs/sec)\n",
      "ServerApp.rate_limit_window=3.0 (secs)\n",
      "\n",
      "Epoch 1/3:  74%|███████▍  | 9707/13101 [02:53<01:02, 54.25it/s, loss=0.0000, batch time=0.0085s] IOPub message rate exceeded.\n",
      "The Jupyter server will temporarily stop sending output\n",
      "to the client in order to avoid crashing it.\n",
      "To change this limit, set the config variable\n",
      "`--ServerApp.iopub_msg_rate_limit`.\n",
      "\n",
      "Current values:\n",
      "ServerApp.iopub_msg_rate_limit=1000.0 (msgs/sec)\n",
      "ServerApp.rate_limit_window=3.0 (secs)\n",
      "\n",
      "Epoch 3/3:  93%|█████████▎| 12201/13101 [03:30<00:15, 57.01it/s, loss=0.0000, batch time=0.0084s] IOPub message rate exceeded.\n",
      "The Jupyter server will temporarily stop sending output\n",
      "to the client in order to avoid crashing it.\n",
      "To change this limit, set the config variable\n",
      "`--ServerApp.iopub_msg_rate_limit`.\n",
      "\n",
      "Current values:\n",
      "ServerApp.iopub_msg_rate_limit=1000.0 (msgs/sec)\n",
      "ServerApp.rate_limit_window=3.0 (secs)\n",
      "\n",
      "Epoch 2/3: 100%|██████████| 13101/13101 [03:55<00:00, 55.69it/s, loss=0.0000, batch time=0.0083s] \n",
      "Testing Regret: 3276batch [00:57, 56.60batch/s]\n"
     ]
    },
    {
     "name": "stdout",
     "output_type": "stream",
     "text": [
      "Epoch 2: Loss=0.000000, Regret=91.1429%, Time=293.16s\n"
     ]
    },
    {
     "name": "stderr",
     "output_type": "stream",
     "text": [
      "Epoch 3/3:  13%|█▎        | 1651/13101 [00:30<03:31, 54.14it/s, loss=0.0000, batch time=0.0084s] IOPub message rate exceeded.\n",
      "The Jupyter server will temporarily stop sending output\n",
      "to the client in order to avoid crashing it.\n",
      "To change this limit, set the config variable\n",
      "`--ServerApp.iopub_msg_rate_limit`.\n",
      "\n",
      "Current values:\n",
      "ServerApp.iopub_msg_rate_limit=1000.0 (msgs/sec)\n",
      "ServerApp.rate_limit_window=3.0 (secs)\n",
      "\n",
      "Epoch 1/3: 100%|██████████| 13101/13101 [03:38<00:00, 59.95it/s, loss=0.0000, batch time=0.0325s] \n",
      "Testing Regret: 3276batch [00:50, 65.02batch/s]\n"
     ]
    },
    {
     "name": "stdout",
     "output_type": "stream",
     "text": [
      "Epoch 1: Loss=0.000000, Regret=90.8740%, Time=269.00s\n"
     ]
    },
    {
     "name": "stderr",
     "output_type": "stream",
     "text": [
      "Epoch 2/3:  29%|██▉       | 3769/13101 [01:05<02:51, 54.43it/s, loss=0.0000, batch time=0.0150s] IOPub message rate exceeded.\n",
      "The Jupyter server will temporarily stop sending output\n",
      "to the client in order to avoid crashing it.\n",
      "To change this limit, set the config variable\n",
      "`--ServerApp.iopub_msg_rate_limit`.\n",
      "\n",
      "Current values:\n",
      "ServerApp.iopub_msg_rate_limit=1000.0 (msgs/sec)\n",
      "ServerApp.rate_limit_window=3.0 (secs)\n",
      "\n",
      "Epoch 3/3:  88%|████████▊ | 11582/13101 [03:23<00:26, 58.01it/s, loss=0.0000, batch time=0.0084s] IOPub message rate exceeded.\n",
      "The Jupyter server will temporarily stop sending output\n",
      "to the client in order to avoid crashing it.\n",
      "To change this limit, set the config variable\n",
      "`--ServerApp.iopub_msg_rate_limit`.\n",
      "\n",
      "Current values:\n",
      "ServerApp.iopub_msg_rate_limit=1000.0 (msgs/sec)\n",
      "ServerApp.rate_limit_window=3.0 (secs)\n",
      "\n",
      "Testing Regret: 3276batch [00:50, 64.80batch/s]00:11, 59.90it/s, loss=0.0000, batch time=0.0318s] \n"
     ]
    },
    {
     "name": "stdout",
     "output_type": "stream",
     "text": [
      "Epoch 2: Loss=0.000000, Regret=91.1751%, Time=275.55s\n"
     ]
    },
    {
     "name": "stderr",
     "output_type": "stream",
     "text": [
      "Epoch 3/3:  17%|█▋        | 2291/13101 [00:38<02:56, 61.20it/s, loss=0.0000, batch time=0.0085s] IOPub message rate exceeded.\n",
      "The Jupyter server will temporarily stop sending output\n",
      "to the client in order to avoid crashing it.\n",
      "To change this limit, set the config variable\n",
      "`--ServerApp.iopub_msg_rate_limit`.\n",
      "\n",
      "Current values:\n",
      "ServerApp.iopub_msg_rate_limit=1000.0 (msgs/sec)\n",
      "ServerApp.rate_limit_window=3.0 (secs)\n",
      "\n",
      "Epoch 1/3: 100%|██████████| 13101/13101 [03:39<00:00, 59.78it/s, loss=0.0000, batch time=0.0084s] \n",
      "Testing Regret: 3276batch [00:50, 64.95batch/s]\n"
     ]
    },
    {
     "name": "stdout",
     "output_type": "stream",
     "text": [
      "Epoch 1: Loss=0.000000, Regret=91.0376%, Time=269.62s\n"
     ]
    },
    {
     "name": "stderr",
     "output_type": "stream",
     "text": [
      "Epoch 2/3:  37%|███▋      | 4847/13101 [01:18<02:12, 62.30it/s, loss=-0.0000, batch time=0.0110s]IOPub message rate exceeded.\n",
      "The Jupyter server will temporarily stop sending output\n",
      "to the client in order to avoid crashing it.\n",
      "To change this limit, set the config variable\n",
      "`--ServerApp.iopub_msg_rate_limit`.\n",
      "\n",
      "Current values:\n",
      "ServerApp.iopub_msg_rate_limit=1000.0 (msgs/sec)\n",
      "ServerApp.rate_limit_window=3.0 (secs)\n",
      "\n",
      "Epoch 3/3:  85%|████████▌ | 11150/13101 [03:26<00:36, 53.96it/s, loss=0.0000, batch time=0.0085s] IOPub message rate exceeded.\n",
      "The Jupyter server will temporarily stop sending output\n",
      "to the client in order to avoid crashing it.\n",
      "To change this limit, set the config variable\n",
      "`--ServerApp.iopub_msg_rate_limit`.\n",
      "\n",
      "Current values:\n",
      "ServerApp.iopub_msg_rate_limit=1000.0 (msgs/sec)\n",
      "ServerApp.rate_limit_window=3.0 (secs)\n",
      "\n",
      "Epoch 2/3: 100%|██████████| 13101/13101 [03:38<00:00, 59.90it/s, loss=0.0000, batch time=0.0281s] \n",
      "Testing Regret: 3276batch [00:52, 62.16batch/s]\n"
     ]
    },
    {
     "name": "stdout",
     "output_type": "stream",
     "text": [
      "Epoch 2: Loss=0.000000, Regret=91.2267%, Time=271.48s\n"
     ]
    },
    {
     "name": "stderr",
     "output_type": "stream",
     "text": [
      "Epoch 3/3:  19%|█▊        | 2440/13101 [00:42<02:54, 61.11it/s, loss=0.0000, batch time=0.0084s] IOPub message rate exceeded.\n",
      "The Jupyter server will temporarily stop sending output\n",
      "to the client in order to avoid crashing it.\n",
      "To change this limit, set the config variable\n",
      "`--ServerApp.iopub_msg_rate_limit`.\n",
      "\n",
      "Current values:\n",
      "ServerApp.iopub_msg_rate_limit=1000.0 (msgs/sec)\n",
      "ServerApp.rate_limit_window=3.0 (secs)\n",
      "\n",
      "Testing Regret: 3276batch [00:56, 58.20batch/s]\n"
     ]
    },
    {
     "name": "stdout",
     "output_type": "stream",
     "text": [
      "Epoch 1: Loss=0.000000, Regret=90.9044%, Time=278.34s\n"
     ]
    },
    {
     "name": "stderr",
     "output_type": "stream",
     "text": [
      "Epoch 2/3:  52%|█████▏    | 6788/13101 [01:55<01:44, 60.17it/s, loss=0.0000, batch time=0.0083s] IOPub message rate exceeded.\n",
      "The Jupyter server will temporarily stop sending output\n",
      "to the client in order to avoid crashing it.\n",
      "To change this limit, set the config variable\n",
      "`--ServerApp.iopub_msg_rate_limit`.\n",
      "\n",
      "Current values:\n",
      "ServerApp.iopub_msg_rate_limit=1000.0 (msgs/sec)\n",
      "ServerApp.rate_limit_window=3.0 (secs)\n",
      "\n",
      "Epoch 1/3:  76%|███████▌  | 9970/13101 [02:46<00:54, 57.74it/s, loss=0.0000, batch time=0.0085s] IOPub message rate exceeded.\n",
      "The Jupyter server will temporarily stop sending output\n",
      "to the client in order to avoid crashing it.\n",
      "To change this limit, set the config variable\n",
      "`--ServerApp.iopub_msg_rate_limit`.\n",
      "\n",
      "Current values:\n",
      "ServerApp.iopub_msg_rate_limit=1000.0 (msgs/sec)\n",
      "ServerApp.rate_limit_window=3.0 (secs)\n",
      "\n",
      "Testing Regret: 3276batch [00:56, 58.15batch/s]\n"
     ]
    },
    {
     "name": "stdout",
     "output_type": "stream",
     "text": [
      "Epoch 2: Loss=0.000000, Regret=91.1202%, Time=273.53s\n"
     ]
    },
    {
     "name": "stderr",
     "output_type": "stream",
     "text": [
      "Epoch 3/3:  43%|████▎     | 5625/13101 [01:32<02:05, 59.60it/s, loss=0.0000, batch time=0.0084s] IOPub message rate exceeded.\n",
      "The Jupyter server will temporarily stop sending output\n",
      "to the client in order to avoid crashing it.\n",
      "To change this limit, set the config variable\n",
      "`--ServerApp.iopub_msg_rate_limit`.\n",
      "\n",
      "Current values:\n",
      "ServerApp.iopub_msg_rate_limit=1000.0 (msgs/sec)\n",
      "ServerApp.rate_limit_window=3.0 (secs)\n",
      "\n",
      "Epoch 1/3: 100%|██████████| 13101/13101 [03:44<00:00, 58.46it/s, loss=0.0000, batch time=0.0084s] \n",
      "Testing Regret: 3276batch [00:50, 64.90batch/s]\n"
     ]
    },
    {
     "name": "stdout",
     "output_type": "stream",
     "text": [
      "Epoch 1: Loss=0.000000, Regret=90.9837%, Time=274.59s\n"
     ]
    },
    {
     "name": "stderr",
     "output_type": "stream",
     "text": [
      "Epoch 2/3:  32%|███▏      | 4135/13101 [01:09<02:28, 60.38it/s, loss=0.0000, batch time=0.0329s] IOPub message rate exceeded.\n",
      "The Jupyter server will temporarily stop sending output\n",
      "to the client in order to avoid crashing it.\n",
      "To change this limit, set the config variable\n",
      "`--ServerApp.iopub_msg_rate_limit`.\n",
      "\n",
      "Current values:\n",
      "ServerApp.iopub_msg_rate_limit=1000.0 (msgs/sec)\n",
      "ServerApp.rate_limit_window=3.0 (secs)\n",
      "\n",
      "Epoch 1/3:  22%|██▏       | 2845/13101 [00:47<02:47, 61.21it/s, loss=0.0000, batch time=0.0084s]  IOPub message rate exceeded.\n",
      "The Jupyter server will temporarily stop sending output\n",
      "to the client in order to avoid crashing it.\n",
      "To change this limit, set the config variable\n",
      "`--ServerApp.iopub_msg_rate_limit`.\n",
      "\n",
      "Current values:\n",
      "ServerApp.iopub_msg_rate_limit=1000.0 (msgs/sec)\n",
      "ServerApp.rate_limit_window=3.0 (secs)\n",
      "\n",
      "Epoch 2/3: 100%|██████████| 13101/13101 [03:38<00:00, 59.96it/s, loss=0.0000, batch time=0.0085s] \n",
      "Testing Regret: 3276batch [00:50, 65.05batch/s]\n"
     ]
    },
    {
     "name": "stdout",
     "output_type": "stream",
     "text": [
      "Epoch 2: Loss=0.000000, Regret=91.2295%, Time=268.88s\n"
     ]
    },
    {
     "name": "stderr",
     "output_type": "stream",
     "text": [
      "Epoch 3/3:  10%|▉         | 1291/13101 [00:21<03:13, 61.00it/s, loss=0.0000, batch time=0.0085s] IOPub message rate exceeded.\n",
      "The Jupyter server will temporarily stop sending output\n",
      "to the client in order to avoid crashing it.\n",
      "To change this limit, set the config variable\n",
      "`--ServerApp.iopub_msg_rate_limit`.\n",
      "\n",
      "Current values:\n",
      "ServerApp.iopub_msg_rate_limit=1000.0 (msgs/sec)\n",
      "ServerApp.rate_limit_window=3.0 (secs)\n",
      "\n",
      "Epoch 1/3: 100%|██████████| 13101/13101 [03:40<00:00, 59.49it/s, loss=0.0000, batch time=0.0325s] \n",
      "Testing Regret: 3276batch [00:52, 61.93batch/s]\n"
     ]
    },
    {
     "name": "stdout",
     "output_type": "stream",
     "text": [
      "Epoch 1: Loss=0.000000, Regret=90.9014%, Time=273.14s\n"
     ]
    },
    {
     "name": "stderr",
     "output_type": "stream",
     "text": [
      "Epoch 2/3:   4%|▍         | 519/13101 [00:09<03:55, 53.32it/s, loss=0.0000, batch time=0.0085s] IOPub message rate exceeded.\n",
      "The Jupyter server will temporarily stop sending output\n",
      "to the client in order to avoid crashing it.\n",
      "To change this limit, set the config variable\n",
      "`--ServerApp.iopub_msg_rate_limit`.\n",
      "\n",
      "Current values:\n",
      "ServerApp.iopub_msg_rate_limit=1000.0 (msgs/sec)\n",
      "ServerApp.rate_limit_window=3.0 (secs)\n",
      "\n",
      "Epoch 3/3: 100%|██████████| 13101/13101 [03:38<00:00, 59.87it/s, loss=0.0000, batch time=0.0083s] \n",
      "Testing Regret: 2881batch [00:44, 65.17batch/s]IOPub message rate exceeded.\n",
      "The Jupyter server will temporarily stop sending output\n",
      "to the client in order to avoid crashing it.\n",
      "To change this limit, set the config variable\n",
      "`--ServerApp.iopub_msg_rate_limit`.\n",
      "\n",
      "Current values:\n",
      "ServerApp.iopub_msg_rate_limit=1000.0 (msgs/sec)\n",
      "ServerApp.rate_limit_window=3.0 (secs)\n",
      "\n",
      "Epoch 2/3:  86%|████████▌ | 11274/13101 [03:15<00:33, 54.21it/s, loss=-0.0000, batch time=0.0086s]IOPub message rate exceeded.\n",
      "The Jupyter server will temporarily stop sending output\n",
      "to the client in order to avoid crashing it.\n",
      "To change this limit, set the config variable\n",
      "`--ServerApp.iopub_msg_rate_limit`.\n",
      "\n",
      "Current values:\n",
      "ServerApp.iopub_msg_rate_limit=1000.0 (msgs/sec)\n",
      "ServerApp.rate_limit_window=3.0 (secs)\n",
      "\n",
      "Epoch 1/3:  64%|██████▍   | 8427/13101 [02:19<01:19, 58.83it/s, loss=-0.0000, batch time=0.0357s]IOPub message rate exceeded.\n",
      "The Jupyter server will temporarily stop sending output\n",
      "to the client in order to avoid crashing it.\n",
      "To change this limit, set the config variable\n",
      "`--ServerApp.iopub_msg_rate_limit`.\n",
      "\n",
      "Current values:\n",
      "ServerApp.iopub_msg_rate_limit=1000.0 (msgs/sec)\n",
      "ServerApp.rate_limit_window=3.0 (secs)\n",
      "\n",
      "Epoch 3/3: 100%|██████████| 13101/13101 [03:46<00:00, 57.73it/s, loss=0.0000, batch time=0.0084s] \n",
      "Epoch 1/3:  21%|██▏       | 2806/13101 [00:47<02:44, 62.68it/s, loss=0.0000, batch time=0.0365s] IOPub message rate exceeded.\n",
      "The Jupyter server will temporarily stop sending output\n",
      "to the client in order to avoid crashing it.\n",
      "To change this limit, set the config variable\n",
      "`--ServerApp.iopub_msg_rate_limit`.\n",
      "\n",
      "Current values:\n",
      "ServerApp.iopub_msg_rate_limit=1000.0 (msgs/sec)\n",
      "ServerApp.rate_limit_window=3.0 (secs)\n",
      "\n",
      "Epoch 2/3: 100%|██████████| 13101/13101 [03:39<00:00, 59.78it/s, loss=0.0000, batch time=0.0342s] \n",
      "Testing Regret: 3276batch [00:53, 61.31batch/s]\n"
     ]
    },
    {
     "name": "stdout",
     "output_type": "stream",
     "text": [
      "Epoch 2: Loss=0.000000, Regret=91.1118%, Time=272.61s\n"
     ]
    },
    {
     "name": "stderr",
     "output_type": "stream",
     "text": [
      "Epoch 3/3:   4%|▍         | 522/13101 [00:08<03:30, 59.81it/s, loss=-0.0000, batch time=0.0085s]"
     ]
    }
   ],
   "source": [
    "from train import trainModel\n",
    "from config import NUM_EPOCHS, BATCH_SIZE, LR, LSTM_SAVE_DIR\n",
    "import os\n",
    "os.makedirs(LSTM_SAVE_DIR, exist_ok=True)   \n",
    "import pyepo\n",
    "import torch \n",
    "\n",
    "for i in range(100):\n",
    "\n",
    "    print( f\"第{i+1}次训练\") \n",
    "\n",
    "    set_seed(42)\n",
    "    \n",
    "    spop = pyepo.func.SPOPlus(model)\n",
    "    loss_log, loss_log_regret = trainModel(\n",
    "        lstm, \n",
    "        loss_func=spop, \n",
    "        method_name=\"spo+\",\n",
    "        loader_train=loader_train,\n",
    "        loader_test=loader_test,\n",
    "        market_neutral_model=model,\n",
    "        params_testing=params_testing,\n",
    "        loss_log=loss_log, \n",
    "        loss_log_regret=loss_log_regret,\n",
    "        num_epochs=NUM_EPOCHS,  # Increased for better convergence\n",
    "        lr=LR,\n",
    "        initial=False,# Adjusted learning rate,\n",
    "        scaler= False\n",
    "    )\n",
    "    \n",
    "    lstm_save_path = os.path.join(LSTM_SAVE_DIR, \"trial_7_assets_TCN.pt\")\n",
    "    torch.save({\n",
    "        'model_state_dict': lstm.state_dict(),\n",
    "        'loss_log': loss_log,\n",
    "        'loss_log_regret': loss_log_regret\n",
    "    }, lstm_save_path)\n",
    "    \n",
    "    print(f\"模型参数已保存到 {lstm_save_path}\")"
   ]
  },
  {
   "cell_type": "code",
   "execution_count": null,
   "id": "47c1e3c9-74ba-4c1e-bd1f-300f1ba26832",
   "metadata": {},
   "outputs": [],
   "source": [
    "#############################################################################\n",
    "# VISUALIZATION\n",
    "#############################################################################\n",
    "from matplotlib import pyplot as plt\n",
    "import numpy as np\n",
    "\n",
    "\n",
    "def visLearningCurve(loss_log, loss_log_regret):\n",
    "    \"\"\"Enhanced visualization with smoother curves and more information\"\"\"\n",
    "    # Create figure and subplots\n",
    "    fig, (ax1, ax2) = plt.subplots(1, 2, figsize=(16,4))\n",
    "    \n",
    "    # Plot training loss with smoothing for readability\n",
    "    n_points = len(loss_log)\n",
    "    \n",
    "    # Apply smoothing for large datasets\n",
    "    if n_points > 100:\n",
    "        window_size = max(10, n_points // 50)\n",
    "        smoothed_loss = np.convolve(loss_log, np.ones(window_size)/window_size, mode='valid')\n",
    "        x_axis = np.arange(len(smoothed_loss))\n",
    "        ax1.plot(x_axis, smoothed_loss, color=\"c\", lw=2, label=f\"Smoothed (window={window_size})\")\n",
    "        # Also plot the raw data with transparency\n",
    "        ax1.plot(loss_log, color=\"c\", lw=0.5, alpha=0.3, label=\"Raw\")\n",
    "        ax1.legend()\n",
    "    else:\n",
    "        # For smaller datasets, just plot the raw data\n",
    "        ax1.plot(loss_log, color=\"c\", lw=2)\n",
    "    \n",
    "    ax1.tick_params(axis=\"both\", which=\"major\", labelsize=12)\n",
    "    ax1.set_xlabel(\"Iterations\", fontsize=16)\n",
    "    ax1.set_ylabel(\"Loss\", fontsize=16)\n",
    "    ax1.set_title(\"Learning Curve on Training Set\", fontsize=16)\n",
    "    ax1.grid(True, linestyle='--', alpha=0.7)\n",
    "    \n",
    "    # Draw plot for regret on test set\n",
    "    epochs = np.arange(len(loss_log_regret))\n",
    "    ax2.plot(epochs, [r*100 for r in loss_log_regret], \n",
    "             color=\"royalblue\", marker='o', ls=\"-\", alpha=0.8, lw=2)\n",
    "    \n",
    "    ax2.tick_params(axis=\"both\", which=\"major\", labelsize=12)\n",
    "    ax2.set_ylim(0, max(50, max([r*100 for r in loss_log_regret])*1.1))  # Dynamic y-limit\n",
    "    ax2.set_xlabel(\"Epochs\", fontsize=16)\n",
    "    ax2.set_ylabel(\"Regret (%)\", fontsize=16)\n",
    "    ax2.set_title(\"Learning Curve on Test Set\", fontsize=16)\n",
    "    ax2.grid(True, linestyle='--', alpha=0.7)\n",
    "    \n",
    "    # Add values to points\n",
    "    for i, r in enumerate(loss_log_regret):\n",
    "        ax2.annotate(f\"{r*100:.2f}%\", \n",
    "                     (i, r*100),\n",
    "                     textcoords=\"offset points\", \n",
    "                     xytext=(0,10), \n",
    "                     ha='center')\n",
    "    \n",
    "    plt.tight_layout()\n",
    "    # plt.savefig('learning_curves.png', dpi=300, bbox_inches='tight')\n",
    "    # print(\"Saved learning curves to 'learning_curves.png'\")\n",
    "    plt.show()\n",
    "\n",
    "print(\"\\nVisualizing learning curves...\")\n",
    "visLearningCurve(loss_log, loss_log_regret)"
   ]
  },
  {
   "cell_type": "code",
   "execution_count": 6,
   "id": "471517a7-18d6-4199-9cab-bd9aa7c3099d",
   "metadata": {},
   "outputs": [
    {
     "name": "stdout",
     "output_type": "stream",
     "text": [
      "Model architecture after training:\n",
      "tcn_layers.0.conv1.weight      | Shape: torch.Size([32, 21, 3]) | Parameters: 2016 | require_grad: True\n",
      "Mean Value: -0.001171297044493258 | Grad: None\n",
      "--------------------------------------------------------------------------------\n",
      "tcn_layers.0.conv1.bias        | Shape: torch.Size([32]) | Parameters: 32 | require_grad: True\n",
      "Mean Value: -0.0028446009382605553 | Grad: None\n",
      "--------------------------------------------------------------------------------\n",
      "tcn_layers.0.conv2.weight      | Shape: torch.Size([32, 32, 3]) | Parameters: 3072 | require_grad: True\n",
      "Mean Value: 0.00019118713680654764 | Grad: None\n",
      "--------------------------------------------------------------------------------\n",
      "tcn_layers.0.conv2.bias        | Shape: torch.Size([32]) | Parameters: 32 | require_grad: True\n",
      "Mean Value: 0.008054354228079319 | Grad: None\n",
      "--------------------------------------------------------------------------------\n",
      "tcn_layers.0.norm1.weight      | Shape: torch.Size([32]) | Parameters: 32 | require_grad: True\n",
      "Mean Value: 0.7250708937644958 | Grad: None\n",
      "--------------------------------------------------------------------------------\n",
      "tcn_layers.0.norm1.bias        | Shape: torch.Size([32]) | Parameters: 32 | require_grad: True\n",
      "Mean Value: 0.0 | Grad: None\n",
      "--------------------------------------------------------------------------------\n",
      "tcn_layers.0.norm2.weight      | Shape: torch.Size([32]) | Parameters: 32 | require_grad: True\n",
      "Mean Value: 0.7250708937644958 | Grad: None\n",
      "--------------------------------------------------------------------------------\n",
      "tcn_layers.0.norm2.bias        | Shape: torch.Size([32]) | Parameters: 32 | require_grad: True\n",
      "Mean Value: 0.0 | Grad: None\n",
      "--------------------------------------------------------------------------------\n",
      "tcn_layers.0.residual.weight   | Shape: torch.Size([32, 21, 1]) | Parameters: 672 | require_grad: True\n",
      "Mean Value: 0.0048452760092914104 | Grad: None\n",
      "--------------------------------------------------------------------------------\n",
      "tcn_layers.0.residual.bias     | Shape: torch.Size([32]) | Parameters: 32 | require_grad: True\n",
      "Mean Value: -0.00855320319533348 | Grad: None\n",
      "--------------------------------------------------------------------------------\n",
      "tcn_layers.1.conv1.weight      | Shape: torch.Size([32, 32, 3]) | Parameters: 3072 | require_grad: True\n",
      "Mean Value: -0.00023562942806165665 | Grad: None\n",
      "--------------------------------------------------------------------------------\n",
      "tcn_layers.1.conv1.bias        | Shape: torch.Size([32]) | Parameters: 32 | require_grad: True\n",
      "Mean Value: -0.0024167955853044987 | Grad: None\n",
      "--------------------------------------------------------------------------------\n",
      "tcn_layers.1.conv2.weight      | Shape: torch.Size([32, 32, 3]) | Parameters: 3072 | require_grad: True\n",
      "Mean Value: -0.0004418138414621353 | Grad: None\n",
      "--------------------------------------------------------------------------------\n",
      "tcn_layers.1.conv2.bias        | Shape: torch.Size([32]) | Parameters: 32 | require_grad: True\n",
      "Mean Value: -0.0034178965725004673 | Grad: None\n",
      "--------------------------------------------------------------------------------\n",
      "tcn_layers.1.norm1.weight      | Shape: torch.Size([32]) | Parameters: 32 | require_grad: True\n",
      "Mean Value: 0.7250708937644958 | Grad: None\n",
      "--------------------------------------------------------------------------------\n",
      "tcn_layers.1.norm1.bias        | Shape: torch.Size([32]) | Parameters: 32 | require_grad: True\n",
      "Mean Value: 0.0 | Grad: None\n",
      "--------------------------------------------------------------------------------\n",
      "tcn_layers.1.norm2.weight      | Shape: torch.Size([32]) | Parameters: 32 | require_grad: True\n",
      "Mean Value: 0.7250708937644958 | Grad: None\n",
      "--------------------------------------------------------------------------------\n",
      "tcn_layers.1.norm2.bias        | Shape: torch.Size([32]) | Parameters: 32 | require_grad: True\n",
      "Mean Value: 0.0 | Grad: None\n",
      "--------------------------------------------------------------------------------\n",
      "tcn_layers.2.conv1.weight      | Shape: torch.Size([32, 32, 3]) | Parameters: 3072 | require_grad: True\n",
      "Mean Value: -0.00039476080564782023 | Grad: None\n",
      "--------------------------------------------------------------------------------\n",
      "tcn_layers.2.conv1.bias        | Shape: torch.Size([32]) | Parameters: 32 | require_grad: True\n",
      "Mean Value: 0.007115405984222889 | Grad: None\n",
      "--------------------------------------------------------------------------------\n",
      "tcn_layers.2.conv2.weight      | Shape: torch.Size([32, 32, 3]) | Parameters: 3072 | require_grad: True\n",
      "Mean Value: 0.0002899043611250818 | Grad: None\n",
      "--------------------------------------------------------------------------------\n",
      "tcn_layers.2.conv2.bias        | Shape: torch.Size([32]) | Parameters: 32 | require_grad: True\n",
      "Mean Value: 0.00973075907677412 | Grad: None\n",
      "--------------------------------------------------------------------------------\n",
      "tcn_layers.2.norm1.weight      | Shape: torch.Size([32]) | Parameters: 32 | require_grad: True\n",
      "Mean Value: 0.7250708937644958 | Grad: None\n",
      "--------------------------------------------------------------------------------\n",
      "tcn_layers.2.norm1.bias        | Shape: torch.Size([32]) | Parameters: 32 | require_grad: True\n",
      "Mean Value: 0.0 | Grad: None\n",
      "--------------------------------------------------------------------------------\n",
      "tcn_layers.2.norm2.weight      | Shape: torch.Size([32]) | Parameters: 32 | require_grad: True\n",
      "Mean Value: 0.7250708937644958 | Grad: None\n",
      "--------------------------------------------------------------------------------\n",
      "tcn_layers.2.norm2.bias        | Shape: torch.Size([32]) | Parameters: 32 | require_grad: True\n",
      "Mean Value: 0.0 | Grad: None\n",
      "--------------------------------------------------------------------------------\n",
      "tcn_layers.3.conv1.weight      | Shape: torch.Size([32, 32, 3]) | Parameters: 3072 | require_grad: True\n",
      "Mean Value: -0.0014064543647691607 | Grad: None\n",
      "--------------------------------------------------------------------------------\n",
      "tcn_layers.3.conv1.bias        | Shape: torch.Size([32]) | Parameters: 32 | require_grad: True\n",
      "Mean Value: -0.007523716427385807 | Grad: None\n",
      "--------------------------------------------------------------------------------\n",
      "tcn_layers.3.conv2.weight      | Shape: torch.Size([32, 32, 3]) | Parameters: 3072 | require_grad: True\n",
      "Mean Value: 0.001064628828316927 | Grad: None\n",
      "--------------------------------------------------------------------------------\n",
      "tcn_layers.3.conv2.bias        | Shape: torch.Size([32]) | Parameters: 32 | require_grad: True\n",
      "Mean Value: -0.003396123182028532 | Grad: None\n",
      "--------------------------------------------------------------------------------\n",
      "tcn_layers.3.norm1.weight      | Shape: torch.Size([32]) | Parameters: 32 | require_grad: True\n",
      "Mean Value: 0.7250708937644958 | Grad: None\n",
      "--------------------------------------------------------------------------------\n",
      "tcn_layers.3.norm1.bias        | Shape: torch.Size([32]) | Parameters: 32 | require_grad: True\n",
      "Mean Value: 0.0 | Grad: None\n",
      "--------------------------------------------------------------------------------\n",
      "tcn_layers.3.norm2.weight      | Shape: torch.Size([32]) | Parameters: 32 | require_grad: True\n",
      "Mean Value: 0.7250708937644958 | Grad: None\n",
      "--------------------------------------------------------------------------------\n",
      "tcn_layers.3.norm2.bias        | Shape: torch.Size([32]) | Parameters: 32 | require_grad: True\n",
      "Mean Value: 0.0 | Grad: None\n",
      "--------------------------------------------------------------------------------\n",
      "output_layer.2.weight          | Shape: torch.Size([1, 32]) | Parameters: 32 | require_grad: True\n",
      "Mean Value: -0.01627126708626747 | Grad: None\n",
      "--------------------------------------------------------------------------------\n",
      "output_layer.2.bias            | Shape: torch.Size([1]) | Parameters: 1 | require_grad: True\n",
      "Mean Value: -0.006718548014760017 | Grad: None\n",
      "--------------------------------------------------------------------------------\n"
     ]
    }
   ],
   "source": [
    "from train import trainModel\n",
    "from config import NUM_EPOCHS, BATCH_SIZE, LR, LSTM_SAVE_DIR\n",
    "import pyepo\n",
    "import torch \n",
    "import os\n",
    "\n",
    "lstm_save_path = os.path.join(LSTM_SAVE_DIR, \"trial_7_assets_TCN.pt\")\n",
    "\"\"\"\n",
    "lstm_eval = TwoLayerLSTM(k=K, hidden_dim=HIDDEN_DIM, lstm_hidden_dim=LSTM_HIDDEN_DIM, dropout_rate=DROPOUT_RATE).to(DEVICE)\n",
    "\n",
    "\"\"\"\n",
    "\n",
    "lstm_eval = TCNModel(k=K, hidden_dim=HIDDEN_DIM, num_layers=4, dropout_rate=DROPOUT_RATE).to(DEVICE)\n",
    "\n",
    "\n",
    "\n",
    "checkpoint = torch.load(lstm_save_path, map_location=DEVICE, weights_only=False)\n",
    "lstm_eval.load_state_dict(checkpoint['model_state_dict'])\n",
    "print(\"Model architecture after training:\")\n",
    "for name, param in lstm_eval.named_parameters():\n",
    "    print(f\"{name:30s} | Shape: {param.data.shape} | Parameters: {param.numel()} | require_grad: {param.requires_grad}\")\n",
    "    print(f\"Mean Value: {param.data.mean()} | Grad: {param.grad}\")\n",
    "    print(\"-\" * 80)"
   ]
  },
  {
   "cell_type": "code",
   "execution_count": 7,
   "id": "7ce42f03-cce8-4aac-9e6f-89205e64350a",
   "metadata": {},
   "outputs": [
    {
     "name": "stdout",
     "output_type": "stream",
     "text": [
      "预测的收益率矩阵形状是: (26202, 7)\n"
     ]
    }
   ],
   "source": [
    "import numpy as np\n",
    "# set lstm to evaluation mode\n",
    "lstm_eval.eval()\n",
    "\n",
    "pred_returns = [] # predicted returns\n",
    "with torch.no_grad():\n",
    "    for x, _, _, _ in loader_test:\n",
    "        # 1. 预测 returns\n",
    "        x = x.to(DEVICE)                      # (batch_size, N, lookback, k)\n",
    "        pred_return = lstm_eval(x)                   # (batch_size, N)\n",
    "        pred_return = pred_return.cpu().numpy()             # 转成ndarray\n",
    "        pred_returns.append(pred_return)\n",
    "\n",
    "pred_returns = np.vstack(pred_returns) # (T, N)\n",
    "print(f\"预测的收益率矩阵形状是: {pred_returns.shape}\")"
   ]
  },
  {
   "cell_type": "code",
   "execution_count": 8,
   "id": "c9d1375b-552d-45db-a5e3-d3fc3ed905e3",
   "metadata": {},
   "outputs": [
    {
     "name": "stdout",
     "output_type": "stream",
     "text": [
      "标准化前的统计:\n",
      "  全局均值: -0.749362\n",
      "  正数比例: 0.0%\n",
      "标准化后的统计:\n",
      "  全局均值: 0.000000\n",
      "  正数比例: 51.9%\n"
     ]
    }
   ],
   "source": [
    "print(\"标准化前的统计:\")\n",
    "print(f\"  全局均值: {np.mean(pred_returns):.6f}\")\n",
    "print(f\"  正数比例: {(pred_returns > 0).mean()*100:.1f}%\")\n",
    "\n",
    "# 对每个时间步进行横截面标准化\n",
    "mean_cross_section = np.mean(pred_returns, axis=1, keepdims=True)  # (T, 1)\n",
    "std_cross_section = np.std(pred_returns, axis=1, keepdims=True)    # (T, 1)\n",
    "pred_returns_standardized = (pred_returns - mean_cross_section) / (std_cross_section + 1e-8)\n",
    "\n",
    "print(\"标准化后的统计:\")\n",
    "print(f\"  全局均值: {np.mean(pred_returns_standardized):.6f}\")\n",
    "print(f\"  正数比例: {(pred_returns_standardized > 0).mean()*100:.1f}%\")"
   ]
  },
  {
   "cell_type": "code",
   "execution_count": 9,
   "id": "85fd3154-c36e-4d7b-8cd1-f98511f26d7b",
   "metadata": {},
   "outputs": [
    {
     "name": "stdout",
     "output_type": "stream",
     "text": [
      "测试集feature的形状是: (26202, 7, 21)\n"
     ]
    }
   ],
   "source": [
    "feats_test = np.load(\"test_data/features_crypto_data.npy\")\n",
    "print(f\"测试集feature的形状是: {feats_test.shape}\")"
   ]
  },
  {
   "cell_type": "code",
   "execution_count": 10,
   "id": "8af8b8ca-21da-4771-8bf7-2402da80022d",
   "metadata": {},
   "outputs": [
    {
     "name": "stderr",
     "output_type": "stream",
     "text": [
      "Testing Solutions: 100%|██████████| 3276/3276 [00:40<00:00, 81.75batch/s]\n"
     ]
    }
   ],
   "source": [
    "### 优化器\n",
    "from config import PRECOMPUTE_BATCH_SIZE, LOOKBACK, PADDING_METHOD\n",
    "from batch_runner import process_and_combine_shared\n",
    "\n",
    "\n",
    "#dataset_dict_test = process_and_combine_shared(feats_test, pred_returns, batch_size=PRECOMPUTE_BATCH_SIZE, **params)\n",
    "from test_regret import sequential_solutions\n",
    "\n",
    "positions=sequential_solutions(predmodel=lstm_eval,params_testing=params_testing, dataloader=loader_test)"
   ]
  },
  {
   "cell_type": "code",
   "execution_count": 11,
   "id": "05197fff-6520-4dc4-8664-ad8d2fd3281f",
   "metadata": {},
   "outputs": [
    {
     "name": "stdout",
     "output_type": "stream",
     "text": [
      "测试集仓位的形状是: (26202, 7)\n"
     ]
    }
   ],
   "source": [
    "# 测试集仓位\n",
    "#positions = dataset_dict_test[\"sols\"]\n",
    "positions=np.array(positions)\n",
    "print(f\"测试集仓位的形状是: {positions.shape}\")"
   ]
  },
  {
   "cell_type": "code",
   "execution_count": 12,
   "id": "6814dfb7-5225-4d53-80f7-56cd8703910a",
   "metadata": {},
   "outputs": [
    {
     "name": "stdout",
     "output_type": "stream",
     "text": [
      "pnl series的长度是: 26202\n"
     ]
    }
   ],
   "source": [
    "pnl_series = []\n",
    "for i in range(len(positions)):\n",
    "    pnl = np.nansum(positions[i] * test_dataset_dict[\"costs\"][i])\n",
    "    pnl_series.append(pnl)\n",
    "print(f\"pnl series的长度是: {len(pnl_series)}\")"
   ]
  },
  {
   "cell_type": "code",
   "execution_count": 13,
   "id": "becb6a03-29fc-4601-94e4-e340b6ef5687",
   "metadata": {},
   "outputs": [
    {
     "data": {
      "image/png": "[encoded data removed]",
      "text/plain": [
       "<Figure size 1000x600 with 1 Axes>"
      ]
     },
     "metadata": {},
     "output_type": "display_data"
    }
   ],
   "source": [
    "import matplotlib.pyplot as plt\n",
    "import pandas as pd\n",
    "\n",
    "def plot_cum_pnl_series(pnl_series, title='Cumulative PnL', figsize=(10, 6)):\n",
    "    \"\"\"\n",
    "    绘制累计 PnL 曲线。\n",
    "\n",
    "    参数\n",
    "    -----\n",
    "    pnl_series : pandas.Series\n",
    "        每期的 PnL 序列，索引为日期或时间点。\n",
    "    title : str, optional\n",
    "        图表标题，默认 'Cumulative PnL'。\n",
    "    figsize : tuple, optional\n",
    "        图表大小，默认为 (10, 6)。\n",
    "    \"\"\"\n",
    "    # 计算累计 PnL\n",
    "    cum_pnl = pd.Series(pnl_series).cumsum()\n",
    "\n",
    "    # 绘图\n",
    "    plt.figure(figsize=figsize)\n",
    "    plt.plot(np.arange(len(cum_pnl)), cum_pnl.values, linewidth=2)\n",
    "    plt.title(title)\n",
    "    plt.xlabel('Date')\n",
    "    plt.ylabel('Cumulative PnL')\n",
    "    plt.grid(True)\n",
    "    plt.tight_layout()\n",
    "    plt.show()\n",
    "\n",
    "plot_cum_pnl_series(pnl_series)\n"
   ]
  },
  {
   "cell_type": "code",
   "execution_count": 14,
   "id": "bd59883c-7f8b-451d-b436-14f857f44775",
   "metadata": {},
   "outputs": [],
   "source": [
    "import matplotlib.pyplot as plt\n",
    "import numpy as np\n",
    "\n",
    "# 智能检测你的数据格式\n",
    "def smart_pnl_plot(pred_returns):\n",
    "    \n",
    "    # 转换为numpy数组\n",
    "    if hasattr(pred_returns, 'cpu'):\n",
    "        data = pred_returns.cpu().numpy()\n",
    "    else:\n",
    "        data = np.array(pred_returns)\n",
    "    \n",
    "    print(f\"数据形状: {data.shape}\")\n",
    "    \n",
    "    if data.ndim == 2:\n",
    "        # 判断是 (时间, 资产) 还是 (资产, 时间)\n",
    "        if data.shape[0] > data.shape[1]:\n",
    "            # 假设是 (时间, 资产)\n",
    "            print(\"格式: (时间, 资产)\")\n",
    "            avg_returns = np.mean(data, axis=1)  # 每个时间步的平均收益\n",
    "        else:\n",
    "            # 假设是 (资产, 时间)\n",
    "            print(\"格式: (资产, 时间)\")\n",
    "            avg_returns = np.mean(data, axis=0)  # 每个时间步的平均收益\n",
    "    else:\n",
    "        print(f\"数据维度: {data.ndim}\")\n",
    "        return None\n",
    "    \n",
    "    # 计算累计PnL\n",
    "    pnl = np.cumsum(avg_returns)\n",
    "    \n",
    "    # 绘图\n",
    "    plt.figure(figsize=(12, 6))\n",
    "    plt.plot(pnl, linewidth=2)\n",
    "    plt.axhline(y=0, color='red', linestyle='--', alpha=0.7)\n",
    "    plt.title('Portfolio PnL')\n",
    "    plt.xlabel('Time')\n",
    "    plt.ylabel('Cumulative PnL')\n",
    "    plt.grid(True, alpha=0.3)\n",
    "    plt.show()\n",
    "    \n",
    "    print(f\"最终PnL: {pnl[-1]:.6f}\")\n",
    "    return pnl\n",
    "\n"
   ]
  },
  {
   "cell_type": "code",
   "execution_count": 15,
   "id": "cc917985-2d3f-484f-9eae-3ccea2c0b966",
   "metadata": {},
   "outputs": [
    {
     "name": "stdout",
     "output_type": "stream",
     "text": [
      "数据形状: (26202, 7)\n",
      "格式: (时间, 资产)\n"
     ]
    },
    {
     "data": {
      "image/png": "[encoded data removed]",
      "text/plain": [
       "<Figure size 1200x600 with 1 Axes>"
      ]
     },
     "metadata": {},
     "output_type": "display_data"
    },
    {
     "name": "stdout",
     "output_type": "stream",
     "text": [
      "最终PnL: 0.000060\n"
     ]
    },
    {
     "data": {
      "text/plain": [
       "array([-2.3841858e-06, -1.5497208e-06, -1.5497208e-06, ...,\n",
       "        5.9285012e-05,  5.9370162e-05,  5.9693732e-05], dtype=float32)"
      ]
     },
     "execution_count": 15,
     "metadata": {},
     "output_type": "execute_result"
    }
   ],
   "source": [
    "# 使用你的数据\n",
    "smart_pnl_plot(pred_returns_standardized)"
   ]
  },
  {
   "cell_type": "code",
   "execution_count": 16,
   "id": "54a566ea-c50d-4beb-8ec2-02126fbdf55f",
   "metadata": {},
   "outputs": [
    {
     "name": "stdout",
     "output_type": "stream",
     "text": [
      "数据形状: (26202, 7)\n",
      "格式: (时间, 资产)\n"
     ]
    },
    {
     "data": {
      "image/png": "[encoded data removed]",
      "text/plain": [
       "<Figure size 1200x600 with 1 Axes>"
      ]
     },
     "metadata": {},
     "output_type": "display_data"
    },
    {
     "name": "stdout",
     "output_type": "stream",
     "text": [
      "最终PnL: -6.370303\n"
     ]
    },
    {
     "data": {
      "text/plain": [
       "array([ 4.75714733e-03,  1.18718942e-02,  1.95656731e-02, ...,\n",
       "       -6.36153677e+00, -6.36617806e+00, -6.37030327e+00])"
      ]
     },
     "execution_count": 16,
     "metadata": {},
     "output_type": "execute_result"
    }
   ],
   "source": [
    "# 使用你的数据\n",
    "smart_pnl_plot(test_dataset_dict[\"costs\"])"
   ]
  },
  {
   "cell_type": "code",
   "execution_count": null,
   "id": "cbaa786b-dfed-454a-b869-45a01da36feb",
   "metadata": {},
   "outputs": [],
   "source": []
  },
  {
   "cell_type": "code",
   "execution_count": null,
   "id": "6f4aceb3-9b5a-4364-b5c1-fed3c6371617",
   "metadata": {},
   "outputs": [],
   "source": []
  },
  {
   "cell_type": "code",
   "execution_count": null,
   "id": "d9f1773e-3d56-4660-ba17-bef86a8e29ff",
   "metadata": {},
   "outputs": [],
   "source": []
  }
 ],
 "metadata": {
  "kernelspec": {
   "display_name": "myenv [~/.conda/envs/myenv/]",
   "language": "python",
   "name": "conda_myenv"
  },
  "language_info": {
   "codemirror_mode": {
    "name": "ipython",
    "version": 3
   },
   "file_extension": ".py",
   "mimetype": "text/x-python",
   "name": "python",
   "nbconvert_exporter": "python",
   "pygments_lexer": "ipython3",
   "version": "3.11.11"
  }
 },
 "nbformat": 4,
 "nbformat_minor": 5
}
